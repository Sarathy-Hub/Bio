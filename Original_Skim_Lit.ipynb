{
  "cells": [
    {
      "cell_type": "markdown",
      "metadata": {
        "id": "view-in-github",
        "colab_type": "text"
      },
      "source": [
        "<a href=\"https://colab.research.google.com/github/Sarathy-Hub/Bio/blob/main/Original_Skim_Lit.ipynb\" target=\"_parent\"><img src=\"https://colab.research.google.com/assets/colab-badge.svg\" alt=\"Open In Colab\"/></a>"
      ]
    },
    {
      "cell_type": "markdown",
      "metadata": {
        "id": "pODYc_eJ9LII"
      },
      "source": [
        "# **SkimLit** Model 📄\n",
        "\n",
        "**What are we doing?**\n",
        "> We are building an NLP model using Deep Learning that will make PubMed abstracts easier to read, comprehend and interpret\n",
        "\n",
        "* The paper that we are replicating first is **PubMed 200k RCT: a Dataset for Sequential Sentence Classification in Medical Abstracts** at https://arxiv.org/abs/1710.06071\n",
        "\n",
        "* The architecture that is used in the above paper comes from another paper titled  **Neural Networks for Joint Sentence Classification\n",
        "in Medical Paper Abstracts** at https://arxiv.org/pdf/1612.05251.pdf"
      ]
    },
    {
      "cell_type": "markdown",
      "metadata": {
        "id": "L-vCDl7i-EXX"
      },
      "source": [
        "## Get the Data"
      ]
    },
    {
      "cell_type": "markdown",
      "metadata": {
        "id": "mXEkrYiO_OG8"
      },
      "source": [
        "Since we will be replicating the paper that is mentioned above initially, we need to get access to the dataset that have used for their paper. That dataset is publicly avaialble on the GitHub: https://github.com/Franck-Dernoncourt/pubmed-rct\n",
        "\n",
        "So, let's take the data from the GitHub into the Colab Notebook"
      ]
    },
    {
      "cell_type": "code",
      "execution_count": null,
      "metadata": {
        "colab": {
          "base_uri": "https://localhost:8080/"
        },
        "id": "jq-pYIWD9Gcy",
        "outputId": "e49acc42-7794-4953-ecc8-e4741e640046"
      },
      "outputs": [
        {
          "output_type": "stream",
          "name": "stdout",
          "text": [
            "Cloning into 'pubmed-rct'...\n",
            "remote: Enumerating objects: 39, done.\u001b[K\n",
            "remote: Counting objects: 100% (14/14), done.\u001b[K\n",
            "remote: Compressing objects: 100% (9/9), done.\u001b[K\n",
            "remote: Total 39 (delta 8), reused 5 (delta 5), pack-reused 25\u001b[K\n",
            "Receiving objects: 100% (39/39), 177.08 MiB | 29.25 MiB/s, done.\n",
            "Resolving deltas: 100% (15/15), done.\n",
            "Updating files: 100% (13/13), done.\n",
            "PubMed_200k_RCT\t\t\t\t       PubMed_20k_RCT_numbers_replaced_with_at_sign\n",
            "PubMed_200k_RCT_numbers_replaced_with_at_sign  README.md\n",
            "PubMed_20k_RCT\n"
          ]
        }
      ],
      "source": [
        "!git clone https://github.com/Franck-Dernoncourt/pubmed-rct\n",
        "!ls pubmed-rct"
      ]
    },
    {
      "cell_type": "markdown",
      "metadata": {
        "id": "Sh7QHYvL_tU5"
      },
      "source": [
        "**Note**\n",
        "\n",
        "* `PubMed_200k_RCT` is the total raw dataset\n",
        "* `PubMed_200k_RCT_numbers_replaced_with_at_sign` is the preprocessed version of the above dataset where the numbers are replaced with the @ sign\n",
        "* `PubMed_20k_RCT` is the subset of the initial full dataset\n",
        "* `PubMed_20k_RCT_numbers_replaced_with_at_sign` is the preprocessed version of the above dataset"
      ]
    },
    {
      "cell_type": "code",
      "execution_count": null,
      "metadata": {
        "colab": {
          "base_uri": "https://localhost:8080/"
        },
        "id": "qIeLabwL_pB3",
        "outputId": "3637b605-c536-4e43-b186-894f4ac56fc8"
      },
      "outputs": [
        {
          "output_type": "stream",
          "name": "stdout",
          "text": [
            "dev.txt  test.txt  train.txt\n"
          ]
        }
      ],
      "source": [
        "# Let us start by exploring the subset preprocessed dataset\n",
        "\n",
        "!ls pubmed-rct/PubMed_20k_RCT_numbers_replaced_with_at_sign/"
      ]
    },
    {
      "cell_type": "code",
      "execution_count": null,
      "metadata": {
        "id": "BnBWJdmCATO5"
      },
      "outputs": [],
      "source": [
        "# We are going to start our experimental modelling with the PubMed_20K model where numbers are replaced with @ sign\n",
        "# Create the data directory\n",
        "data_dir = '/content/pubmed-rct/PubMed_20k_RCT_numbers_replaced_with_at_sign/'"
      ]
    },
    {
      "cell_type": "code",
      "execution_count": null,
      "metadata": {
        "colab": {
          "base_uri": "https://localhost:8080/"
        },
        "id": "5wetP8mHB6C-",
        "outputId": "14dc8faf-46bb-4737-8908-cf64df877b4d"
      },
      "outputs": [
        {
          "output_type": "execute_result",
          "data": {
            "text/plain": [
              "['/content/pubmed-rct/PubMed_20k_RCT_numbers_replaced_with_at_sign/dev.txt',\n",
              " '/content/pubmed-rct/PubMed_20k_RCT_numbers_replaced_with_at_sign/test.txt',\n",
              " '/content/pubmed-rct/PubMed_20k_RCT_numbers_replaced_with_at_sign/train.txt']"
            ]
          },
          "metadata": {},
          "execution_count": 4
        }
      ],
      "source": [
        "# Get all the filenames present in the data directory\n",
        "import os\n",
        "filenames = [data_dir + filename for filename in os.listdir(data_dir)]\n",
        "filenames"
      ]
    },
    {
      "cell_type": "markdown",
      "metadata": {
        "id": "4ziWbZjoE8q3"
      },
      "source": [
        "## Pre-process the data\n",
        "\n",
        "After we have got the data from the GitHub, the next step is to become one with the data, which means we have to **VISUALISE** the data in all ways that we can\n",
        "\n",
        "One way to visualize the data that is given in the files of the `train.txt` is to read all the lines that is present in the file"
      ]
    },
    {
      "cell_type": "code",
      "execution_count": null,
      "metadata": {
        "id": "MspbzoK6CKAU"
      },
      "outputs": [],
      "source": [
        "# Create a function that will read all the lines present in a text file and retrun them in the form of a list\n",
        "\n",
        "def read_lines (filename):\n",
        "  '''\n",
        "  Takes a filename as an input and reads all the lines that are present in the file and returns them in the form a list\n",
        "\n",
        "  Args\n",
        "    filename (str): Name of the text file\n",
        "\n",
        "  Returns:\n",
        "    A list containing all the lines of the file\n",
        "  '''\n",
        "\n",
        "  with open(filename, \"r\") as f:\n",
        "    return f.readlines()"
      ]
    },
    {
      "cell_type": "code",
      "execution_count": null,
      "metadata": {
        "colab": {
          "base_uri": "https://localhost:8080/"
        },
        "id": "UliLoa7xF5Nq",
        "outputId": "10676579-cbbc-4833-8bae-dc44a153a308"
      },
      "outputs": [
        {
          "output_type": "execute_result",
          "data": {
            "text/plain": [
              "['###24293578\\n',\n",
              " 'OBJECTIVE\\tTo investigate the efficacy of @ weeks of daily low-dose oral prednisolone in improving pain , mobility , and systemic low-grade inflammation in the short term and whether the effect would be sustained at @ weeks in older adults with moderate to severe knee osteoarthritis ( OA ) .\\n',\n",
              " 'METHODS\\tA total of @ patients with primary knee OA were randomized @:@ ; @ received @ mg/day of prednisolone and @ received placebo for @ weeks .\\n',\n",
              " 'METHODS\\tOutcome measures included pain reduction and improvement in function scores and systemic inflammation markers .\\n',\n",
              " 'METHODS\\tPain was assessed using the visual analog pain scale ( @-@ mm ) .\\n',\n",
              " 'METHODS\\tSecondary outcome measures included the Western Ontario and McMaster Universities Osteoarthritis Index scores , patient global assessment ( PGA ) of the severity of knee OA , and @-min walk distance ( @MWD ) .\\n',\n",
              " 'METHODS\\tSerum levels of interleukin @ ( IL-@ ) , IL-@ , tumor necrosis factor ( TNF ) - , and high-sensitivity C-reactive protein ( hsCRP ) were measured .\\n',\n",
              " 'RESULTS\\tThere was a clinically relevant reduction in the intervention group compared to the placebo group for knee pain , physical function , PGA , and @MWD at @ weeks .\\n',\n",
              " 'RESULTS\\tThe mean difference between treatment arms ( @ % CI ) was @ ( @-@ @ ) , p < @ ; @ ( @-@ @ ) , p < @ ; @ ( @-@ @ ) , p < @ ; and @ ( @-@ @ ) , p < @ , respectively .\\n',\n",
              " 'RESULTS\\tFurther , there was a clinically relevant reduction in the serum levels of IL-@ , IL-@ , TNF - , and hsCRP at @ weeks in the intervention group when compared to the placebo group .\\n',\n",
              " 'RESULTS\\tThese differences remained significant at @ weeks .\\n',\n",
              " 'RESULTS\\tThe Outcome Measures in Rheumatology Clinical Trials-Osteoarthritis Research Society International responder rate was @ % in the intervention group and @ % in the placebo group ( p < @ ) .\\n',\n",
              " 'CONCLUSIONS\\tLow-dose oral prednisolone had both a short-term and a longer sustained effect resulting in less knee pain , better physical function , and attenuation of systemic inflammation in older patients with knee OA ( ClinicalTrials.gov identifier NCT@ ) .\\n',\n",
              " '\\n',\n",
              " '###24854809\\n',\n",
              " 'BACKGROUND\\tEmotional eating is associated with overeating and the development of obesity .\\n',\n",
              " 'BACKGROUND\\tYet , empirical evidence for individual ( trait ) differences in emotional eating and cognitive mechanisms that contribute to eating during sad mood remain equivocal .\\n',\n",
              " 'OBJECTIVE\\tThe aim of this study was to test if attention bias for food moderates the effect of self-reported emotional eating during sad mood ( vs neutral mood ) on actual food intake .\\n',\n",
              " 'OBJECTIVE\\tIt was expected that emotional eating is predictive of elevated attention for food and higher food intake after an experimentally induced sad mood and that attentional maintenance on food predicts food intake during a sad versus a neutral mood .\\n',\n",
              " 'METHODS\\tParticipants ( N = @ ) were randomly assigned to one of the two experimental mood induction conditions ( sad/neutral ) .\\n']"
            ]
          },
          "metadata": {},
          "execution_count": 6
        }
      ],
      "source": [
        "# Read all the lines in the file train.txt\n",
        "\n",
        "train_lines = read_lines (data_dir + \"train.txt\")\n",
        "\n",
        "# Look at the first 20 lines of the file\n",
        "train_lines[:20]"
      ]
    },
    {
      "cell_type": "markdown",
      "metadata": {
        "id": "Bp3yzSz-GMPr"
      },
      "source": [
        "**Note**\n",
        "\n",
        "In the file, before every abstract there is a number preceeded by a '#' and after every after abstract, there is a newline `\\n` character.\n",
        "\n",
        "So, our aim is to convert this into a form that can be fed into a model"
      ]
    },
    {
      "cell_type": "code",
      "execution_count": null,
      "metadata": {
        "colab": {
          "base_uri": "https://localhost:8080/"
        },
        "id": "LiWw3SHCGK4Q",
        "outputId": "6877ff62-23c0-4a77-b8f9-39d5f4a5b1a4"
      },
      "outputs": [
        {
          "output_type": "execute_result",
          "data": {
            "text/plain": [
              "210040"
            ]
          },
          "metadata": {},
          "execution_count": 7
        }
      ],
      "source": [
        "len(train_lines)"
      ]
    },
    {
      "cell_type": "markdown",
      "metadata": {
        "id": "kU1upMzkH5vF"
      },
      "source": [
        "**What do I want my data to actually llook like**\n",
        "\n",
        "The `.readlines()` function that ran above returns the data in a very raw form.\n",
        "\n",
        "However, I would want the data to be a list of dictionaries for each line / each element in the list that gets returned by the `read_lines()` function\n",
        "\n",
        "```\n",
        "[\n",
        "  {\n",
        "    'line_number': 0,\n",
        "    'target': 'OBJECTIVE',\n",
        "    'text': \"To investigate the efficacy of @ weeks of daily low-dose oral prednisolone in improving pain , mobility , and systemic low-grade inflammation in the short term and whether the effect would be sustained at @ weeks in older adults with moderate to severe knee osteoarthritis ( OA ) .\\n\",\n",
        "    'total_lines': 11\n",
        "  }\n",
        "]\n",
        "```"
      ]
    },
    {
      "cell_type": "markdown",
      "metadata": {
        "id": "L0qDu1k4Itxb"
      },
      "source": [
        "In the above dictionary, the `total_lines` property is the total number of lines in an abstract"
      ]
    },
    {
      "cell_type": "markdown",
      "metadata": {
        "id": "jBwYbQNkMwKU"
      },
      "source": [
        "### How to exactly pre-process this data?\n",
        "\n",
        "* For each abstract, it starts with a ###, so check if the line starts with the ### if it does, then that is your abstract ID, this will help you keep track of the number of lines in the abstract\n",
        "\n",
        "* Each abstract ends with the `\\n` or the whitespace, so check for the whitespace and if the condition satisfies, it means we are the end of an abstract.\n",
        "> So record each line in that abstract and sperate the `target` from the main `text`"
      ]
    },
    {
      "cell_type": "code",
      "execution_count": null,
      "metadata": {
        "id": "OLIpHWdkGiSg"
      },
      "outputs": [],
      "source": [
        "# Create the preprocessing function that does the work of sampling data into our required form\n",
        "\n",
        "def preprocess_abstract_lines (filename):\n",
        "  \"\"\"Returns a list of dictionaries of abstract line data.\n",
        "\n",
        "  Takes in filename, reads its contents and sorts through each line,\n",
        "  extracting things like the target label, the text of the sentence,\n",
        "  how many sentences are in the current abstract and what sentence number\n",
        "  the target line is.\n",
        "\n",
        "  Args:\n",
        "      filename: a string of the target text file to read and extract line data\n",
        "      from.\n",
        "\n",
        "  Returns:\n",
        "      A list of dictionaries each containing a line from an abstract,\n",
        "      the lines label, the lines position in the abstract and the total number\n",
        "      of lines in the abstract where the line is from. For example:\n",
        "\n",
        "      [{\"target\": 'CONCLUSION',\n",
        "        \"text\": The study couldn't have gone better, turns out people are kinder than you think\",\n",
        "        \"line_number\": 8,\n",
        "        \"total_lines\": 8}]\n",
        "  \"\"\"\n",
        "\n",
        "  # Get all the lines from the filename\n",
        "  input_lines = read_lines(filename)\n",
        "\n",
        "  # Create an empty abstract\n",
        "  abstract_lines = \"\"\n",
        "\n",
        "  # Create the list which will store the dictionaries\n",
        "  abstract_samples = []\n",
        "\n",
        "  # Loop through each line in the target file\n",
        "  for line in input_lines:\n",
        "    if line.startswith('###'):\n",
        "      # check to see if the line starts with ###\n",
        "      abs_id = line\n",
        "      abstract_lines = \"\"\n",
        "    elif line.isspace():\n",
        "      abstract_line_split = abstract_lines.splitlines()\n",
        "\n",
        "      for abstract_line_number, abstract_line in enumerate(abstract_line_split):\n",
        "        line_data = {}\n",
        "\n",
        "        target_text_split = abstract_line.split('\\t')\n",
        "        line_data[\"target\"] = target_text_split[0]\n",
        "        line_data[\"text\"] = target_text_split[1].lower()\n",
        "        line_data[\"line_number\"] = abstract_line_number\n",
        "        line_data[\"total_lines_in_abstract\"] = len(abstract_line_split) - 1\n",
        "        abstract_samples.append (line_data)\n",
        "    else:\n",
        "      abstract_lines += line\n",
        "\n",
        "\n",
        "  return abstract_samples\n"
      ]
    },
    {
      "cell_type": "code",
      "execution_count": null,
      "metadata": {
        "colab": {
          "base_uri": "https://localhost:8080/"
        },
        "id": "J1PFixRNQChx",
        "outputId": "6a079938-e890-4583-a15b-fdf6f817e3a8"
      },
      "outputs": [
        {
          "output_type": "stream",
          "name": "stdout",
          "text": [
            "CPU times: user 751 ms, sys: 164 ms, total: 915 ms\n",
            "Wall time: 940 ms\n"
          ]
        },
        {
          "output_type": "execute_result",
          "data": {
            "text/plain": [
              "(180040, 30212, 30135)"
            ]
          },
          "metadata": {},
          "execution_count": 9
        }
      ],
      "source": [
        "# Get data from file and preprocess it\n",
        "%%time\n",
        "train_samples = preprocess_abstract_lines(data_dir + \"train.txt\")\n",
        "val_samples = preprocess_abstract_lines(data_dir + \"dev.txt\") # dev is another name for validation set\n",
        "test_samples = preprocess_abstract_lines(data_dir + \"test.txt\")\n",
        "len(train_samples), len(val_samples), len(test_samples)"
      ]
    },
    {
      "cell_type": "code",
      "execution_count": null,
      "metadata": {
        "colab": {
          "base_uri": "https://localhost:8080/"
        },
        "id": "x8HG8QTJQGT4",
        "outputId": "12fa9849-9310-4f7f-a3b7-1b486c5440a7"
      },
      "outputs": [
        {
          "output_type": "execute_result",
          "data": {
            "text/plain": [
              "[{'target': 'OBJECTIVE',\n",
              "  'text': 'to investigate the efficacy of @ weeks of daily low-dose oral prednisolone in improving pain , mobility , and systemic low-grade inflammation in the short term and whether the effect would be sustained at @ weeks in older adults with moderate to severe knee osteoarthritis ( oa ) .',\n",
              "  'line_number': 0,\n",
              "  'total_lines_in_abstract': 11},\n",
              " {'target': 'METHODS',\n",
              "  'text': 'a total of @ patients with primary knee oa were randomized @:@ ; @ received @ mg/day of prednisolone and @ received placebo for @ weeks .',\n",
              "  'line_number': 1,\n",
              "  'total_lines_in_abstract': 11},\n",
              " {'target': 'METHODS',\n",
              "  'text': 'outcome measures included pain reduction and improvement in function scores and systemic inflammation markers .',\n",
              "  'line_number': 2,\n",
              "  'total_lines_in_abstract': 11},\n",
              " {'target': 'METHODS',\n",
              "  'text': 'pain was assessed using the visual analog pain scale ( @-@ mm ) .',\n",
              "  'line_number': 3,\n",
              "  'total_lines_in_abstract': 11},\n",
              " {'target': 'METHODS',\n",
              "  'text': 'secondary outcome measures included the western ontario and mcmaster universities osteoarthritis index scores , patient global assessment ( pga ) of the severity of knee oa , and @-min walk distance ( @mwd ) .',\n",
              "  'line_number': 4,\n",
              "  'total_lines_in_abstract': 11},\n",
              " {'target': 'METHODS',\n",
              "  'text': 'serum levels of interleukin @ ( il-@ ) , il-@ , tumor necrosis factor ( tnf ) - , and high-sensitivity c-reactive protein ( hscrp ) were measured .',\n",
              "  'line_number': 5,\n",
              "  'total_lines_in_abstract': 11},\n",
              " {'target': 'RESULTS',\n",
              "  'text': 'there was a clinically relevant reduction in the intervention group compared to the placebo group for knee pain , physical function , pga , and @mwd at @ weeks .',\n",
              "  'line_number': 6,\n",
              "  'total_lines_in_abstract': 11},\n",
              " {'target': 'RESULTS',\n",
              "  'text': 'the mean difference between treatment arms ( @ % ci ) was @ ( @-@ @ ) , p < @ ; @ ( @-@ @ ) , p < @ ; @ ( @-@ @ ) , p < @ ; and @ ( @-@ @ ) , p < @ , respectively .',\n",
              "  'line_number': 7,\n",
              "  'total_lines_in_abstract': 11},\n",
              " {'target': 'RESULTS',\n",
              "  'text': 'further , there was a clinically relevant reduction in the serum levels of il-@ , il-@ , tnf - , and hscrp at @ weeks in the intervention group when compared to the placebo group .',\n",
              "  'line_number': 8,\n",
              "  'total_lines_in_abstract': 11},\n",
              " {'target': 'RESULTS',\n",
              "  'text': 'these differences remained significant at @ weeks .',\n",
              "  'line_number': 9,\n",
              "  'total_lines_in_abstract': 11},\n",
              " {'target': 'RESULTS',\n",
              "  'text': 'the outcome measures in rheumatology clinical trials-osteoarthritis research society international responder rate was @ % in the intervention group and @ % in the placebo group ( p < @ ) .',\n",
              "  'line_number': 10,\n",
              "  'total_lines_in_abstract': 11},\n",
              " {'target': 'CONCLUSIONS',\n",
              "  'text': 'low-dose oral prednisolone had both a short-term and a longer sustained effect resulting in less knee pain , better physical function , and attenuation of systemic inflammation in older patients with knee oa ( clinicaltrials.gov identifier nct@ ) .',\n",
              "  'line_number': 11,\n",
              "  'total_lines_in_abstract': 11},\n",
              " {'target': 'BACKGROUND',\n",
              "  'text': 'emotional eating is associated with overeating and the development of obesity .',\n",
              "  'line_number': 0,\n",
              "  'total_lines_in_abstract': 10},\n",
              " {'target': 'BACKGROUND',\n",
              "  'text': 'yet , empirical evidence for individual ( trait ) differences in emotional eating and cognitive mechanisms that contribute to eating during sad mood remain equivocal .',\n",
              "  'line_number': 1,\n",
              "  'total_lines_in_abstract': 10},\n",
              " {'target': 'OBJECTIVE',\n",
              "  'text': 'the aim of this study was to test if attention bias for food moderates the effect of self-reported emotional eating during sad mood ( vs neutral mood ) on actual food intake .',\n",
              "  'line_number': 2,\n",
              "  'total_lines_in_abstract': 10}]"
            ]
          },
          "metadata": {},
          "execution_count": 10
        }
      ],
      "source": [
        "# Check the first abstract of our training data\n",
        "train_samples[:15]"
      ]
    },
    {
      "cell_type": "markdown",
      "metadata": {
        "id": "CZhaI3oVvcpG"
      },
      "source": [
        "## Explortory Data Analysis"
      ]
    },
    {
      "cell_type": "code",
      "execution_count": null,
      "metadata": {
        "id": "rLplWngJQNqX"
      },
      "outputs": [],
      "source": [
        "# Turn the dictionaries created in the above piece of code into DataFrames so that they can be easily interpreted\n",
        "\n",
        "import pandas as pd\n",
        "\n",
        "train_df = pd.DataFrame (train_samples)\n",
        "val_df = pd.DataFrame (val_samples)\n",
        "test_df = pd.DataFrame (test_samples)"
      ]
    },
    {
      "cell_type": "code",
      "execution_count": null,
      "metadata": {
        "colab": {
          "base_uri": "https://localhost:8080/",
          "height": 363
        },
        "id": "0vR0zh2av542",
        "outputId": "242b57b1-9f1e-44db-9e97-ace7ee0c88e4"
      },
      "outputs": [
        {
          "output_type": "execute_result",
          "data": {
            "text/plain": [
              "      target                                               text  line_number  \\\n",
              "0  OBJECTIVE  to investigate the efficacy of @ weeks of dail...            0   \n",
              "1    METHODS  a total of @ patients with primary knee oa wer...            1   \n",
              "2    METHODS  outcome measures included pain reduction and i...            2   \n",
              "3    METHODS  pain was assessed using the visual analog pain...            3   \n",
              "4    METHODS  secondary outcome measures included the wester...            4   \n",
              "5    METHODS  serum levels of interleukin @ ( il-@ ) , il-@ ...            5   \n",
              "6    RESULTS  there was a clinically relevant reduction in t...            6   \n",
              "7    RESULTS  the mean difference between treatment arms ( @...            7   \n",
              "8    RESULTS  further , there was a clinically relevant redu...            8   \n",
              "9    RESULTS  these differences remained significant at @ we...            9   \n",
              "\n",
              "   total_lines_in_abstract  \n",
              "0                       11  \n",
              "1                       11  \n",
              "2                       11  \n",
              "3                       11  \n",
              "4                       11  \n",
              "5                       11  \n",
              "6                       11  \n",
              "7                       11  \n",
              "8                       11  \n",
              "9                       11  "
            ],
            "text/html": [
              "\n",
              "  <div id=\"df-4777fee0-5dc3-4c6f-91db-9c037f8f32c1\" class=\"colab-df-container\">\n",
              "    <div>\n",
              "<style scoped>\n",
              "    .dataframe tbody tr th:only-of-type {\n",
              "        vertical-align: middle;\n",
              "    }\n",
              "\n",
              "    .dataframe tbody tr th {\n",
              "        vertical-align: top;\n",
              "    }\n",
              "\n",
              "    .dataframe thead th {\n",
              "        text-align: right;\n",
              "    }\n",
              "</style>\n",
              "<table border=\"1\" class=\"dataframe\">\n",
              "  <thead>\n",
              "    <tr style=\"text-align: right;\">\n",
              "      <th></th>\n",
              "      <th>target</th>\n",
              "      <th>text</th>\n",
              "      <th>line_number</th>\n",
              "      <th>total_lines_in_abstract</th>\n",
              "    </tr>\n",
              "  </thead>\n",
              "  <tbody>\n",
              "    <tr>\n",
              "      <th>0</th>\n",
              "      <td>OBJECTIVE</td>\n",
              "      <td>to investigate the efficacy of @ weeks of dail...</td>\n",
              "      <td>0</td>\n",
              "      <td>11</td>\n",
              "    </tr>\n",
              "    <tr>\n",
              "      <th>1</th>\n",
              "      <td>METHODS</td>\n",
              "      <td>a total of @ patients with primary knee oa wer...</td>\n",
              "      <td>1</td>\n",
              "      <td>11</td>\n",
              "    </tr>\n",
              "    <tr>\n",
              "      <th>2</th>\n",
              "      <td>METHODS</td>\n",
              "      <td>outcome measures included pain reduction and i...</td>\n",
              "      <td>2</td>\n",
              "      <td>11</td>\n",
              "    </tr>\n",
              "    <tr>\n",
              "      <th>3</th>\n",
              "      <td>METHODS</td>\n",
              "      <td>pain was assessed using the visual analog pain...</td>\n",
              "      <td>3</td>\n",
              "      <td>11</td>\n",
              "    </tr>\n",
              "    <tr>\n",
              "      <th>4</th>\n",
              "      <td>METHODS</td>\n",
              "      <td>secondary outcome measures included the wester...</td>\n",
              "      <td>4</td>\n",
              "      <td>11</td>\n",
              "    </tr>\n",
              "    <tr>\n",
              "      <th>5</th>\n",
              "      <td>METHODS</td>\n",
              "      <td>serum levels of interleukin @ ( il-@ ) , il-@ ...</td>\n",
              "      <td>5</td>\n",
              "      <td>11</td>\n",
              "    </tr>\n",
              "    <tr>\n",
              "      <th>6</th>\n",
              "      <td>RESULTS</td>\n",
              "      <td>there was a clinically relevant reduction in t...</td>\n",
              "      <td>6</td>\n",
              "      <td>11</td>\n",
              "    </tr>\n",
              "    <tr>\n",
              "      <th>7</th>\n",
              "      <td>RESULTS</td>\n",
              "      <td>the mean difference between treatment arms ( @...</td>\n",
              "      <td>7</td>\n",
              "      <td>11</td>\n",
              "    </tr>\n",
              "    <tr>\n",
              "      <th>8</th>\n",
              "      <td>RESULTS</td>\n",
              "      <td>further , there was a clinically relevant redu...</td>\n",
              "      <td>8</td>\n",
              "      <td>11</td>\n",
              "    </tr>\n",
              "    <tr>\n",
              "      <th>9</th>\n",
              "      <td>RESULTS</td>\n",
              "      <td>these differences remained significant at @ we...</td>\n",
              "      <td>9</td>\n",
              "      <td>11</td>\n",
              "    </tr>\n",
              "  </tbody>\n",
              "</table>\n",
              "</div>\n",
              "    <div class=\"colab-df-buttons\">\n",
              "\n",
              "  <div class=\"colab-df-container\">\n",
              "    <button class=\"colab-df-convert\" onclick=\"convertToInteractive('df-4777fee0-5dc3-4c6f-91db-9c037f8f32c1')\"\n",
              "            title=\"Convert this dataframe to an interactive table.\"\n",
              "            style=\"display:none;\">\n",
              "\n",
              "  <svg xmlns=\"http://www.w3.org/2000/svg\" height=\"24px\" viewBox=\"0 -960 960 960\">\n",
              "    <path d=\"M120-120v-720h720v720H120Zm60-500h600v-160H180v160Zm220 220h160v-160H400v160Zm0 220h160v-160H400v160ZM180-400h160v-160H180v160Zm440 0h160v-160H620v160ZM180-180h160v-160H180v160Zm440 0h160v-160H620v160Z\"/>\n",
              "  </svg>\n",
              "    </button>\n",
              "\n",
              "  <style>\n",
              "    .colab-df-container {\n",
              "      display:flex;\n",
              "      gap: 12px;\n",
              "    }\n",
              "\n",
              "    .colab-df-convert {\n",
              "      background-color: #E8F0FE;\n",
              "      border: none;\n",
              "      border-radius: 50%;\n",
              "      cursor: pointer;\n",
              "      display: none;\n",
              "      fill: #1967D2;\n",
              "      height: 32px;\n",
              "      padding: 0 0 0 0;\n",
              "      width: 32px;\n",
              "    }\n",
              "\n",
              "    .colab-df-convert:hover {\n",
              "      background-color: #E2EBFA;\n",
              "      box-shadow: 0px 1px 2px rgba(60, 64, 67, 0.3), 0px 1px 3px 1px rgba(60, 64, 67, 0.15);\n",
              "      fill: #174EA6;\n",
              "    }\n",
              "\n",
              "    .colab-df-buttons div {\n",
              "      margin-bottom: 4px;\n",
              "    }\n",
              "\n",
              "    [theme=dark] .colab-df-convert {\n",
              "      background-color: #3B4455;\n",
              "      fill: #D2E3FC;\n",
              "    }\n",
              "\n",
              "    [theme=dark] .colab-df-convert:hover {\n",
              "      background-color: #434B5C;\n",
              "      box-shadow: 0px 1px 3px 1px rgba(0, 0, 0, 0.15);\n",
              "      filter: drop-shadow(0px 1px 2px rgba(0, 0, 0, 0.3));\n",
              "      fill: #FFFFFF;\n",
              "    }\n",
              "  </style>\n",
              "\n",
              "    <script>\n",
              "      const buttonEl =\n",
              "        document.querySelector('#df-4777fee0-5dc3-4c6f-91db-9c037f8f32c1 button.colab-df-convert');\n",
              "      buttonEl.style.display =\n",
              "        google.colab.kernel.accessAllowed ? 'block' : 'none';\n",
              "\n",
              "      async function convertToInteractive(key) {\n",
              "        const element = document.querySelector('#df-4777fee0-5dc3-4c6f-91db-9c037f8f32c1');\n",
              "        const dataTable =\n",
              "          await google.colab.kernel.invokeFunction('convertToInteractive',\n",
              "                                                    [key], {});\n",
              "        if (!dataTable) return;\n",
              "\n",
              "        const docLinkHtml = 'Like what you see? Visit the ' +\n",
              "          '<a target=\"_blank\" href=https://colab.research.google.com/notebooks/data_table.ipynb>data table notebook</a>'\n",
              "          + ' to learn more about interactive tables.';\n",
              "        element.innerHTML = '';\n",
              "        dataTable['output_type'] = 'display_data';\n",
              "        await google.colab.output.renderOutput(dataTable, element);\n",
              "        const docLink = document.createElement('div');\n",
              "        docLink.innerHTML = docLinkHtml;\n",
              "        element.appendChild(docLink);\n",
              "      }\n",
              "    </script>\n",
              "  </div>\n",
              "\n",
              "\n",
              "<div id=\"df-d153c597-cbb4-403b-8b1e-bf7c372c831e\">\n",
              "  <button class=\"colab-df-quickchart\" onclick=\"quickchart('df-d153c597-cbb4-403b-8b1e-bf7c372c831e')\"\n",
              "            title=\"Suggest charts\"\n",
              "            style=\"display:none;\">\n",
              "\n",
              "<svg xmlns=\"http://www.w3.org/2000/svg\" height=\"24px\"viewBox=\"0 0 24 24\"\n",
              "     width=\"24px\">\n",
              "    <g>\n",
              "        <path d=\"M19 3H5c-1.1 0-2 .9-2 2v14c0 1.1.9 2 2 2h14c1.1 0 2-.9 2-2V5c0-1.1-.9-2-2-2zM9 17H7v-7h2v7zm4 0h-2V7h2v10zm4 0h-2v-4h2v4z\"/>\n",
              "    </g>\n",
              "</svg>\n",
              "  </button>\n",
              "\n",
              "<style>\n",
              "  .colab-df-quickchart {\n",
              "      --bg-color: #E8F0FE;\n",
              "      --fill-color: #1967D2;\n",
              "      --hover-bg-color: #E2EBFA;\n",
              "      --hover-fill-color: #174EA6;\n",
              "      --disabled-fill-color: #AAA;\n",
              "      --disabled-bg-color: #DDD;\n",
              "  }\n",
              "\n",
              "  [theme=dark] .colab-df-quickchart {\n",
              "      --bg-color: #3B4455;\n",
              "      --fill-color: #D2E3FC;\n",
              "      --hover-bg-color: #434B5C;\n",
              "      --hover-fill-color: #FFFFFF;\n",
              "      --disabled-bg-color: #3B4455;\n",
              "      --disabled-fill-color: #666;\n",
              "  }\n",
              "\n",
              "  .colab-df-quickchart {\n",
              "    background-color: var(--bg-color);\n",
              "    border: none;\n",
              "    border-radius: 50%;\n",
              "    cursor: pointer;\n",
              "    display: none;\n",
              "    fill: var(--fill-color);\n",
              "    height: 32px;\n",
              "    padding: 0;\n",
              "    width: 32px;\n",
              "  }\n",
              "\n",
              "  .colab-df-quickchart:hover {\n",
              "    background-color: var(--hover-bg-color);\n",
              "    box-shadow: 0 1px 2px rgba(60, 64, 67, 0.3), 0 1px 3px 1px rgba(60, 64, 67, 0.15);\n",
              "    fill: var(--button-hover-fill-color);\n",
              "  }\n",
              "\n",
              "  .colab-df-quickchart-complete:disabled,\n",
              "  .colab-df-quickchart-complete:disabled:hover {\n",
              "    background-color: var(--disabled-bg-color);\n",
              "    fill: var(--disabled-fill-color);\n",
              "    box-shadow: none;\n",
              "  }\n",
              "\n",
              "  .colab-df-spinner {\n",
              "    border: 2px solid var(--fill-color);\n",
              "    border-color: transparent;\n",
              "    border-bottom-color: var(--fill-color);\n",
              "    animation:\n",
              "      spin 1s steps(1) infinite;\n",
              "  }\n",
              "\n",
              "  @keyframes spin {\n",
              "    0% {\n",
              "      border-color: transparent;\n",
              "      border-bottom-color: var(--fill-color);\n",
              "      border-left-color: var(--fill-color);\n",
              "    }\n",
              "    20% {\n",
              "      border-color: transparent;\n",
              "      border-left-color: var(--fill-color);\n",
              "      border-top-color: var(--fill-color);\n",
              "    }\n",
              "    30% {\n",
              "      border-color: transparent;\n",
              "      border-left-color: var(--fill-color);\n",
              "      border-top-color: var(--fill-color);\n",
              "      border-right-color: var(--fill-color);\n",
              "    }\n",
              "    40% {\n",
              "      border-color: transparent;\n",
              "      border-right-color: var(--fill-color);\n",
              "      border-top-color: var(--fill-color);\n",
              "    }\n",
              "    60% {\n",
              "      border-color: transparent;\n",
              "      border-right-color: var(--fill-color);\n",
              "    }\n",
              "    80% {\n",
              "      border-color: transparent;\n",
              "      border-right-color: var(--fill-color);\n",
              "      border-bottom-color: var(--fill-color);\n",
              "    }\n",
              "    90% {\n",
              "      border-color: transparent;\n",
              "      border-bottom-color: var(--fill-color);\n",
              "    }\n",
              "  }\n",
              "</style>\n",
              "\n",
              "  <script>\n",
              "    async function quickchart(key) {\n",
              "      const quickchartButtonEl =\n",
              "        document.querySelector('#' + key + ' button');\n",
              "      quickchartButtonEl.disabled = true;  // To prevent multiple clicks.\n",
              "      quickchartButtonEl.classList.add('colab-df-spinner');\n",
              "      try {\n",
              "        const charts = await google.colab.kernel.invokeFunction(\n",
              "            'suggestCharts', [key], {});\n",
              "      } catch (error) {\n",
              "        console.error('Error during call to suggestCharts:', error);\n",
              "      }\n",
              "      quickchartButtonEl.classList.remove('colab-df-spinner');\n",
              "      quickchartButtonEl.classList.add('colab-df-quickchart-complete');\n",
              "    }\n",
              "    (() => {\n",
              "      let quickchartButtonEl =\n",
              "        document.querySelector('#df-d153c597-cbb4-403b-8b1e-bf7c372c831e button');\n",
              "      quickchartButtonEl.style.display =\n",
              "        google.colab.kernel.accessAllowed ? 'block' : 'none';\n",
              "    })();\n",
              "  </script>\n",
              "</div>\n",
              "\n",
              "    </div>\n",
              "  </div>\n"
            ],
            "application/vnd.google.colaboratory.intrinsic+json": {
              "type": "dataframe",
              "variable_name": "train_df"
            }
          },
          "metadata": {},
          "execution_count": 12
        }
      ],
      "source": [
        "train_df.head(10)"
      ]
    },
    {
      "cell_type": "code",
      "execution_count": null,
      "metadata": {
        "colab": {
          "base_uri": "https://localhost:8080/"
        },
        "id": "AzOam2IRwBFz",
        "outputId": "6fbc5184-d6f5-40f8-db70-dc792daeb74c"
      },
      "outputs": [
        {
          "output_type": "execute_result",
          "data": {
            "text/plain": [
              "target\n",
              "METHODS        59353\n",
              "RESULTS        57953\n",
              "CONCLUSIONS    27168\n",
              "BACKGROUND     21727\n",
              "OBJECTIVE      13839\n",
              "Name: count, dtype: int64"
            ]
          },
          "metadata": {},
          "execution_count": 13
        }
      ],
      "source": [
        "# Check how well is the data distributed under each label\n",
        "\n",
        "train_df[\"target\"].value_counts()"
      ]
    },
    {
      "cell_type": "code",
      "execution_count": null,
      "metadata": {
        "colab": {
          "base_uri": "https://localhost:8080/",
          "height": 431
        },
        "id": "s1GA_WWgwL-P",
        "outputId": "5ed9b3cf-750f-4340-8ad4-517677e52983"
      },
      "outputs": [
        {
          "output_type": "display_data",
          "data": {
            "text/plain": [
              "<Figure size 640x480 with 1 Axes>"
            ],
            "image/png": "[encoded data removed]"
          },
          "metadata": {}
        }
      ],
      "source": [
        "# Get the distribution of the length of sentences\n",
        "\n",
        "train_df[\"total_lines_in_abstract\"].plot.hist();"
      ]
    },
    {
      "cell_type": "markdown",
      "metadata": {
        "id": "uu6ktcfewrlZ"
      },
      "source": [
        "**Note**: The most common number of lines in each abstract is **10**"
      ]
    },
    {
      "cell_type": "markdown",
      "metadata": {
        "id": "JPHdMB7gw3qA"
      },
      "source": [
        "### Get the list of sentences\n",
        "\n",
        "* Convert the **texts** present in the dataframe to **sentences / list of sentences**"
      ]
    },
    {
      "cell_type": "code",
      "execution_count": null,
      "metadata": {
        "id": "K1g2YHXrwpnS"
      },
      "outputs": [],
      "source": [
        "train_sentences = train_df[\"text\"].tolist()\n",
        "val_sentences = val_df[\"text\"].tolist()\n",
        "test_sentences = test_df[\"text\"].tolist()"
      ]
    },
    {
      "cell_type": "code",
      "execution_count": null,
      "metadata": {
        "colab": {
          "base_uri": "https://localhost:8080/"
        },
        "id": "VRrsUhYvxkr2",
        "outputId": "4803fd31-feda-4cfc-be58-c5b37accdab7"
      },
      "outputs": [
        {
          "output_type": "execute_result",
          "data": {
            "text/plain": [
              "['to investigate the efficacy of @ weeks of daily low-dose oral prednisolone in improving pain , mobility , and systemic low-grade inflammation in the short term and whether the effect would be sustained at @ weeks in older adults with moderate to severe knee osteoarthritis ( oa ) .',\n",
              " 'a total of @ patients with primary knee oa were randomized @:@ ; @ received @ mg/day of prednisolone and @ received placebo for @ weeks .',\n",
              " 'outcome measures included pain reduction and improvement in function scores and systemic inflammation markers .',\n",
              " 'pain was assessed using the visual analog pain scale ( @-@ mm ) .',\n",
              " 'secondary outcome measures included the western ontario and mcmaster universities osteoarthritis index scores , patient global assessment ( pga ) of the severity of knee oa , and @-min walk distance ( @mwd ) .',\n",
              " 'serum levels of interleukin @ ( il-@ ) , il-@ , tumor necrosis factor ( tnf ) - , and high-sensitivity c-reactive protein ( hscrp ) were measured .',\n",
              " 'there was a clinically relevant reduction in the intervention group compared to the placebo group for knee pain , physical function , pga , and @mwd at @ weeks .',\n",
              " 'the mean difference between treatment arms ( @ % ci ) was @ ( @-@ @ ) , p < @ ; @ ( @-@ @ ) , p < @ ; @ ( @-@ @ ) , p < @ ; and @ ( @-@ @ ) , p < @ , respectively .',\n",
              " 'further , there was a clinically relevant reduction in the serum levels of il-@ , il-@ , tnf - , and hscrp at @ weeks in the intervention group when compared to the placebo group .',\n",
              " 'these differences remained significant at @ weeks .']"
            ]
          },
          "metadata": {},
          "execution_count": 16
        }
      ],
      "source": [
        "train_sentences[:10]"
      ]
    },
    {
      "cell_type": "code",
      "execution_count": null,
      "metadata": {
        "colab": {
          "base_uri": "https://localhost:8080/"
        },
        "id": "4LQKNmSZxpcT",
        "outputId": "07bed4ff-4a23-433c-819b-273bade4795a"
      },
      "outputs": [
        {
          "output_type": "execute_result",
          "data": {
            "text/plain": [
              "(180040, 30212, 30135)"
            ]
          },
          "metadata": {},
          "execution_count": 17
        }
      ],
      "source": [
        "len(train_sentences), len (val_sentences), len (test_sentences)"
      ]
    },
    {
      "cell_type": "markdown",
      "metadata": {
        "id": "-HI59My7zVlR"
      },
      "source": [
        "### Turn the Labels into Numbers ( for the ML models )"
      ]
    },
    {
      "cell_type": "markdown",
      "metadata": {
        "id": "XuZQnZ-Izjv3"
      },
      "source": [
        "* To turn the label data into numbers, we will use the `OneHotEncoder` and the `LabelEncoder`\n",
        "\n",
        "* Although just doing the `LabelEncoding` would be enough, the mulitclass classification loss function `CategoricalCrossEntropy` prefers data to be One Hot Encoded"
      ]
    },
    {
      "cell_type": "code",
      "execution_count": null,
      "metadata": {
        "colab": {
          "base_uri": "https://localhost:8080/"
        },
        "id": "fL8aJ297xvOe",
        "outputId": "9ac5f605-69dd-49db-cc26-7007cd815b33"
      },
      "outputs": [
        {
          "output_type": "execute_result",
          "data": {
            "text/plain": [
              "array([[0., 0., 0., 1., 0.],\n",
              "       [0., 0., 1., 0., 0.],\n",
              "       [0., 0., 1., 0., 0.],\n",
              "       ...,\n",
              "       [0., 0., 0., 0., 1.],\n",
              "       [0., 1., 0., 0., 0.],\n",
              "       [0., 1., 0., 0., 0.]])"
            ]
          },
          "metadata": {},
          "execution_count": 18
        }
      ],
      "source": [
        "# One Hot Encode the labels\n",
        "\n",
        "from sklearn.preprocessing import OneHotEncoder\n",
        "\n",
        "one_hot_encoder = OneHotEncoder (sparse_output = False) # if you set sparse = True, it is incompatible with Tensorflow\n",
        "\n",
        "train_labels_one_hot = one_hot_encoder.fit_transform (train_df[\"target\"].to_numpy().reshape(-1, 1))\n",
        "val_labels_one_hot = one_hot_encoder.fit_transform (val_df[\"target\"].to_numpy().reshape(-1, 1))\n",
        "test_labels_one_hot = one_hot_encoder.fit_transform (test_df[\"target\"].to_numpy().reshape(-1, 1))\n",
        "\n",
        "# OneHotEncoder requires a 2D array to be passed, so it needs to be reshaped by adding an axes to make it 2D\n",
        "\n",
        "train_labels_one_hot"
      ]
    },
    {
      "cell_type": "markdown",
      "metadata": {
        "id": "UhrKs4KF2RvK"
      },
      "source": [
        "### Label Encode the labels"
      ]
    },
    {
      "cell_type": "code",
      "execution_count": null,
      "metadata": {
        "colab": {
          "base_uri": "https://localhost:8080/"
        },
        "id": "QhPb4Gyk0rdA",
        "outputId": "0ba531ae-f52d-487d-dc14-9f0bab2afc00"
      },
      "outputs": [
        {
          "output_type": "execute_result",
          "data": {
            "text/plain": [
              "array([3, 2, 2, ..., 4, 1, 1])"
            ]
          },
          "metadata": {},
          "execution_count": 19
        }
      ],
      "source": [
        "from sklearn.preprocessing import LabelEncoder\n",
        "\n",
        "label_encoder =  LabelEncoder()\n",
        "\n",
        "train_labels_encoded = label_encoder.fit_transform (train_df[\"target\"].to_numpy())\n",
        "val_labels_encoded = label_encoder.fit_transform (val_df[\"target\"].to_numpy())\n",
        "test_labels_encoded = label_encoder.fit_transform (test_df[\"target\"].to_numpy())\n",
        "\n",
        "train_labels_encoded"
      ]
    },
    {
      "cell_type": "code",
      "execution_count": null,
      "metadata": {
        "colab": {
          "base_uri": "https://localhost:8080/"
        },
        "id": "2m0-Vxii23j_",
        "outputId": "73bd32d0-fd47-44f8-e2fa-4aac145b46ba"
      },
      "outputs": [
        {
          "output_type": "execute_result",
          "data": {
            "text/plain": [
              "(5,\n",
              " array(['BACKGROUND', 'CONCLUSIONS', 'METHODS', 'OBJECTIVE', 'RESULTS'],\n",
              "       dtype=object))"
            ]
          },
          "metadata": {},
          "execution_count": 20
        }
      ],
      "source": [
        "# Get the class names and the number of classes\n",
        "\n",
        "num_classes = len(label_encoder.classes_)\n",
        "class_names = label_encoder.classes_\n",
        "\n",
        "num_classes, class_names"
      ]
    },
    {
      "cell_type": "markdown",
      "metadata": {
        "id": "FD66MMcK8cPZ"
      },
      "source": [
        "## Modelling Experiments"
      ]
    },
    {
      "cell_type": "markdown",
      "metadata": {
        "id": "Tt9tWVGc8g6v"
      },
      "source": [
        "### Model 0: Base Line Model with TF-IDF\n",
        "\n",
        "* Our baseline model is going to be the **TF-IDF** model with **Multinomial Naive Bayes Classifier**"
      ]
    },
    {
      "cell_type": "code",
      "execution_count": null,
      "metadata": {
        "colab": {
          "base_uri": "https://localhost:8080/",
          "height": 124
        },
        "id": "ZJRnmlL-53FN",
        "outputId": "11693f20-ce1a-4481-df73-df4cf5cab871"
      },
      "outputs": [
        {
          "output_type": "execute_result",
          "data": {
            "text/plain": [
              "Pipeline(steps=[('tf-idf', TfidfVectorizer()), ('clf', MultinomialNB())])"
            ],
            "text/html": [
              "<style>#sk-container-id-1 {color: black;background-color: white;}#sk-container-id-1 pre{padding: 0;}#sk-container-id-1 div.sk-toggleable {background-color: white;}#sk-container-id-1 label.sk-toggleable__label {cursor: pointer;display: block;width: 100%;margin-bottom: 0;padding: 0.3em;box-sizing: border-box;text-align: center;}#sk-container-id-1 label.sk-toggleable__label-arrow:before {content: \"▸\";float: left;margin-right: 0.25em;color: #696969;}#sk-container-id-1 label.sk-toggleable__label-arrow:hover:before {color: black;}#sk-container-id-1 div.sk-estimator:hover label.sk-toggleable__label-arrow:before {color: black;}#sk-container-id-1 div.sk-toggleable__content {max-height: 0;max-width: 0;overflow: hidden;text-align: left;background-color: #f0f8ff;}#sk-container-id-1 div.sk-toggleable__content pre {margin: 0.2em;color: black;border-radius: 0.25em;background-color: #f0f8ff;}#sk-container-id-1 input.sk-toggleable__control:checked~div.sk-toggleable__content {max-height: 200px;max-width: 100%;overflow: auto;}#sk-container-id-1 input.sk-toggleable__control:checked~label.sk-toggleable__label-arrow:before {content: \"▾\";}#sk-container-id-1 div.sk-estimator input.sk-toggleable__control:checked~label.sk-toggleable__label {background-color: #d4ebff;}#sk-container-id-1 div.sk-label input.sk-toggleable__control:checked~label.sk-toggleable__label {background-color: #d4ebff;}#sk-container-id-1 input.sk-hidden--visually {border: 0;clip: rect(1px 1px 1px 1px);clip: rect(1px, 1px, 1px, 1px);height: 1px;margin: -1px;overflow: hidden;padding: 0;position: absolute;width: 1px;}#sk-container-id-1 div.sk-estimator {font-family: monospace;background-color: #f0f8ff;border: 1px dotted black;border-radius: 0.25em;box-sizing: border-box;margin-bottom: 0.5em;}#sk-container-id-1 div.sk-estimator:hover {background-color: #d4ebff;}#sk-container-id-1 div.sk-parallel-item::after {content: \"\";width: 100%;border-bottom: 1px solid gray;flex-grow: 1;}#sk-container-id-1 div.sk-label:hover label.sk-toggleable__label {background-color: #d4ebff;}#sk-container-id-1 div.sk-serial::before {content: \"\";position: absolute;border-left: 1px solid gray;box-sizing: border-box;top: 0;bottom: 0;left: 50%;z-index: 0;}#sk-container-id-1 div.sk-serial {display: flex;flex-direction: column;align-items: center;background-color: white;padding-right: 0.2em;padding-left: 0.2em;position: relative;}#sk-container-id-1 div.sk-item {position: relative;z-index: 1;}#sk-container-id-1 div.sk-parallel {display: flex;align-items: stretch;justify-content: center;background-color: white;position: relative;}#sk-container-id-1 div.sk-item::before, #sk-container-id-1 div.sk-parallel-item::before {content: \"\";position: absolute;border-left: 1px solid gray;box-sizing: border-box;top: 0;bottom: 0;left: 50%;z-index: -1;}#sk-container-id-1 div.sk-parallel-item {display: flex;flex-direction: column;z-index: 1;position: relative;background-color: white;}#sk-container-id-1 div.sk-parallel-item:first-child::after {align-self: flex-end;width: 50%;}#sk-container-id-1 div.sk-parallel-item:last-child::after {align-self: flex-start;width: 50%;}#sk-container-id-1 div.sk-parallel-item:only-child::after {width: 0;}#sk-container-id-1 div.sk-dashed-wrapped {border: 1px dashed gray;margin: 0 0.4em 0.5em 0.4em;box-sizing: border-box;padding-bottom: 0.4em;background-color: white;}#sk-container-id-1 div.sk-label label {font-family: monospace;font-weight: bold;display: inline-block;line-height: 1.2em;}#sk-container-id-1 div.sk-label-container {text-align: center;}#sk-container-id-1 div.sk-container {/* jupyter's `normalize.less` sets `[hidden] { display: none; }` but bootstrap.min.css set `[hidden] { display: none !important; }` so we also need the `!important` here to be able to override the default hidden behavior on the sphinx rendered scikit-learn.org. See: https://github.com/scikit-learn/scikit-learn/issues/21755 */display: inline-block !important;position: relative;}#sk-container-id-1 div.sk-text-repr-fallback {display: none;}</style><div id=\"sk-container-id-1\" class=\"sk-top-container\"><div class=\"sk-text-repr-fallback\"><pre>Pipeline(steps=[(&#x27;tf-idf&#x27;, TfidfVectorizer()), (&#x27;clf&#x27;, MultinomialNB())])</pre><b>In a Jupyter environment, please rerun this cell to show the HTML representation or trust the notebook. <br />On GitHub, the HTML representation is unable to render, please try loading this page with nbviewer.org.</b></div><div class=\"sk-container\" hidden><div class=\"sk-item sk-dashed-wrapped\"><div class=\"sk-label-container\"><div class=\"sk-label sk-toggleable\"><input class=\"sk-toggleable__control sk-hidden--visually\" id=\"sk-estimator-id-1\" type=\"checkbox\" ><label for=\"sk-estimator-id-1\" class=\"sk-toggleable__label sk-toggleable__label-arrow\">Pipeline</label><div class=\"sk-toggleable__content\"><pre>Pipeline(steps=[(&#x27;tf-idf&#x27;, TfidfVectorizer()), (&#x27;clf&#x27;, MultinomialNB())])</pre></div></div></div><div class=\"sk-serial\"><div class=\"sk-item\"><div class=\"sk-estimator sk-toggleable\"><input class=\"sk-toggleable__control sk-hidden--visually\" id=\"sk-estimator-id-2\" type=\"checkbox\" ><label for=\"sk-estimator-id-2\" class=\"sk-toggleable__label sk-toggleable__label-arrow\">TfidfVectorizer</label><div class=\"sk-toggleable__content\"><pre>TfidfVectorizer()</pre></div></div></div><div class=\"sk-item\"><div class=\"sk-estimator sk-toggleable\"><input class=\"sk-toggleable__control sk-hidden--visually\" id=\"sk-estimator-id-3\" type=\"checkbox\" ><label for=\"sk-estimator-id-3\" class=\"sk-toggleable__label sk-toggleable__label-arrow\">MultinomialNB</label><div class=\"sk-toggleable__content\"><pre>MultinomialNB()</pre></div></div></div></div></div></div></div>"
            ]
          },
          "metadata": {},
          "execution_count": 21
        }
      ],
      "source": [
        "from sklearn.feature_extraction.text import TfidfVectorizer\n",
        "from sklearn.naive_bayes import MultinomialNB\n",
        "from sklearn.pipeline import Pipeline\n",
        "\n",
        "# Create the pipeline\n",
        "model_0_baseline = Pipeline([\n",
        "    (\"tf-idf\", TfidfVectorizer()),\n",
        "    (\"clf\", MultinomialNB())\n",
        "])\n",
        "\n",
        "# Fit the pipeline into the data\n",
        "model_0_baseline.fit(X = train_sentences,\n",
        "                     y = train_labels_encoded)"
      ]
    },
    {
      "cell_type": "code",
      "execution_count": null,
      "metadata": {
        "colab": {
          "base_uri": "https://localhost:8080/"
        },
        "id": "NxRFUPJn9peL",
        "outputId": "ae1903bc-07db-43c8-b058-d8f9fdbec7db"
      },
      "outputs": [
        {
          "output_type": "execute_result",
          "data": {
            "text/plain": [
              "0.7218323844829869"
            ]
          },
          "metadata": {},
          "execution_count": 22
        }
      ],
      "source": [
        "# Evaluate the model's accuracy using the score() method\n",
        "\n",
        "model_0_baseline.score(X = val_sentences,\n",
        "                       y = val_labels_encoded)"
      ]
    },
    {
      "cell_type": "markdown",
      "metadata": {
        "id": "aiBYpbbM95aw"
      },
      "source": [
        "The model returns an accuracy of 72.2% approximately.\n",
        "\n",
        "It would be great if the performance of the model is NOT ONLY judged by the accuracy but by other parameters like\n",
        "\n",
        "* F1 Score\n",
        "* Recall\n",
        "* Precision"
      ]
    },
    {
      "cell_type": "code",
      "execution_count": null,
      "metadata": {
        "colab": {
          "base_uri": "https://localhost:8080/"
        },
        "id": "ptB8C7FV94WL",
        "outputId": "e4f8467b-effd-4881-ac62-f78f3a6fb88f"
      },
      "outputs": [
        {
          "output_type": "stream",
          "name": "stdout",
          "text": [
            "--2024-04-20 04:40:37--  https://raw.githubusercontent.com/mrdbourke/tensorflow-deep-learning/main/extras/helper_functions.py\n",
            "Resolving raw.githubusercontent.com (raw.githubusercontent.com)... 185.199.108.133, 185.199.109.133, 185.199.110.133, ...\n",
            "Connecting to raw.githubusercontent.com (raw.githubusercontent.com)|185.199.108.133|:443... connected.\n",
            "HTTP request sent, awaiting response... 200 OK\n",
            "Length: 10246 (10K) [text/plain]\n",
            "Saving to: ‘helper_functions.py’\n",
            "\n",
            "\rhelper_functions.py   0%[                    ]       0  --.-KB/s               \rhelper_functions.py 100%[===================>]  10.01K  --.-KB/s    in 0s      \n",
            "\n",
            "2024-04-20 04:40:38 (60.1 MB/s) - ‘helper_functions.py’ saved [10246/10246]\n",
            "\n"
          ]
        }
      ],
      "source": [
        "# Get the helper functions module\n",
        "!wget https://raw.githubusercontent.com/mrdbourke/tensorflow-deep-learning/main/extras/helper_functions.py"
      ]
    },
    {
      "cell_type": "code",
      "execution_count": null,
      "metadata": {
        "id": "TWKLZ6zr-PYT"
      },
      "outputs": [],
      "source": [
        "# Import the calculate results function\n",
        "\n",
        "from helper_functions import calculate_results"
      ]
    },
    {
      "cell_type": "code",
      "execution_count": null,
      "metadata": {
        "colab": {
          "base_uri": "https://localhost:8080/"
        },
        "id": "mIYsNCtr-XJu",
        "outputId": "c4baba9e-aecd-4144-8f38-fa12069946ff"
      },
      "outputs": [
        {
          "output_type": "execute_result",
          "data": {
            "text/plain": [
              "array([4, 1, 3, 2, 2, 2, 2, 2, 4, 4])"
            ]
          },
          "metadata": {},
          "execution_count": 25
        }
      ],
      "source": [
        "# Make predictions\n",
        "\n",
        "baseline_preds = model_0_baseline.predict (val_sentences)\n",
        "baseline_preds[:10]\n",
        "\n",
        "# This is the predictions that will be compared with the labels to evaluate the model"
      ]
    },
    {
      "cell_type": "code",
      "execution_count": null,
      "metadata": {
        "colab": {
          "base_uri": "https://localhost:8080/"
        },
        "id": "nY3WiOiE-gqU",
        "outputId": "2932d503-e9a4-4e31-9650-1f70f09368d9"
      },
      "outputs": [
        {
          "output_type": "execute_result",
          "data": {
            "text/plain": [
              "{'accuracy': 72.1832384482987,\n",
              " 'precision': 0.7186466952323352,\n",
              " 'recall': 0.7218323844829869,\n",
              " 'f1': 0.6989250353450294}"
            ]
          },
          "metadata": {},
          "execution_count": 26
        }
      ],
      "source": [
        "# Use the calculate_results function to evaluate the model is a more detailed way\n",
        "\n",
        "baseline_results = calculate_results(y_true = val_labels_encoded,\n",
        "                                         y_pred = baseline_preds)\n",
        "baseline_results"
      ]
    },
    {
      "cell_type": "markdown",
      "metadata": {
        "id": "cKwsLQEPRg2t"
      },
      "source": [
        "## Preparing the data for future modelling Experiments\n",
        "\n",
        "* in order to prepare the data for future modelling experiments, we need to turn the data (text) into numeric format too i.e Vectorize and Embed it"
      ]
    },
    {
      "cell_type": "code",
      "execution_count": null,
      "metadata": {
        "id": "4CgHlcN1Sgp2"
      },
      "outputs": [],
      "source": [
        "import numpy as np\n",
        "import tensorflow as tf\n",
        "from tensorflow.keras import layers"
      ]
    },
    {
      "cell_type": "code",
      "execution_count": null,
      "metadata": {
        "colab": {
          "base_uri": "https://localhost:8080/"
        },
        "id": "-kRx0CVP-9Wc",
        "outputId": "fb626c71-2216-4ce0-eb53-2775eadb6c77"
      },
      "outputs": [
        {
          "output_type": "execute_result",
          "data": {
            "text/plain": [
              "<tf.Tensor: shape=(), dtype=float64, numpy=26.0>"
            ]
          },
          "metadata": {},
          "execution_count": 28
        }
      ],
      "source": [
        "# Find the average length of each sentence in the training data\n",
        "\n",
        "sent_lengths = [len(sen.split()) for sen in train_sentences] # length of every sentence in the training data\n",
        "avg_length = np.mean (sent_lengths)\n",
        "tf.round(avg_length)"
      ]
    },
    {
      "cell_type": "markdown",
      "metadata": {
        "id": "QgLTkl3_Stvq"
      },
      "source": [
        "* We have computed the average length of a sentence to be 26"
      ]
    },
    {
      "cell_type": "code",
      "execution_count": null,
      "metadata": {
        "colab": {
          "base_uri": "https://localhost:8080/",
          "height": 430
        },
        "id": "R5p8Z9euSOyk",
        "outputId": "5be4c2d2-ac22-44f9-91ad-8f3fd5a9e821"
      },
      "outputs": [
        {
          "output_type": "display_data",
          "data": {
            "text/plain": [
              "<Figure size 640x480 with 1 Axes>"
            ],
            "image/png": "[encoded data removed]"
          },
          "metadata": {}
        }
      ],
      "source": [
        "# Check the distribution and the percentile of the sentence length\n",
        "\n",
        "import matplotlib.pyplot as plt\n",
        "plt.hist (sent_lengths, bins = 25);"
      ]
    },
    {
      "cell_type": "markdown",
      "metadata": {
        "id": "dNnvl-rmTDAY"
      },
      "source": [
        "* Majority of the sentences dont exceed the length of 55 ish"
      ]
    },
    {
      "cell_type": "markdown",
      "metadata": {
        "id": "jgjOnhaNTJa5"
      },
      "source": [
        "* Its safe to estimate that 95% of the sentences fall around the length of 60.\n",
        "\n",
        "* This information is very important when we go to vectorize the sentence to decide what the maximum length / tokens can be"
      ]
    },
    {
      "cell_type": "code",
      "execution_count": null,
      "metadata": {
        "colab": {
          "base_uri": "https://localhost:8080/"
        },
        "id": "1jtpfNXhS_1I",
        "outputId": "c0ca49a0-0515-497f-e05f-63ba7db019f3"
      },
      "outputs": [
        {
          "output_type": "execute_result",
          "data": {
            "text/plain": [
              "55"
            ]
          },
          "metadata": {},
          "execution_count": 30
        }
      ],
      "source": [
        "# How many words in 95% of the sentences\n",
        "output_seq_len = int(np.percentile(sent_lengths, 95))\n",
        "output_seq_len"
      ]
    },
    {
      "cell_type": "code",
      "execution_count": null,
      "metadata": {
        "colab": {
          "base_uri": "https://localhost:8080/"
        },
        "id": "vBpcfrx3TjgN",
        "outputId": "9b86b556-46e9-4b09-819e-d5b7b12ea36a"
      },
      "outputs": [
        {
          "output_type": "execute_result",
          "data": {
            "text/plain": [
              "296"
            ]
          },
          "metadata": {},
          "execution_count": 31
        }
      ],
      "source": [
        "# What is the maximum sentence length in the training dataset\n",
        "max(sent_lengths)"
      ]
    },
    {
      "cell_type": "markdown",
      "metadata": {
        "id": "ExSu4fqwYYWE"
      },
      "source": [
        "### Create Text Vectorizer"
      ]
    },
    {
      "cell_type": "code",
      "execution_count": null,
      "metadata": {
        "id": "WfKIKstGUFyH"
      },
      "outputs": [],
      "source": [
        "# Get the total number of words in the PubMed20K (from the paper)\n",
        "max_tokens = 68000 # this is taken from the research paper we are trying to replicate\n",
        "\n",
        "# Since 95% of the sentences fall under the length of 55, that could be set as the output sequence length in the vectorization layer\n",
        "\n",
        "from tensorflow.keras.layers import TextVectorization\n",
        "\n",
        "text_vectorizer = TextVectorization (max_tokens = max_tokens, # maximum number of words in the vocabulary\n",
        "                                  output_sequence_length = output_seq_len) # set to 55 which is what is the length of majority sentences"
      ]
    },
    {
      "cell_type": "code",
      "execution_count": null,
      "metadata": {
        "id": "KBVWyIvEZtQB"
      },
      "outputs": [],
      "source": [
        "# Fit the text vectorization layer to the data\n",
        "\n",
        "text_vectorizer.adapt(train_sentences)"
      ]
    },
    {
      "cell_type": "code",
      "execution_count": null,
      "metadata": {
        "colab": {
          "base_uri": "https://localhost:8080/"
        },
        "id": "xogJhNvmaOKB",
        "outputId": "496c2767-2817-454e-dade-1a4d80367a65"
      },
      "outputs": [
        {
          "output_type": "stream",
          "name": "stdout",
          "text": [
            "Original Sentence: dental health was recorded and expressed as d@mft/d@mft , and as time of caries onset .\n",
            "\n",
            "Length of the random selected sentence: 16\n",
            "\n",
            "Text Vectorized form dental health was recorded and expressed as d@mft/d@mft , and as time of caries onset .:\n",
            " [[ 1823    97    10   382     3  2281    25 39552     3    25    63     4\n",
            "   2580   779     0     0     0     0     0     0     0     0     0     0\n",
            "      0     0     0     0     0     0     0     0     0     0     0     0\n",
            "      0     0     0     0     0     0     0     0     0     0     0     0\n",
            "      0     0     0     0     0     0     0]]\n"
          ]
        }
      ],
      "source": [
        "# Test out the vectroization layer on a random sentence from the training data\n",
        "\n",
        "import random\n",
        "\n",
        "random_sentence = random.choice (train_sentences)\n",
        "\n",
        "print(f\"Original Sentence: {random_sentence}\\n\")\n",
        "print(f\"Length of the random selected sentence: {len(random_sentence.split())}\\n\")\n",
        "\n",
        "print(f\"Text Vectorized form {random_sentence}:\\n {text_vectorizer([random_sentence])}\")"
      ]
    },
    {
      "cell_type": "code",
      "execution_count": null,
      "metadata": {
        "colab": {
          "base_uri": "https://localhost:8080/"
        },
        "id": "d4Ccv_6hgLln",
        "outputId": "a8bbf987-9eaa-4712-aa2e-4412f18ecbbe"
      },
      "outputs": [
        {
          "output_type": "stream",
          "name": "stdout",
          "text": [
            "Total length of the PubMed 20K Dataset: 64841\n",
            "Top 5 most common words from the dataset: ['', '[UNK]', 'the', 'and', 'of']\n",
            "Least common 5 words from the dataset: ['aainduced', 'aaigroup', 'aachener', 'aachen', 'aaacp']\n"
          ]
        }
      ],
      "source": [
        "# Get all the words from the vocabulary and analyse it\n",
        "\n",
        "pubmed_20k_dataset = text_vectorizer.get_vocabulary()\n",
        "print (f\"Total length of the PubMed 20K Dataset: {len(pubmed_20k_dataset)}\")\n",
        "print (f\"Top 5 most common words from the dataset: {pubmed_20k_dataset[:5]}\")\n",
        "print (f\"Least common 5 words from the dataset: {pubmed_20k_dataset[-5:]}\")"
      ]
    },
    {
      "cell_type": "code",
      "execution_count": null,
      "metadata": {
        "colab": {
          "base_uri": "https://localhost:8080/"
        },
        "id": "q0aDozb9javZ",
        "outputId": "b1372d27-085c-4b67-9f4a-c4daa3e73765"
      },
      "outputs": [
        {
          "output_type": "execute_result",
          "data": {
            "text/plain": [
              "{'name': 'text_vectorization',\n",
              " 'trainable': True,\n",
              " 'dtype': 'string',\n",
              " 'batch_input_shape': (None,),\n",
              " 'max_tokens': 68000,\n",
              " 'standardize': 'lower_and_strip_punctuation',\n",
              " 'split': 'whitespace',\n",
              " 'ngrams': None,\n",
              " 'output_mode': 'int',\n",
              " 'output_sequence_length': 55,\n",
              " 'pad_to_max_tokens': False,\n",
              " 'sparse': False,\n",
              " 'ragged': False,\n",
              " 'vocabulary': None,\n",
              " 'idf_weights': None,\n",
              " 'encoding': 'utf-8',\n",
              " 'vocabulary_size': 64841}"
            ]
          },
          "metadata": {},
          "execution_count": 36
        }
      ],
      "source": [
        "# Get the configuration of the text vectorizer layer\n",
        "text_vectorizer.get_config()"
      ]
    },
    {
      "cell_type": "markdown",
      "metadata": {
        "id": "Tu0boleVjwMV"
      },
      "source": [
        "### Create the custom embedding layer"
      ]
    },
    {
      "cell_type": "markdown",
      "metadata": {
        "id": "fkMCquxYlCv7"
      },
      "source": [
        "* In the text vectorization layer, the text data will be turned into positive integers.\n",
        "\n",
        "* In the `Embedding` layer, the positive integers are turned to **feature vectors** which give a **relationship between the words** and is a richer far better embedding"
      ]
    },
    {
      "cell_type": "code",
      "execution_count": null,
      "metadata": {
        "id": "dW7pBTwOjvoP"
      },
      "outputs": [],
      "source": [
        "# Create the token embedding layer\n",
        "\n",
        "token_embed = layers.Embedding (input_dim = len(pubmed_20k_dataset),\n",
        "                            output_dim = 128, # popular choice\n",
        "                            mask_zero = True, # used to handle variable sequence length (saves computation space)\n",
        "                            embeddings_initializer = \"uniform\",\n",
        "                            name = \"Token_Embedding\")"
      ]
    },
    {
      "cell_type": "code",
      "execution_count": null,
      "metadata": {
        "colab": {
          "base_uri": "https://localhost:8080/"
        },
        "id": "Cg4CsU_ejqJ4",
        "outputId": "d18e7b34-8f41-4672-d7d9-25b1d5325396"
      },
      "outputs": [
        {
          "output_type": "stream",
          "name": "stdout",
          "text": [
            "Original Sentence: significant improvements were seen in the ability of the third-year students who received verbal and written feedback to prioritize the information presented in the case and in their total score on the problem-solving rubric .\n",
            "Length: 35\n",
            "\n",
            "Vectorized form: \n",
            " [[   37   408     9   683     5     2   805     4     2 11817   515    67\n",
            "     80  1825     3  2057   877     6 19817     2   380  1248     5     2\n",
            "    825     3     5   120    76   101    18     2  4938 17975     0     0\n",
            "      0     0     0     0     0     0     0     0     0     0     0     0\n",
            "      0     0     0     0     0     0     0]]\n",
            "\n",
            "Embedded form: \n",
            " [[[-0.02924297  0.00033865 -0.02584806 ...  0.00147667 -0.02981593\n",
            "   -0.02986169]\n",
            "  [ 0.04759245  0.02720293  0.0227705  ... -0.00134404  0.02027855\n",
            "    0.01959756]\n",
            "  [-0.00786579 -0.00930853  0.02368363 ...  0.00929196  0.037726\n",
            "    0.04249046]\n",
            "  ...\n",
            "  [ 0.03256363  0.03196427 -0.03576943 ...  0.02901551  0.01709953\n",
            "    0.02277574]\n",
            "  [ 0.03256363  0.03196427 -0.03576943 ...  0.02901551  0.01709953\n",
            "    0.02277574]\n",
            "  [ 0.03256363  0.03196427 -0.03576943 ...  0.02901551  0.01709953\n",
            "    0.02277574]]]\n",
            "\n",
            "Shape of Vectorized Text: (1, 55)\n",
            " Shape of Embedded form of the text (1, 55, 128)\n"
          ]
        }
      ],
      "source": [
        "# Demonstrating the embedding that is taking place\n",
        "\n",
        "target_sentence = random.choice (train_sentences)\n",
        "\n",
        "print (f\"Original Sentence: {target_sentence}\")\n",
        "print (f\"Length: {len(target_sentence.split())}\\n\")\n",
        "\n",
        "# Perform the Text Vectorization\n",
        "vectorized_text = text_vectorizer ([target_sentence])\n",
        "print (f\"Vectorized form: \\n {vectorized_text}\\n\")\n",
        "\n",
        "# Perform the token embedding\n",
        "embed_sentence = token_embed (vectorized_text)\n",
        "print (f\"Embedded form: \\n {embed_sentence}\\n\")\n",
        "\n",
        "print (f\"Shape of Vectorized Text: {vectorized_text.shape}\\n Shape of Embedded form of the text {embed_sentence.shape}\")"
      ]
    },
    {
      "cell_type": "markdown",
      "metadata": {
        "id": "n94FfvEbtqfo"
      },
      "source": [
        "### Create Datasets\n",
        "\n",
        "* Use the `tf.data` API to enable faster data loading\n",
        "* Turn our data into `Prefetch` batches of dataset\n"
      ]
    },
    {
      "cell_type": "code",
      "execution_count": null,
      "metadata": {
        "id": "N_i3_9zineXN"
      },
      "outputs": [],
      "source": [
        "# Turn data into tensorflow batches of dataset\n",
        "\n",
        "train_dataset = tf.data.Dataset.from_tensor_slices((train_sentences, train_labels_one_hot))\n",
        "val_dataset = tf.data.Dataset.from_tensor_slices((val_sentences, val_labels_one_hot))\n",
        "test_dataset = tf.data.Dataset.from_tensor_slices((test_sentences, test_labels_one_hot))"
      ]
    },
    {
      "cell_type": "code",
      "execution_count": null,
      "metadata": {
        "id": "P1DSLSaauaRX"
      },
      "outputs": [],
      "source": [
        "# Turn the dataset created above to prefetch data in order to load data faster and in a more efficient manner\n",
        "\n",
        "train_dataset = train_dataset.batch(32).prefetch(tf.data.AUTOTUNE)\n",
        "val_dataset = val_dataset.batch(32).prefetch(tf.data.AUTOTUNE)\n",
        "test_dataset = test_dataset.batch(32).prefetch(tf.data.AUTOTUNE)"
      ]
    },
    {
      "cell_type": "markdown",
      "metadata": {
        "id": "hie8Es_oQMWS"
      },
      "source": [
        "### Model 1: Conv1D\n",
        "\n",
        "After numerically encoding the text and the label in our training data, now we can build deep models where these preprocessed texts can be passed through to get outputs\n",
        "\n",
        "* Build the model\n",
        "* Compile the model\n",
        "* Fit the model\n",
        "* Evaluate the model\n",
        "* Make predictions with the model\n",
        "\n",
        "```\n",
        "Inputs -> Tokenize -> Embedding -> Layers (Conv1D) -> Output (Predicted Probability)\n",
        "```"
      ]
    },
    {
      "cell_type": "code",
      "execution_count": null,
      "metadata": {
        "id": "M7vLvfvvvX4X"
      },
      "outputs": [],
      "source": [
        "tf.random.set_seed (42)\n",
        "\n",
        "inputs = layers.Input (shape = (1,), dtype = \"string\")\n",
        "vectorized_data = text_vectorizer (inputs)\n",
        "token_embedding = token_embed (vectorized_data)\n",
        "\n",
        "x = layers.Conv1D (filters = 64,\n",
        "                   kernel_size = 5,\n",
        "                   padding = \"same\",\n",
        "                   activation = \"relu\") (token_embedding)\n",
        "\n",
        "x = layers.GlobalAveragePooling1D ()(x)\n",
        "outputs = layers.Dense (num_classes, activation = \"softmax\", name = \"Output_Layer_Conv1D\") (x)\n",
        "\n",
        "model_1 = tf.keras.Model (inputs, outputs)"
      ]
    },
    {
      "cell_type": "code",
      "execution_count": null,
      "metadata": {
        "id": "vVNBkO2hR1qa"
      },
      "outputs": [],
      "source": [
        "# Compile the model\n",
        "\n",
        "model_1.compile (loss = \"categorical_crossentropy\",\n",
        "                 optimizer = tf.keras.optimizers.Adam(),\n",
        "                 metrics = [\"accuracy\"])"
      ]
    },
    {
      "cell_type": "code",
      "execution_count": null,
      "metadata": {
        "colab": {
          "base_uri": "https://localhost:8080/"
        },
        "id": "F91Qo2-8SAzh",
        "outputId": "c8a35bc9-0de8-49ac-bca6-0828e58f3155"
      },
      "outputs": [
        {
          "output_type": "stream",
          "name": "stdout",
          "text": [
            "Model: \"model\"\n",
            "_________________________________________________________________\n",
            " Layer (type)                Output Shape              Param #   \n",
            "=================================================================\n",
            " input_1 (InputLayer)        [(None, 1)]               0         \n",
            "                                                                 \n",
            " text_vectorization (TextVe  (None, 55)                0         \n",
            " ctorization)                                                    \n",
            "                                                                 \n",
            " Token_Embedding (Embedding  (None, 55, 128)           8299648   \n",
            " )                                                               \n",
            "                                                                 \n",
            " conv1d (Conv1D)             (None, 55, 64)            41024     \n",
            "                                                                 \n",
            " global_average_pooling1d (  (None, 64)                0         \n",
            " GlobalAveragePooling1D)                                         \n",
            "                                                                 \n",
            " Output_Layer_Conv1D (Dense  (None, 5)                 325       \n",
            " )                                                               \n",
            "                                                                 \n",
            "=================================================================\n",
            "Total params: 8340997 (31.82 MB)\n",
            "Trainable params: 8340997 (31.82 MB)\n",
            "Non-trainable params: 0 (0.00 Byte)\n",
            "_________________________________________________________________\n"
          ]
        }
      ],
      "source": [
        "# Get the summary\n",
        "\n",
        "model_1.summary()"
      ]
    },
    {
      "cell_type": "code",
      "execution_count": null,
      "metadata": {
        "colab": {
          "base_uri": "https://localhost:8080/"
        },
        "id": "FphInmISSDhA",
        "outputId": "9eed42a4-79ff-4ecb-9361-57a0c92c4bed"
      },
      "outputs": [
        {
          "output_type": "stream",
          "name": "stdout",
          "text": [
            "Epoch 1/3\n",
            "562/562 [==============================] - 67s 118ms/step - loss: 0.9207 - accuracy: 0.6320 - val_loss: 0.6945 - val_accuracy: 0.7320\n",
            "Epoch 2/3\n",
            "562/562 [==============================] - 68s 122ms/step - loss: 0.6667 - accuracy: 0.7499 - val_loss: 0.6372 - val_accuracy: 0.7656\n",
            "Epoch 3/3\n",
            "562/562 [==============================] - 64s 115ms/step - loss: 0.6287 - accuracy: 0.7687 - val_loss: 0.6062 - val_accuracy: 0.7836\n"
          ]
        }
      ],
      "source": [
        "# Fit and train the model on the data\n",
        "\n",
        "history_model_1 = model_1.fit (train_dataset,\n",
        "                               epochs = 3,\n",
        "                               steps_per_epoch = int (0.1 * len(train_dataset)), # look at only 10% of the batches of the training data\n",
        "                               validation_data = val_dataset,\n",
        "                               validation_steps = int (0.1 * len(val_dataset))) # look at only 10% of the batches for the validation data\n",
        "\n",
        "# By looking at onyl 10% of the training and validation batches, we want to increase the computation speed"
      ]
    },
    {
      "cell_type": "code",
      "execution_count": null,
      "metadata": {
        "colab": {
          "base_uri": "https://localhost:8080/"
        },
        "id": "1cOy5vXOS4ek",
        "outputId": "3cffc9b5-d50f-42e7-c35f-feb24bd0dd79"
      },
      "outputs": [
        {
          "output_type": "stream",
          "name": "stdout",
          "text": [
            "945/945 [==============================] - 6s 6ms/step - loss: 0.6099 - accuracy: 0.7811\n"
          ]
        },
        {
          "output_type": "execute_result",
          "data": {
            "text/plain": [
              "[0.6099303960800171, 0.7810803651809692]"
            ]
          },
          "metadata": {},
          "execution_count": 45
        }
      ],
      "source": [
        "# Evaluate the model\n",
        "model_1.evaluate (val_dataset)"
      ]
    },
    {
      "cell_type": "code",
      "execution_count": null,
      "metadata": {
        "colab": {
          "base_uri": "https://localhost:8080/"
        },
        "id": "Hps8L-U-TBxP",
        "outputId": "36438977-cf14-4b3f-c5bb-f4230e638089"
      },
      "outputs": [
        {
          "output_type": "stream",
          "name": "stdout",
          "text": [
            "945/945 [==============================] - 6s 6ms/step\n"
          ]
        },
        {
          "output_type": "execute_result",
          "data": {
            "text/plain": [
              "(array([[3.9428520e-01, 2.2028384e-01, 7.9288282e-02, 2.7775449e-01,\n",
              "         2.8388148e-02],\n",
              "        [4.9312496e-01, 2.3801887e-01, 8.6391754e-03, 2.5557572e-01,\n",
              "         4.6412335e-03],\n",
              "        [1.5470250e-01, 9.5810592e-03, 1.7273140e-03, 8.3395201e-01,\n",
              "         3.7048660e-05],\n",
              "        ...,\n",
              "        [1.6744596e-06, 9.3885517e-04, 5.9704273e-04, 1.2642028e-06,\n",
              "         9.9846113e-01],\n",
              "        [5.8240820e-02, 4.1316292e-01, 1.0685384e-01, 6.9056496e-02,\n",
              "         3.5268596e-01],\n",
              "        [2.1746767e-01, 5.5671322e-01, 5.1279265e-02, 7.0310995e-02,\n",
              "         1.0422887e-01]], dtype=float32),\n",
              " (30212, 5))"
            ]
          },
          "metadata": {},
          "execution_count": 46
        }
      ],
      "source": [
        "# Make predictions with the model\n",
        "\n",
        "conv_pred_probs = model_1.predict(val_dataset)\n",
        "conv_pred_probs, conv_pred_probs.shape"
      ]
    },
    {
      "cell_type": "markdown",
      "metadata": {
        "id": "3x4IHEL8TYk5"
      },
      "source": [
        "* Each element has 5 columns representing the 5 classes out of which the predictions are made\n",
        "\n",
        "* Each class has a probability associated with it. The maximum out of the 5 predicted probability is the class that it is pointing towards"
      ]
    },
    {
      "cell_type": "code",
      "execution_count": null,
      "metadata": {
        "colab": {
          "base_uri": "https://localhost:8080/"
        },
        "id": "IuQ22FvWTT_0",
        "outputId": "e66f5b53-14a5-4e27-c3b5-0e02795f7dee"
      },
      "outputs": [
        {
          "output_type": "execute_result",
          "data": {
            "text/plain": [
              "<tf.Tensor: shape=(30212,), dtype=int64, numpy=array([0, 0, 3, ..., 4, 1, 1])>"
            ]
          },
          "metadata": {},
          "execution_count": 47
        }
      ],
      "source": [
        "# Turn the probabilites to classes\n",
        "conv_preds = tf.argmax (conv_pred_probs, axis = 1)\n",
        "conv_preds"
      ]
    },
    {
      "cell_type": "code",
      "execution_count": null,
      "metadata": {
        "id": "5tcS56kKT2YL"
      },
      "outputs": [],
      "source": [
        "# Evaluate the performance of the model\n",
        "\n",
        "model_1_results = calculate_results (y_true = val_labels_encoded,\n",
        "                   y_pred = conv_preds)"
      ]
    },
    {
      "cell_type": "markdown",
      "metadata": {
        "id": "3uKhLwO4UXBl"
      },
      "source": [
        "### Model 2: Feature Extraction from pre-trained **TOKEN EMBEDDING**"
      ]
    },
    {
      "cell_type": "markdown",
      "metadata": {
        "id": "RvDMgp7_UjgG"
      },
      "source": [
        "* **Model Structure**\n",
        "\n",
        "```\n",
        "Inputs -> Uinversal Sequence Encoder (Vectorize and Embed) -> Layers -> Outputs (Probability)\n",
        "```"
      ]
    },
    {
      "cell_type": "code",
      "execution_count": null,
      "metadata": {
        "id": "oiQsNUsGUCHK"
      },
      "outputs": [],
      "source": [
        "# Download the pretrained Tensorflow Hub USE\n",
        "\n",
        "import tensorflow_hub as hub\n",
        "\n",
        "pre_trained_feature_extractor_layer = hub.KerasLayer (\"https://tfhub.dev/google/universal-sentence-encoder/4\",\n",
        "                                                      trainable = False,\n",
        "                                                      name = \"Pre_Trained_Embedding_Layer\")"
      ]
    },
    {
      "cell_type": "code",
      "execution_count": null,
      "metadata": {
        "colab": {
          "base_uri": "https://localhost:8080/"
        },
        "id": "IUxlJxMeV0p1",
        "outputId": "7ec4e9dd-8085-4941-f97b-678a5b4ec0cd"
      },
      "outputs": [
        {
          "output_type": "stream",
          "name": "stdout",
          "text": [
            "Random target sentence: primary outcome measures were the amount of postoperative ( @h ) blood loss and incidence of pph during the postoperative period .\n",
            "\n",
            "Sentence After Token Embedding: \n",
            "[ 1.7079392e-02  4.1751370e-02 -1.9290885e-02 -4.2194244e-02\n",
            "  3.8277186e-02 -6.8896845e-02  3.1818017e-02 -1.0433250e-02\n",
            "  1.4354401e-02  4.8254665e-02  9.1870308e-02 -5.2611060e-03\n",
            " -1.2070449e-02 -2.5603859e-02  4.0543918e-02 -2.2128660e-02\n",
            " -7.2364561e-02  5.3036413e-03 -5.2223388e-02 -2.0665504e-02\n",
            " -5.4946121e-02  8.9896195e-02  2.2639966e-02 -7.8320354e-03\n",
            " -1.5403914e-02 -2.2876732e-02  2.8381513e-02  8.4051797e-03\n",
            "  5.1548786e-02  5.5367085e-03  6.4834692e-02  7.7226900e-02\n",
            "  4.0245891e-02  5.9323803e-02 -6.0322136e-02 -6.2081005e-02\n",
            "  7.0851217e-03  3.2560958e-03 -4.7737569e-02 -3.0639607e-02\n",
            "  8.5496642e-05  5.0783765e-02  5.5654716e-02  3.4555290e-03\n",
            " -1.0431904e-02  4.9368050e-02 -1.1859961e-02 -2.5381336e-02\n",
            " -7.1501158e-02  4.7763262e-02] ...\n",
            "(1, 512)\n"
          ]
        }
      ],
      "source": [
        "# Test the pre trained embedding layer on a random sentence\n",
        "\n",
        "random_target_sentence = random.choice (train_sentences)\n",
        "print(f\"Random target sentence: {random_target_sentence}\\n\")\n",
        "\n",
        "token_embedded_sentence = pre_trained_feature_extractor_layer([random_target_sentence])\n",
        "print (f\"Sentence After Token Embedding: \\n{token_embedded_sentence[0][:50]} ...\")\n",
        "\n",
        "print (token_embedded_sentence.shape)"
      ]
    },
    {
      "cell_type": "markdown",
      "metadata": {
        "id": "E9KBx2GJXQAx"
      },
      "source": [
        "* There is no need for the **Text Vectorization** layer here because the USE takes care of that"
      ]
    },
    {
      "cell_type": "code",
      "execution_count": null,
      "metadata": {
        "id": "3O7H-hu4XHhP"
      },
      "outputs": [],
      "source": [
        "tf.random.set_seed (42)\n",
        "\n",
        "inputs = layers.Input (shape = [], dtype = \"string\")\n",
        "token_embed_text = pre_trained_feature_extractor_layer (inputs)\n",
        "\n",
        "x = layers.Dense (128, activation = \"relu\")(token_embed_text)\n",
        "outputs = layers.Dense (num_classes, activation = \"softmax\")(x)\n",
        "\n",
        "model_2 = tf.keras.Model (inputs, outputs, name = \"Pre_Trained_Embedding_Model\")"
      ]
    },
    {
      "cell_type": "code",
      "execution_count": null,
      "metadata": {
        "id": "4ywSSrtkYOkU"
      },
      "outputs": [],
      "source": [
        "# Compile the model\n",
        "\n",
        "model_2.compile (loss = \"categorical_crossentropy\",\n",
        "                 optimizer = tf.keras.optimizers.Adam(),\n",
        "                 metrics = [\"accuracy\"])"
      ]
    },
    {
      "cell_type": "code",
      "execution_count": null,
      "metadata": {
        "colab": {
          "base_uri": "https://localhost:8080/"
        },
        "id": "1p2YsQSgYgr4",
        "outputId": "836f97a8-dba2-4865-a03d-b81d2355cf96"
      },
      "outputs": [
        {
          "output_type": "stream",
          "name": "stdout",
          "text": [
            "Model: \"Pre_Trained_Embedding_Model\"\n",
            "_________________________________________________________________\n",
            " Layer (type)                Output Shape              Param #   \n",
            "=================================================================\n",
            " input_2 (InputLayer)        [(None,)]                 0         \n",
            "                                                                 \n",
            " Pre_Trained_Embedding_Laye  (None, 512)               256797824 \n",
            " r (KerasLayer)                                                  \n",
            "                                                                 \n",
            " dense (Dense)               (None, 128)               65664     \n",
            "                                                                 \n",
            " dense_1 (Dense)             (None, 5)                 645       \n",
            "                                                                 \n",
            "=================================================================\n",
            "Total params: 256864133 (979.86 MB)\n",
            "Trainable params: 66309 (259.02 KB)\n",
            "Non-trainable params: 256797824 (979.61 MB)\n",
            "_________________________________________________________________\n"
          ]
        }
      ],
      "source": [
        "# Model summary\n",
        "\n",
        "model_2.summary()"
      ]
    },
    {
      "cell_type": "code",
      "execution_count": null,
      "metadata": {
        "colab": {
          "base_uri": "https://localhost:8080/"
        },
        "id": "GPEfPrOWYjwr",
        "outputId": "c6a330e6-976c-43da-c062-91187c9c64b8"
      },
      "outputs": [
        {
          "output_type": "stream",
          "name": "stdout",
          "text": [
            "Epoch 1/3\n",
            "562/562 [==============================] - 11s 14ms/step - loss: 0.9153 - accuracy: 0.6522 - val_loss: 0.7961 - val_accuracy: 0.6888\n",
            "Epoch 2/3\n",
            "562/562 [==============================] - 8s 15ms/step - loss: 0.7674 - accuracy: 0.7018 - val_loss: 0.7539 - val_accuracy: 0.7025\n",
            "Epoch 3/3\n",
            "562/562 [==============================] - 9s 16ms/step - loss: 0.7507 - accuracy: 0.7115 - val_loss: 0.7371 - val_accuracy: 0.7141\n"
          ]
        }
      ],
      "source": [
        "# Fit and train the model\n",
        "\n",
        "history_model_2 = model_2.fit (train_dataset,\n",
        "                               epochs = 3,\n",
        "                               steps_per_epoch = int (0.1 * len (train_dataset)),\n",
        "                               validation_data = val_dataset,\n",
        "                               validation_steps = int (0.1 * len(val_dataset)))"
      ]
    },
    {
      "cell_type": "code",
      "execution_count": null,
      "metadata": {
        "colab": {
          "base_uri": "https://localhost:8080/"
        },
        "id": "DsoYFOlgZPRm",
        "outputId": "62d564c4-1e82-47ec-db84-a3cfb984bce7"
      },
      "outputs": [
        {
          "output_type": "stream",
          "name": "stdout",
          "text": [
            "945/945 [==============================] - 11s 11ms/step - loss: 0.7399 - accuracy: 0.7145\n"
          ]
        },
        {
          "output_type": "execute_result",
          "data": {
            "text/plain": [
              "[0.7399304509162903, 0.7144511938095093]"
            ]
          },
          "metadata": {},
          "execution_count": 55
        }
      ],
      "source": [
        "# Evaluate the model\n",
        "\n",
        "model_2.evaluate (val_dataset)"
      ]
    },
    {
      "cell_type": "code",
      "execution_count": null,
      "metadata": {
        "colab": {
          "base_uri": "https://localhost:8080/"
        },
        "id": "xP8tZv8sZgNv",
        "outputId": "1842348f-644b-4b13-fd28-6749f2823a98"
      },
      "outputs": [
        {
          "output_type": "stream",
          "name": "stdout",
          "text": [
            "945/945 [==============================] - 11s 11ms/step\n"
          ]
        },
        {
          "output_type": "execute_result",
          "data": {
            "text/plain": [
              "array([[0.4108634 , 0.3993523 , 0.00232215, 0.17896648, 0.00849567],\n",
              "       [0.3579593 , 0.47683126, 0.00267338, 0.15933879, 0.00319725],\n",
              "       [0.2430825 , 0.14400549, 0.02017889, 0.55783993, 0.03489317],\n",
              "       ...,\n",
              "       [0.00194784, 0.00756778, 0.05825323, 0.00097685, 0.93125427],\n",
              "       [0.00482048, 0.05152644, 0.1989284 , 0.00181424, 0.74291044],\n",
              "       [0.20243418, 0.2753694 , 0.4429557 , 0.00939008, 0.06985061]],\n",
              "      dtype=float32)"
            ]
          },
          "metadata": {},
          "execution_count": 56
        }
      ],
      "source": [
        "# Make predictions with the model\n",
        "\n",
        "pre_trained_pred_probs = model_2.predict (val_dataset)\n",
        "pre_trained_pred_probs"
      ]
    },
    {
      "cell_type": "code",
      "execution_count": null,
      "metadata": {
        "colab": {
          "base_uri": "https://localhost:8080/"
        },
        "id": "DM-R6QBTaJ4l",
        "outputId": "9be44ef3-f105-4849-edb5-0d1f55c450ff"
      },
      "outputs": [
        {
          "output_type": "execute_result",
          "data": {
            "text/plain": [
              "<tf.Tensor: shape=(30212,), dtype=int64, numpy=array([0, 1, 3, ..., 4, 4, 2])>"
            ]
          },
          "metadata": {},
          "execution_count": 57
        }
      ],
      "source": [
        "pre_trained_preds = tf.argmax (pre_trained_pred_probs, axis = 1)\n",
        "pre_trained_preds"
      ]
    },
    {
      "cell_type": "code",
      "execution_count": null,
      "metadata": {
        "id": "wGWOdwqnaQtv"
      },
      "outputs": [],
      "source": [
        "model_2_results = calculate_results (y_true = val_labels_encoded,\n",
        "                   y_pred = pre_trained_preds)"
      ]
    },
    {
      "cell_type": "markdown",
      "metadata": {
        "id": "p_HSCReFbQ9M"
      },
      "source": [
        "### Model 3: Character Embedding Layer\n",
        "\n",
        "* Model 3 is a **character embedding** **Conv1D** model where the embedding takes place on a character by character level"
      ]
    },
    {
      "cell_type": "markdown",
      "metadata": {
        "id": "jJBXiN8FW5Od"
      },
      "source": [
        "* This model involves creating a **character level tokenizer** where each character in the sentence is embedded\n",
        "\n",
        "* Create a character level embedding by **first tokenizing the characters** in a sentence and them **passing those tokenized characters into an embedding**"
      ]
    },
    {
      "cell_type": "code",
      "execution_count": null,
      "metadata": {
        "id": "k8LE0q3fnyIG"
      },
      "outputs": [],
      "source": [
        "# Make a function to split the sentences into individual characters\n",
        "\n",
        "def split_chars (sentence):\n",
        "  return \" \".join (list(sentence))"
      ]
    },
    {
      "cell_type": "code",
      "execution_count": null,
      "metadata": {
        "colab": {
          "base_uri": "https://localhost:8080/",
          "height": 70
        },
        "id": "lFTjSb3iXowr",
        "outputId": "43567ff9-028c-40a4-f273-69b7dc6a52cc"
      },
      "outputs": [
        {
          "output_type": "execute_result",
          "data": {
            "text/plain": [
              "'t h e   d a t a   a n d   s a f e t y   m o n i t o r i n g   b o a r d   r e c o m m e n d e d   e a r l y   t e r m i n a t i o n   o f   t h e   t r i a l   d u e   t o   s u p e r i o r i t y   o f   a b l a t i o n   f o r   t h e   p r i m a r y   o u t c o m e   a n d   t h e   p o t e n t i a l   f o r   p a t i e n t   s a f e t y   i s s u e s   i f   t h e   t r i a l   c o n t i n u e d   .'"
            ],
            "application/vnd.google.colaboratory.intrinsic+json": {
              "type": "string"
            }
          },
          "metadata": {},
          "execution_count": 60
        }
      ],
      "source": [
        "# Test the above function\n",
        "\n",
        "random_sentence = random.choice (train_sentences)\n",
        "split_chars (random_sentence)"
      ]
    },
    {
      "cell_type": "code",
      "execution_count": null,
      "metadata": {
        "colab": {
          "base_uri": "https://localhost:8080/",
          "height": 52
        },
        "id": "rewG5wkyX0VC",
        "outputId": "cd673817-9f4a-4987-e601-53a6f9e83330"
      },
      "outputs": [
        {
          "output_type": "execute_result",
          "data": {
            "text/plain": [
              "'a   t o t a l   o f   @   p a t i e n t s   w i t h   p r i m a r y   k n e e   o a   w e r e   r a n d o m i z e d   @ : @   ;   @   r e c e i v e d   @   m g / d a y   o f   p r e d n i s o l o n e   a n d   @   r e c e i v e d   p l a c e b o   f o r   @   w e e k s   .'"
            ],
            "application/vnd.google.colaboratory.intrinsic+json": {
              "type": "string"
            }
          },
          "metadata": {},
          "execution_count": 61
        }
      ],
      "source": [
        "# Split the sequnece level data into character level data\n",
        "\n",
        "train_chars = [split_chars(sentence) for sentence in train_sentences]\n",
        "val_chars = [split_chars(sentence) for sentence in val_sentences]\n",
        "test_chars = [split_chars(sentence) for sentence in test_sentences]\n",
        "\n",
        "train_chars[1]"
      ]
    },
    {
      "cell_type": "code",
      "execution_count": null,
      "metadata": {
        "colab": {
          "base_uri": "https://localhost:8080/"
        },
        "id": "UFP_PV5yYdWH",
        "outputId": "a319da54-9363-4369-8ecf-3a50ce62ceb3"
      },
      "outputs": [
        {
          "output_type": "execute_result",
          "data": {
            "text/plain": [
              "149.3662574983337"
            ]
          },
          "metadata": {},
          "execution_count": 62
        }
      ],
      "source": [
        "# Figure out what is the average character length\n",
        "\n",
        "char_lens = [len(sentence) for sentence in train_sentences]\n",
        "avg_char_lens = np.mean(char_lens)\n",
        "avg_char_lens"
      ]
    },
    {
      "cell_type": "code",
      "execution_count": null,
      "metadata": {
        "colab": {
          "base_uri": "https://localhost:8080/",
          "height": 430
        },
        "id": "hC3xN7qJZBom",
        "outputId": "59871e7d-8348-44f7-8f56-5d41f428e90e"
      },
      "outputs": [
        {
          "output_type": "display_data",
          "data": {
            "text/plain": [
              "<Figure size 640x480 with 1 Axes>"
            ],
            "image/png": "[encoded data removed]"
          },
          "metadata": {}
        }
      ],
      "source": [
        "# Check out the distribution of characters across the sentences\n",
        "\n",
        "plt.hist (char_lens, bins = 20);"
      ]
    },
    {
      "cell_type": "code",
      "execution_count": null,
      "metadata": {
        "colab": {
          "base_uri": "https://localhost:8080/"
        },
        "id": "ngI7pm4JZPgJ",
        "outputId": "92bf04c7-f354-4fec-8e38-b23365ec095e"
      },
      "outputs": [
        {
          "output_type": "execute_result",
          "data": {
            "text/plain": [
              "290"
            ]
          },
          "metadata": {},
          "execution_count": 64
        }
      ],
      "source": [
        "# How many characters are in 95% of the sentences\n",
        "\n",
        "output_seq_char_len = int(np.percentile (char_lens, 95))\n",
        "output_seq_char_len"
      ]
    },
    {
      "cell_type": "markdown",
      "metadata": {
        "id": "nIxdNOtLaKvj"
      },
      "source": [
        "* **95%** of the sentences have **290 characters** in them"
      ]
    },
    {
      "cell_type": "code",
      "execution_count": null,
      "metadata": {
        "colab": {
          "base_uri": "https://localhost:8080/",
          "height": 35
        },
        "id": "9YA8nWiPaH1f",
        "outputId": "287a87f2-5bf9-442f-9230-fbae39d82da7"
      },
      "outputs": [
        {
          "output_type": "execute_result",
          "data": {
            "text/plain": [
              "'abcdefghijklmnopqrstuvwxyz0123456789!\"#$%&\\'()*+,-./:;<=>?@[\\\\]^_`{|}~'"
            ],
            "application/vnd.google.colaboratory.intrinsic+json": {
              "type": "string"
            }
          },
          "metadata": {},
          "execution_count": 65
        }
      ],
      "source": [
        "# Get all the characters for the character level embedding\n",
        "\n",
        "import string\n",
        "\n",
        "character_tokens = string.ascii_lowercase + string.digits + string.punctuation\n",
        "character_tokens"
      ]
    },
    {
      "cell_type": "code",
      "execution_count": null,
      "metadata": {
        "id": "cPV4_bhya6WH"
      },
      "outputs": [],
      "source": [
        "# Create a character level tokenizer\n",
        "\n",
        "MAX_TOKEN_LENGTH = len(character_tokens) + 2 # Include the space and 'OOV'\n",
        "\n",
        "char_vectorizer = TextVectorization (max_tokens = MAX_TOKEN_LENGTH,\n",
        "                                     output_sequence_length = output_seq_char_len,\n",
        "                                     standardize = \"lower_and_strip_punctuation\",\n",
        "                                     name = \"Tokenize_Character\")\n",
        "\n",
        "# Fit the Token Vectorizer layer to the training data\n",
        "char_vectorizer.adapt (train_chars)"
      ]
    },
    {
      "cell_type": "code",
      "execution_count": null,
      "metadata": {
        "colab": {
          "base_uri": "https://localhost:8080/"
        },
        "id": "j0U-7IGZbmfB",
        "outputId": "3c4e4033-21a4-4bc7-b910-4c0787c452fd"
      },
      "outputs": [
        {
          "output_type": "stream",
          "name": "stdout",
          "text": [
            "Total number of characters in the Vocabulary: 28\n",
            "5 Most common characters: ['', '[UNK]', 'e', 't', 'i']\n",
            "5 Least common characters: ['k', 'x', 'z', 'q', 'j']\n"
          ]
        }
      ],
      "source": [
        "# Study the features of the Character Vectorizer\n",
        "\n",
        "char_vec_vocab = char_vectorizer.get_vocabulary()\n",
        "print (f\"Total number of characters in the Vocabulary: {len(char_vec_vocab)}\")\n",
        "print (f\"5 Most common characters: {char_vec_vocab[:5]}\")\n",
        "print (f\"5 Least common characters: {char_vec_vocab[-5:]}\")"
      ]
    },
    {
      "cell_type": "code",
      "execution_count": null,
      "metadata": {
        "colab": {
          "base_uri": "https://localhost:8080/"
        },
        "id": "Ek6y7RgDcGdC",
        "outputId": "865e2416-4701-4e9f-d04d-8ede0eeaa131"
      },
      "outputs": [
        {
          "output_type": "stream",
          "name": "stdout",
          "text": [
            "Target Sentence \n",
            " t h e   r e s u l t s   s h o w e d   t h a t   t h e   s e l f - m a n u a l   t h e r a p y   p r o g r a m   s i g n i f i c a n t l y   d e c r e a s e d   p a i n   a t   @   w e e k s   ,   i n c r e a s e d   f l e x i o n   a n d   e x t e n s i o n   a t   @   a n d   @   w e e k s   ,   a n d   i m p r o v e d   t h e   k o o s   i n   p a i n   i t e m   a n d   s f - @   i n   p h y s i c a l   f u n c t i o n   a n d   m e n t a l   h e a l t h   i t e m s   .\n",
            "Number of characters in target sentence: \n",
            " 198\n",
            "\n",
            "Vectorized Output of target sentence: \n",
            "[[ 3 13  2  8  2  9 16 12  3  9  9 13  7 20  2 10  3 13  5  3  3 13  2  9\n",
            "   2 12 17 15  5  6 16  5 12  3 13  2  8  5 14 19 14  8  7 18  8  5 15  9\n",
            "   4 18  6  4 17  4 11  5  6  3 12 19 10  2 11  8  2  5  9  2 10 14  5  4\n",
            "   6  5  3 20  2  2 23  9  4  6 11  8  2  5  9  2 10 17 12  2 24  4  7  6\n",
            "   5  6 10  2 24  3  2  6  9  4  7  6  5  3  5  6 10 20  2  2 23  9  5  6\n",
            "  10  4 15 14  8  7 21  2 10  3 13  2 23  7  7  9  4  6 14  5  4  6  4  3\n",
            "   2 15  5  6 10  9 17  4  6 14 13 19  9  4 11  5 12 17 16  6 11  3  4  7\n",
            "   6  5  6 10 15  2  6  3  5 12 13  2  5 12  3 13  4  3  2 15  9  0  0  0\n",
            "   0  0  0  0  0  0  0  0  0  0  0  0  0  0  0  0  0  0  0  0  0  0  0  0\n",
            "   0  0  0  0  0  0  0  0  0  0  0  0  0  0  0  0  0  0  0  0  0  0  0  0\n",
            "   0  0  0  0  0  0  0  0  0  0  0  0  0  0  0  0  0  0  0  0  0  0  0  0\n",
            "   0  0  0  0  0  0  0  0  0  0  0  0  0  0  0  0  0  0  0  0  0  0  0  0\n",
            "   0  0]]\n",
            "\n",
            "Length of Vectorized Output: 290\n"
          ]
        }
      ],
      "source": [
        "# Test the vectorization layer on a random sentence\n",
        "\n",
        "random_target_sentence = random.choice (train_chars)\n",
        "print (f\"Target Sentence \\n {random_target_sentence}\")\n",
        "\n",
        "print (f\"Number of characters in target sentence: \\n {len(random_target_sentence.split())}\\n\")\n",
        "\n",
        "vectorized_output = char_vectorizer([random_target_sentence])\n",
        "\n",
        "print (f\"Vectorized Output of target sentence: \\n{vectorized_output}\\n\")\n",
        "print (f\"Length of Vectorized Output: {len(vectorized_output[0])}\")"
      ]
    },
    {
      "cell_type": "markdown",
      "metadata": {
        "id": "SvMYL9P1d8Lo"
      },
      "source": [
        "### Create Embedding Layer for the character level embedding"
      ]
    },
    {
      "cell_type": "code",
      "execution_count": null,
      "metadata": {
        "id": "rfTrl5ugdaU_"
      },
      "outputs": [],
      "source": [
        "char_embedding = layers.Embedding (input_dim = MAX_TOKEN_LENGTH,\n",
        "                                   output_dim = 25, # taken from the paper being replicated\n",
        "                                   mask_zero = False, # is set to True this messes up model_5\n",
        "                                   name = \"Character_Embedding\")"
      ]
    },
    {
      "cell_type": "code",
      "execution_count": null,
      "metadata": {
        "colab": {
          "base_uri": "https://localhost:8080/"
        },
        "id": "WnIcMSvAefGv",
        "outputId": "caff0742-d16b-416e-be30-2728c70ed783"
      },
      "outputs": [
        {
          "output_type": "stream",
          "name": "stdout",
          "text": [
            "Target Sentence: \n",
            "t h e   a d d i t i o n   o f   c b t   t o   u s u a l   c a r e   i s   c o s t - e f f e c t i v e   i n   p a t i e n t s   w h o   h a v e   n o t   r e s p o n d e d   t o   a n t i d e p r e s s a n t s   .\n",
            "\n",
            "Number of characters in the target sentence: 90\n",
            "\n",
            "Vectorizing the characters: \n",
            " [[ 3 13  2  5 10 10  4  3  4  7  6  7 17 11 22  3  3  7 16  9 16  5 12 11\n",
            "   5  8  2  4  9 11  7  9  3  2 17 17  2 11  3  4 21  2  4  6 14  5  3  4\n",
            "   2  6  3  9 20 13  7 13  5 21  2  6  7  3  8  2  9 14  7  6 10  2 10  3\n",
            "   7  5  6  3  4 10  2 14  8  2  9  9  5  6  3  9  0  0  0  0  0  0  0  0\n",
            "   0  0  0  0  0  0  0  0  0  0  0  0  0  0  0  0  0  0  0  0  0  0  0  0\n",
            "   0  0  0  0  0  0  0  0  0  0  0  0  0  0  0  0  0  0  0  0  0  0  0  0\n",
            "   0  0  0  0  0  0  0  0  0  0  0  0  0  0  0  0  0  0  0  0  0  0  0  0\n",
            "   0  0  0  0  0  0  0  0  0  0  0  0  0  0  0  0  0  0  0  0  0  0  0  0\n",
            "   0  0  0  0  0  0  0  0  0  0  0  0  0  0  0  0  0  0  0  0  0  0  0  0\n",
            "   0  0  0  0  0  0  0  0  0  0  0  0  0  0  0  0  0  0  0  0  0  0  0  0\n",
            "   0  0  0  0  0  0  0  0  0  0  0  0  0  0  0  0  0  0  0  0  0  0  0  0\n",
            "   0  0  0  0  0  0  0  0  0  0  0  0  0  0  0  0  0  0  0  0  0  0  0  0\n",
            "   0  0]]\n",
            "\n",
            "Number of characters in vectorized output: \n",
            " 290\n",
            "\n",
            "Embedding the characters: \n",
            " [[[-0.04371756 -0.01890544 -0.03196368 ...  0.00925357  0.03769442\n",
            "    0.03828656]\n",
            "  [ 0.03928499  0.03053877 -0.03140594 ... -0.02131529  0.03017559\n",
            "   -0.04591441]\n",
            "  [-0.00244401 -0.01233611  0.02128417 ...  0.03990915  0.03483209\n",
            "    0.02075446]\n",
            "  ...\n",
            "  [-0.03547803  0.02873688  0.00601273 ... -0.01867533 -0.01153041\n",
            "    0.0194567 ]\n",
            "  [-0.03547803  0.02873688  0.00601273 ... -0.01867533 -0.01153041\n",
            "    0.0194567 ]\n",
            "  [-0.03547803  0.02873688  0.00601273 ... -0.01867533 -0.01153041\n",
            "    0.0194567 ]]]\n",
            "\n",
            "Shape of the embedded characters: \n",
            " (1, 290, 25)\n"
          ]
        }
      ],
      "source": [
        "# Test the two created layers on the random sentence from training data\n",
        "\n",
        "target_sentence = random.choice (train_chars)\n",
        "\n",
        "print(f\"Target Sentence: \\n{target_sentence}\\n\")\n",
        "print(f\"Number of characters in the target sentence: {len(target_sentence.split())}\\n\")\n",
        "\n",
        "char_vectorized = char_vectorizer ([target_sentence])\n",
        "print (f\"Vectorizing the characters: \\n {char_vectorized}\\n\")\n",
        "print (f\"Number of characters in vectorized output: \\n {len(char_vectorized[0])}\\n\")\n",
        "\n",
        "char_embed = char_embedding (char_vectorized)\n",
        "print (f\"Embedding the characters: \\n {char_embed}\\n\")\n",
        "print (f\"Shape of the embedded characters: \\n {char_embed.shape}\")"
      ]
    },
    {
      "cell_type": "markdown",
      "metadata": {
        "id": "peX4YyNlf-TD"
      },
      "source": [
        "* Each character is embedded into a 25 length feature vector"
      ]
    },
    {
      "cell_type": "markdown",
      "metadata": {
        "id": "vdCET3Rtj7pw"
      },
      "source": [
        "### Buidling a Conv1D model to fit the character embeddings"
      ]
    },
    {
      "cell_type": "code",
      "execution_count": null,
      "metadata": {
        "id": "oEoNioPnf67k"
      },
      "outputs": [],
      "source": [
        "tf.random.set_seed(42)\n",
        "\n",
        "inputs = layers.Input (shape = (1,), dtype = tf.string)\n",
        "char_tokenize = char_vectorizer (inputs)\n",
        "char_embed = char_embedding (char_tokenize)\n",
        "\n",
        "x = layers.Conv1D (filters = 64,\n",
        "                  kernel_size = 5,\n",
        "                  padding = \"same\",\n",
        "                  activation = \"relu\")(char_embed)\n",
        "\n",
        "x = layers.GlobalMaxPooling1D()(x)\n",
        "outputs = layers.Dense(num_classes, activation = \"softmax\")(x)\n",
        "\n",
        "model_3 = tf.keras.Model (inputs, outputs)"
      ]
    },
    {
      "cell_type": "code",
      "execution_count": null,
      "metadata": {
        "id": "jGPTD3rPlWqM"
      },
      "outputs": [],
      "source": [
        "# Compile the model\n",
        "\n",
        "model_3.compile (loss = \"categorical_crossentropy\",\n",
        "                 optimizer = tf.keras.optimizers.Adam(),\n",
        "                 metrics = [\"accuracy\"])"
      ]
    },
    {
      "cell_type": "code",
      "execution_count": null,
      "metadata": {
        "colab": {
          "base_uri": "https://localhost:8080/"
        },
        "id": "X0L0mQ6jloPS",
        "outputId": "ded9ca33-40af-4fea-c18d-707de8f96bec"
      },
      "outputs": [
        {
          "output_type": "stream",
          "name": "stdout",
          "text": [
            "Model: \"model_1\"\n",
            "_________________________________________________________________\n",
            " Layer (type)                Output Shape              Param #   \n",
            "=================================================================\n",
            " input_3 (InputLayer)        [(None, 1)]               0         \n",
            "                                                                 \n",
            " Tokenize_Character (TextVe  (None, 290)               0         \n",
            " ctorization)                                                    \n",
            "                                                                 \n",
            " Character_Embedding (Embed  (None, 290, 25)           1750      \n",
            " ding)                                                           \n",
            "                                                                 \n",
            " conv1d_1 (Conv1D)           (None, 290, 64)           8064      \n",
            "                                                                 \n",
            " global_max_pooling1d (Glob  (None, 64)                0         \n",
            " alMaxPooling1D)                                                 \n",
            "                                                                 \n",
            " dense_2 (Dense)             (None, 5)                 325       \n",
            "                                                                 \n",
            "=================================================================\n",
            "Total params: 10139 (39.61 KB)\n",
            "Trainable params: 10139 (39.61 KB)\n",
            "Non-trainable params: 0 (0.00 Byte)\n",
            "_________________________________________________________________\n"
          ]
        }
      ],
      "source": [
        "# Get the model_3 summary\n",
        "\n",
        "model_3.summary()"
      ]
    },
    {
      "cell_type": "code",
      "execution_count": null,
      "metadata": {
        "id": "l7VQ-nIdmQcz"
      },
      "outputs": [],
      "source": [
        "# Create char datasets\n",
        "train_char_dataset = tf.data.Dataset.from_tensor_slices((train_chars, train_labels_one_hot)).batch(32).prefetch(tf.data.AUTOTUNE)\n",
        "val_char_dataset = tf.data.Dataset.from_tensor_slices((val_chars, val_labels_one_hot)).batch(32).prefetch(tf.data.AUTOTUNE)"
      ]
    },
    {
      "cell_type": "code",
      "execution_count": null,
      "metadata": {
        "colab": {
          "base_uri": "https://localhost:8080/"
        },
        "id": "IZbo-Ep5lqpT",
        "outputId": "08cc4018-3c21-4490-abc4-49c4ce3879c0"
      },
      "outputs": [
        {
          "output_type": "stream",
          "name": "stdout",
          "text": [
            "Epoch 1/3\n",
            "562/562 [==============================] - 12s 20ms/step - loss: 1.2764 - accuracy: 0.4786 - val_loss: 1.0579 - val_accuracy: 0.5821\n",
            "Epoch 2/3\n",
            "562/562 [==============================] - 11s 20ms/step - loss: 1.0117 - accuracy: 0.5923 - val_loss: 0.9572 - val_accuracy: 0.6157\n",
            "Epoch 3/3\n",
            "562/562 [==============================] - 11s 20ms/step - loss: 0.9298 - accuracy: 0.6352 - val_loss: 0.8803 - val_accuracy: 0.6546\n"
          ]
        }
      ],
      "source": [
        "# Fit and train the model\n",
        "\n",
        "history_model_3 = model_3.fit (train_char_dataset,\n",
        "                               epochs = 3,\n",
        "                               steps_per_epoch = int(0.1 * len(train_char_dataset)),\n",
        "                               validation_data = val_char_dataset,\n",
        "                               validation_steps = int (0.1 * len(val_char_dataset)))"
      ]
    },
    {
      "cell_type": "code",
      "execution_count": null,
      "metadata": {
        "colab": {
          "base_uri": "https://localhost:8080/"
        },
        "id": "xTWqKE9PmBl2",
        "outputId": "d89ebaff-5e08-4a9d-aa57-180d6f82d8b5"
      },
      "outputs": [
        {
          "output_type": "stream",
          "name": "stdout",
          "text": [
            "945/945 [==============================] - 6s 7ms/step - loss: 0.8945 - accuracy: 0.6503\n"
          ]
        },
        {
          "output_type": "execute_result",
          "data": {
            "text/plain": [
              "[0.8944864869117737, 0.6503044962882996]"
            ]
          },
          "metadata": {},
          "execution_count": 76
        }
      ],
      "source": [
        "# Evaluate the model\n",
        "\n",
        "model_3.evaluate (val_char_dataset)"
      ]
    },
    {
      "cell_type": "code",
      "execution_count": null,
      "metadata": {
        "colab": {
          "base_uri": "https://localhost:8080/"
        },
        "id": "8AdLBRHXmGHu",
        "outputId": "1caf1d7b-2159-4ba0-8f8f-34111e039113"
      },
      "outputs": [
        {
          "output_type": "stream",
          "name": "stdout",
          "text": [
            "945/945 [==============================] - 7s 7ms/step\n"
          ]
        },
        {
          "output_type": "execute_result",
          "data": {
            "text/plain": [
              "array([[2.00619951e-01, 3.95521253e-01, 8.78316090e-02, 2.08595470e-01,\n",
              "        1.07431687e-01],\n",
              "       [1.83373913e-01, 5.07854164e-01, 1.55457240e-02, 2.79386312e-01,\n",
              "        1.38398921e-02],\n",
              "       [1.78650126e-01, 3.03215623e-01, 1.47514969e-01, 2.72188634e-01,\n",
              "        9.84306410e-02],\n",
              "       [9.02866386e-03, 1.94661170e-02, 8.50162804e-01, 6.30882382e-03,\n",
              "        1.15033485e-01],\n",
              "       [1.96187906e-02, 5.10298572e-02, 6.97029352e-01, 2.15049945e-02,\n",
              "        2.10816965e-01],\n",
              "       [4.09481261e-04, 7.47583923e-04, 8.43470991e-01, 3.62556864e-04,\n",
              "        1.55009285e-01],\n",
              "       [2.83773267e-03, 1.04420986e-02, 8.11745346e-01, 2.70368834e-03,\n",
              "        1.72271177e-01],\n",
              "       [1.39854461e-01, 1.89777404e-01, 1.39779598e-01, 1.42680481e-01,\n",
              "        3.87908012e-01],\n",
              "       [3.63200437e-03, 1.06230881e-02, 1.26634777e-01, 6.92240475e-03,\n",
              "        8.52187693e-01],\n",
              "       [1.20232187e-01, 2.98646480e-01, 1.57824174e-01, 2.01255113e-01,\n",
              "        2.22042069e-01]], dtype=float32)"
            ]
          },
          "metadata": {},
          "execution_count": 77
        }
      ],
      "source": [
        "# Make predictions using the model\n",
        "\n",
        "model_3_pred_probs = model_3.predict (val_char_dataset)\n",
        "model_3_pred_probs[:10]"
      ]
    },
    {
      "cell_type": "code",
      "execution_count": null,
      "metadata": {
        "colab": {
          "base_uri": "https://localhost:8080/"
        },
        "id": "ERXFj1M-noek",
        "outputId": "dc32fd9a-23f7-44ca-b69e-11a806163eaa"
      },
      "outputs": [
        {
          "output_type": "execute_result",
          "data": {
            "text/plain": [
              "<tf.Tensor: shape=(10,), dtype=int64, numpy=array([1, 1, 1, 2, 2, 2, 2, 4, 4, 1])>"
            ]
          },
          "metadata": {},
          "execution_count": 78
        }
      ],
      "source": [
        "model_3_preds = tf.argmax (model_3_pred_probs, axis = 1)\n",
        "model_3_preds[:10]"
      ]
    },
    {
      "cell_type": "code",
      "execution_count": null,
      "metadata": {
        "id": "qJtfJ6won0Ry"
      },
      "outputs": [],
      "source": [
        "# Assess the performance of the model\n",
        "\n",
        "model_3_results = calculate_results (y_true = val_labels_encoded,\n",
        "                   y_pred = model_3_preds)"
      ]
    },
    {
      "cell_type": "markdown",
      "source": [
        "### Model 4: Token Embeddings + Character Encoding"
      ],
      "metadata": {
        "id": "63FPaCBZqPFF"
      }
    },
    {
      "cell_type": "markdown",
      "source": [
        "* In **model 4**, we will be **combining** the **token embeddings** and **character encodings** to create the model\n",
        "\n",
        "* Create a **Token Embedding Layer** similar to Model 1\n",
        "* Create a **Character Encoding Layer** similar to Model 3\n",
        "* **Combine 1 and 2** using the `layers.Concatenate`\n",
        "* Build a series of output layers on top of point 3"
      ],
      "metadata": {
        "id": "fj3VxyUpqdr5"
      }
    },
    {
      "cell_type": "code",
      "execution_count": null,
      "metadata": {
        "id": "Ltmvbf9LoDvo"
      },
      "outputs": [],
      "source": [
        "# 1. Set up the token model\n",
        "token_inputs = layers.Input (shape = [], dtype = tf.string, name = \"Token_Input\")\n",
        "token_embed = pre_trained_feature_extractor_layer (token_inputs) # Using the TF Hub Token Embedding Layer\n",
        "token_output = layers.Dense (128, activation = \"relu\")(token_embed)\n",
        "token_embed_model = tf.keras.Model(inputs = token_inputs,\n",
        "                                   outputs = token_output)\n",
        "\n",
        "# 2. Set up the character embedding model\n",
        "char_embed_inputs = layers.Input (shape = (1,), dtype = tf.string, name = \"Char_Embedding_Input\")\n",
        "char_vectors = char_vectorizer (char_embed_inputs)\n",
        "char_embeds = char_embedding (char_vectors)\n",
        "char_bi_lstm = layers.Bidirectional(layers.LSTM(25))(char_embeds)\n",
        "char_embed_model = tf.keras.Model (inputs = char_embed_inputs,\n",
        "                                   outputs = char_bi_lstm)\n",
        "\n",
        "# 3.Concatenate the above models as a single layer\n",
        "token_char_combined = layers.Concatenate (name = \"Token_Character_Hybrid\")([token_embed_model.output,\n",
        "                                                                         char_embed_model.output])\n",
        "\n",
        "# 4. Create additional layers\n",
        "combined_dropout = layers.Dropout (0.5)(token_char_combined)\n",
        "combined_dense = layers.Dense (200, activation = \"relu\") (combined_dropout)\n",
        "final_dropout = layers.Dropout (0.5) (combined_dense)\n",
        "output_layer = layers.Dense (num_classes, activation = \"softmax\", name = \"Hybrid_Output\") (final_dropout)\n",
        "\n",
        "# 5. Construct the first hybrid model\n",
        "token_char_hybrid_model = tf.keras.Model (inputs = [token_embed_model.input,\n",
        "                                                    char_embed_model.input],\n",
        "                                          outputs = output_layer,\n",
        "                                          name = \"Hybrid_Model\")"
      ]
    },
    {
      "cell_type": "code",
      "source": [
        "token_char_hybrid_model.summary()"
      ],
      "metadata": {
        "colab": {
          "base_uri": "https://localhost:8080/"
        },
        "id": "gO99T-ZDzHF1",
        "outputId": "48ae631b-83a0-4142-b152-828267d9a4f9"
      },
      "execution_count": null,
      "outputs": [
        {
          "output_type": "stream",
          "name": "stdout",
          "text": [
            "Model: \"Hybrid_Model\"\n",
            "__________________________________________________________________________________________________\n",
            " Layer (type)                Output Shape                 Param #   Connected to                  \n",
            "==================================================================================================\n",
            " Char_Embedding_Input (Inpu  [(None, 1)]                  0         []                            \n",
            " tLayer)                                                                                          \n",
            "                                                                                                  \n",
            " Token_Input (InputLayer)    [(None,)]                    0         []                            \n",
            "                                                                                                  \n",
            " Tokenize_Character (TextVe  (None, 290)                  0         ['Char_Embedding_Input[0][0]']\n",
            " ctorization)                                                                                     \n",
            "                                                                                                  \n",
            " Pre_Trained_Embedding_Laye  (None, 512)                  2567978   ['Token_Input[0][0]']         \n",
            " r (KerasLayer)                                           24                                      \n",
            "                                                                                                  \n",
            " Character_Embedding (Embed  (None, 290, 25)              1750      ['Tokenize_Character[1][0]']  \n",
            " ding)                                                                                            \n",
            "                                                                                                  \n",
            " dense_3 (Dense)             (None, 128)                  65664     ['Pre_Trained_Embedding_Layer[\n",
            "                                                                    1][0]']                       \n",
            "                                                                                                  \n",
            " bidirectional (Bidirection  (None, 50)                   10200     ['Character_Embedding[1][0]'] \n",
            " al)                                                                                              \n",
            "                                                                                                  \n",
            " Token_Character_Hybrid (Co  (None, 178)                  0         ['dense_3[0][0]',             \n",
            " ncatenate)                                                          'bidirectional[0][0]']       \n",
            "                                                                                                  \n",
            " dropout (Dropout)           (None, 178)                  0         ['Token_Character_Hybrid[0][0]\n",
            "                                                                    ']                            \n",
            "                                                                                                  \n",
            " dense_4 (Dense)             (None, 200)                  35800     ['dropout[0][0]']             \n",
            "                                                                                                  \n",
            " dropout_1 (Dropout)         (None, 200)                  0         ['dense_4[0][0]']             \n",
            "                                                                                                  \n",
            " Hybrid_Output (Dense)       (None, 5)                    1005      ['dropout_1[0][0]']           \n",
            "                                                                                                  \n",
            "==================================================================================================\n",
            "Total params: 256912243 (980.04 MB)\n",
            "Trainable params: 114419 (446.95 KB)\n",
            "Non-trainable params: 256797824 (979.61 MB)\n",
            "__________________________________________________________________________________________________\n"
          ]
        }
      ]
    },
    {
      "cell_type": "code",
      "source": [
        "from tensorflow.keras.utils import plot_model\n",
        "plot_model (token_char_hybrid_model, show_shapes = True)"
      ],
      "metadata": {
        "colab": {
          "base_uri": "https://localhost:8080/",
          "height": 976
        },
        "id": "kT2BgvHvzQ8m",
        "outputId": "28173b56-bdcf-48f3-d07f-fc66774d0846"
      },
      "execution_count": null,
      "outputs": [
        {
          "output_type": "execute_result",
          "data": {
            "image/png": "[encoded data removed]",
            "text/plain": [
              "<IPython.core.display.Image object>"
            ]
          },
          "metadata": {},
          "execution_count": 82
        }
      ]
    },
    {
      "cell_type": "code",
      "source": [
        "# Compile the model\n",
        "\n",
        "token_char_hybrid_model.compile (loss = \"categorical_crossentropy\",\n",
        "                                 optimizer = tf.keras.optimizers.Adam(),\n",
        "                                 metrics = [\"accuracy\"])"
      ],
      "metadata": {
        "id": "PxX6Pk8lEnAZ"
      },
      "execution_count": null,
      "outputs": []
    },
    {
      "cell_type": "markdown",
      "source": [
        "#### Creating Datasets fot the Hybrid Model"
      ],
      "metadata": {
        "id": "Nq1WGzsKKMFj"
      }
    },
    {
      "cell_type": "code",
      "source": [
        "# Combine the characters and token into a dataset\n",
        "\n",
        "train_char_token_data = tf.data.Dataset.from_tensor_slices ((train_sentences, train_chars))\n",
        "train_char_token_labels = tf.data.Dataset.from_tensor_slices (train_labels_one_hot)\n",
        "\n",
        "# Combine data and labels to make a dataset\n",
        "train_dataset_hybrid = tf.data.Dataset.zip ((train_char_token_data, train_char_token_labels))\n",
        "\n",
        "# Create the batches and prefect the data\n",
        "train_dataset_hybrid = train_dataset_hybrid.batch(32).prefetch(tf.data.AUTOTUNE)\n",
        "\n",
        "# Same steps as above for the validation data\n",
        "val_char_token_data = tf.data.Dataset.from_tensor_slices ((val_sentences, val_chars))\n",
        "val_char_token_labels = tf.data.Dataset.from_tensor_slices (val_labels_one_hot)\n",
        "\n",
        "# Combine the data and labels into a dataset\n",
        "val_dataset_hybrid = tf.data.Dataset.zip ((val_char_token_data, val_char_token_labels))\n",
        "\n",
        "# Create the batches and prefetch the data\n",
        "val_dataset_hybrid = val_dataset_hybrid.batch(32).prefetch (tf.data.AUTOTUNE)"
      ],
      "metadata": {
        "id": "-ztq_KdqJPqs"
      },
      "execution_count": null,
      "outputs": []
    },
    {
      "cell_type": "code",
      "source": [
        "train_dataset_hybrid"
      ],
      "metadata": {
        "colab": {
          "base_uri": "https://localhost:8080/"
        },
        "id": "Mb4oGz4iL9zW",
        "outputId": "5f10047a-aba7-4955-d72e-81a5ff71e19e"
      },
      "execution_count": null,
      "outputs": [
        {
          "output_type": "execute_result",
          "data": {
            "text/plain": [
              "<_PrefetchDataset element_spec=((TensorSpec(shape=(None,), dtype=tf.string, name=None), TensorSpec(shape=(None,), dtype=tf.string, name=None)), TensorSpec(shape=(None, 5), dtype=tf.float64, name=None))>"
            ]
          },
          "metadata": {},
          "execution_count": 85
        }
      ]
    },
    {
      "cell_type": "code",
      "source": [
        "val_dataset_hybrid"
      ],
      "metadata": {
        "colab": {
          "base_uri": "https://localhost:8080/"
        },
        "id": "wf24qwZ6MAsq",
        "outputId": "08596210-9402-45b0-81f6-b1d01aac61dd"
      },
      "execution_count": null,
      "outputs": [
        {
          "output_type": "execute_result",
          "data": {
            "text/plain": [
              "<_PrefetchDataset element_spec=((TensorSpec(shape=(None,), dtype=tf.string, name=None), TensorSpec(shape=(None,), dtype=tf.string, name=None)), TensorSpec(shape=(None, 5), dtype=tf.float64, name=None))>"
            ]
          },
          "metadata": {},
          "execution_count": 86
        }
      ]
    },
    {
      "cell_type": "code",
      "source": [
        "# Fit and train the model\n",
        "\n",
        "history_model_hybrid = token_char_hybrid_model.fit (train_dataset_hybrid,\n",
        "                                                    epochs = 5,\n",
        "                                                    steps_per_epoch = int(0.1 * len (train_dataset_hybrid)),\n",
        "                                                    validation_data = val_dataset_hybrid,\n",
        "                                                    validation_steps = int(0.1 * len (val_dataset_hybrid)))"
      ],
      "metadata": {
        "colab": {
          "base_uri": "https://localhost:8080/"
        },
        "id": "xmTwix9RMNBj",
        "outputId": "17e085a8-ff0e-4286-ed77-e109274dd212"
      },
      "execution_count": null,
      "outputs": [
        {
          "output_type": "stream",
          "name": "stdout",
          "text": [
            "Epoch 1/5\n",
            "562/562 [==============================] - 126s 213ms/step - loss: 0.9672 - accuracy: 0.6153 - val_loss: 0.7795 - val_accuracy: 0.7018\n",
            "Epoch 2/5\n",
            "562/562 [==============================] - 110s 195ms/step - loss: 0.7899 - accuracy: 0.6951 - val_loss: 0.7110 - val_accuracy: 0.7334\n",
            "Epoch 3/5\n",
            "562/562 [==============================] - 108s 193ms/step - loss: 0.7615 - accuracy: 0.7106 - val_loss: 0.6856 - val_accuracy: 0.7400\n",
            "Epoch 4/5\n",
            "562/562 [==============================] - 105s 187ms/step - loss: 0.7365 - accuracy: 0.7215 - val_loss: 0.6642 - val_accuracy: 0.7500\n",
            "Epoch 5/5\n",
            "562/562 [==============================] - 107s 191ms/step - loss: 0.7357 - accuracy: 0.7201 - val_loss: 0.6515 - val_accuracy: 0.7513\n"
          ]
        }
      ]
    },
    {
      "cell_type": "code",
      "source": [
        "# Evaluate the model\n",
        "token_char_hybrid_model.evaluate (val_dataset_hybrid)"
      ],
      "metadata": {
        "colab": {
          "base_uri": "https://localhost:8080/"
        },
        "id": "oh0WZWaDNKF6",
        "outputId": "fab1128a-1a76-44c0-8168-4b059659f4d7"
      },
      "execution_count": null,
      "outputs": [
        {
          "output_type": "stream",
          "name": "stdout",
          "text": [
            "945/945 [==============================] - 45s 47ms/step - loss: 0.6597 - accuracy: 0.7489\n"
          ]
        },
        {
          "output_type": "execute_result",
          "data": {
            "text/plain": [
              "[0.6597002744674683, 0.7489408254623413]"
            ]
          },
          "metadata": {},
          "execution_count": 88
        }
      ]
    },
    {
      "cell_type": "code",
      "source": [
        "# Make predictions using the hybrid model\n",
        "hybrid_model_pred_probs = token_char_hybrid_model.predict (val_dataset_hybrid)\n",
        "hybrid_model_pred_probs"
      ],
      "metadata": {
        "colab": {
          "base_uri": "https://localhost:8080/"
        },
        "id": "6N0F1e8ONVP6",
        "outputId": "2084ccf1-722d-4869-ac99-af473b473a46"
      },
      "execution_count": null,
      "outputs": [
        {
          "output_type": "stream",
          "name": "stdout",
          "text": [
            "945/945 [==============================] - 52s 54ms/step\n"
          ]
        },
        {
          "output_type": "execute_result",
          "data": {
            "text/plain": [
              "array([[5.6044453e-01, 2.1977833e-01, 4.3689855e-03, 2.0956346e-01,\n",
              "        5.8447071e-03],\n",
              "       [4.1112366e-01, 4.6753547e-01, 6.7629772e-03, 1.1001955e-01,\n",
              "        4.5583472e-03],\n",
              "       [2.9452559e-01, 6.3082129e-02, 1.4344306e-01, 4.5400730e-01,\n",
              "        4.4941857e-02],\n",
              "       ...,\n",
              "       [2.4272762e-04, 6.8313716e-04, 5.7725627e-02, 8.7576664e-05,\n",
              "        9.4126093e-01],\n",
              "       [4.1643353e-03, 1.5087993e-02, 3.7348315e-01, 1.5918280e-03,\n",
              "        6.0567272e-01],\n",
              "       [2.9214245e-01, 3.5473689e-01, 2.8077742e-01, 8.1534600e-03,\n",
              "        6.4189814e-02]], dtype=float32)"
            ]
          },
          "metadata": {},
          "execution_count": 89
        }
      ]
    },
    {
      "cell_type": "code",
      "source": [
        "hybrid_model_probs = tf.argmax (hybrid_model_pred_probs, axis = 1)\n",
        "hybrid_model_probs"
      ],
      "metadata": {
        "colab": {
          "base_uri": "https://localhost:8080/"
        },
        "id": "_WqFoe3uNg85",
        "outputId": "9d62fd2e-79d1-419f-da88-4c40fc19fefc"
      },
      "execution_count": null,
      "outputs": [
        {
          "output_type": "execute_result",
          "data": {
            "text/plain": [
              "<tf.Tensor: shape=(30212,), dtype=int64, numpy=array([0, 1, 3, ..., 4, 4, 1])>"
            ]
          },
          "metadata": {},
          "execution_count": 90
        }
      ]
    },
    {
      "cell_type": "code",
      "source": [
        "model_4_results = calculate_results (y_true = val_labels_encoded,\n",
        "                   y_pred = hybrid_model_probs)"
      ],
      "metadata": {
        "id": "qnG3-769Noo3"
      },
      "execution_count": null,
      "outputs": []
    },
    {
      "cell_type": "markdown",
      "source": [
        "### Model 5: Token Embeddings + Character Embeddings + Positional Embeddings\n",
        "\n",
        "* **Feature Engineering**: Add some features that are not straighaway available into your model for it to train and understand the data better\n",
        "\n",
        "* The features that you engineering **should be available at test time**\n",
        "\n",
        "* **Features** to be engineered: `line_number`, `total_lines`"
      ],
      "metadata": {
        "id": "ABDI-htsYX7K"
      }
    },
    {
      "cell_type": "markdown",
      "source": [
        "#### Create positional embeddings"
      ],
      "metadata": {
        "id": "u8OJvNwDY42Q"
      }
    },
    {
      "cell_type": "code",
      "source": [
        "train_df[\"line_number\"].value_counts()"
      ],
      "metadata": {
        "colab": {
          "base_uri": "https://localhost:8080/"
        },
        "id": "NvePyTzrN0FA",
        "outputId": "5af9138f-d9a1-4f2e-b542-74c9d9e61014"
      },
      "execution_count": null,
      "outputs": [
        {
          "output_type": "execute_result",
          "data": {
            "text/plain": [
              "line_number\n",
              "0     15000\n",
              "1     15000\n",
              "2     15000\n",
              "3     15000\n",
              "4     14992\n",
              "5     14949\n",
              "6     14758\n",
              "7     14279\n",
              "8     13346\n",
              "9     11981\n",
              "10    10041\n",
              "11     7892\n",
              "12     5853\n",
              "13     4152\n",
              "14     2835\n",
              "15     1861\n",
              "16     1188\n",
              "17      751\n",
              "18      462\n",
              "19      286\n",
              "20      162\n",
              "21      101\n",
              "22       66\n",
              "23       33\n",
              "24       22\n",
              "25       14\n",
              "26        7\n",
              "27        4\n",
              "28        3\n",
              "29        1\n",
              "30        1\n",
              "Name: count, dtype: int64"
            ]
          },
          "metadata": {},
          "execution_count": 92
        }
      ]
    },
    {
      "cell_type": "code",
      "source": [
        "# Plot the distribution of line numbers\n",
        "plt.hist(train_df[\"line_number\"]);"
      ],
      "metadata": {
        "colab": {
          "base_uri": "https://localhost:8080/",
          "height": 430
        },
        "id": "Q7oXY5IMZYNs",
        "outputId": "a3a9fe0d-0fc0-4a39-adb5-a116e3c790c7"
      },
      "execution_count": null,
      "outputs": [
        {
          "output_type": "display_data",
          "data": {
            "text/plain": [
              "<Figure size 640x480 with 1 Axes>"
            ],
            "image/png": "[encoded data removed]"
          },
          "metadata": {}
        }
      ]
    },
    {
      "cell_type": "markdown",
      "source": [
        "* A laaaarge amount of data have the number of lines to be less than 20, so if we are one-hot encoding the `line_number` data, then it is suitable to have a depth of around 17-10 to avoid a lot of sentences to have additional zeros in them"
      ],
      "metadata": {
        "id": "msYVWD35ZtMQ"
      }
    },
    {
      "cell_type": "code",
      "source": [
        "train_line_number_one_hot = tf.one_hot (train_df[\"line_number\"].to_numpy(), depth = 15)\n",
        "val_line_number_one_hot = tf.one_hot (val_df[\"line_number\"].to_numpy(), depth = 15)\n",
        "test_line_number_one_hot = tf.one_hot (test_df[\"line_number\"].to_numpy(), depth = 15)\n",
        "\n",
        "train_line_number_one_hot.shape, val_line_number_one_hot.shape, test_line_number_one_hot.shape"
      ],
      "metadata": {
        "colab": {
          "base_uri": "https://localhost:8080/"
        },
        "id": "9me1bYOTZiAz",
        "outputId": "e99a63b4-6542-4505-c529-53559bde8d7a"
      },
      "execution_count": null,
      "outputs": [
        {
          "output_type": "execute_result",
          "data": {
            "text/plain": [
              "(TensorShape([180040, 15]), TensorShape([30212, 15]), TensorShape([30135, 15]))"
            ]
          },
          "metadata": {},
          "execution_count": 94
        }
      ]
    },
    {
      "cell_type": "markdown",
      "source": [
        "* **REPEAT THE SAME STEPS AS ABOVE TO VISUALISE AND ONE HOT ENCODE THE `total_lines` FEATURE**"
      ],
      "metadata": {
        "id": "o2aJmAqeahzy"
      }
    },
    {
      "cell_type": "code",
      "source": [
        "train_df[\"total_lines_in_abstract\"].value_counts()"
      ],
      "metadata": {
        "colab": {
          "base_uri": "https://localhost:8080/"
        },
        "id": "zYYqzBcZaa3_",
        "outputId": "8e074a27-599f-4c75-84df-bdd6f329215b"
      },
      "execution_count": null,
      "outputs": [
        {
          "output_type": "execute_result",
          "data": {
            "text/plain": [
              "total_lines_in_abstract\n",
              "11    24468\n",
              "10    23639\n",
              "12    22113\n",
              "9     19400\n",
              "13    18438\n",
              "14    14610\n",
              "8     12285\n",
              "15    10768\n",
              "7      7464\n",
              "16     7429\n",
              "17     5202\n",
              "6      3353\n",
              "18     3344\n",
              "19     2480\n",
              "20     1281\n",
              "5      1146\n",
              "21      770\n",
              "22      759\n",
              "23      264\n",
              "4       215\n",
              "24      200\n",
              "25      182\n",
              "26       81\n",
              "28       58\n",
              "3        32\n",
              "30       31\n",
              "27       28\n",
              "Name: count, dtype: int64"
            ]
          },
          "metadata": {},
          "execution_count": 95
        }
      ]
    },
    {
      "cell_type": "code",
      "source": [
        "# Plot out its distribution\n",
        "\n",
        "plt.hist (train_df[\"total_lines_in_abstract\"]);"
      ],
      "metadata": {
        "colab": {
          "base_uri": "https://localhost:8080/",
          "height": 431
        },
        "id": "fiShWyP5a1MD",
        "outputId": "0e50a443-1668-4d98-da2b-aef58d30f400"
      },
      "execution_count": null,
      "outputs": [
        {
          "output_type": "display_data",
          "data": {
            "text/plain": [
              "<Figure size 640x480 with 1 Axes>"
            ],
            "image/png": "[encoded data removed]"
          },
          "metadata": {}
        }
      ]
    },
    {
      "cell_type": "code",
      "source": [
        "train_total_lines_one_hot = tf.one_hot(train_df[\"total_lines_in_abstract\"].to_numpy(), depth = 20)\n",
        "val_total_lines_one_hot = tf.one_hot(val_df[\"total_lines_in_abstract\"].to_numpy(), depth = 20)\n",
        "test_total_lines_one_hot = tf.one_hot (test_df[\"total_lines_in_abstract\"].to_numpy(), depth = 20)\n",
        "\n",
        "train_total_lines_one_hot.shape, val_total_lines_one_hot.shape, test_total_lines_one_hot.shape"
      ],
      "metadata": {
        "colab": {
          "base_uri": "https://localhost:8080/"
        },
        "id": "Hf5ogsbibAVL",
        "outputId": "46fbd76c-8ca3-4d05-b8a1-1a88c860c3d4"
      },
      "execution_count": null,
      "outputs": [
        {
          "output_type": "execute_result",
          "data": {
            "text/plain": [
              "(TensorShape([180040, 20]), TensorShape([30212, 20]), TensorShape([30135, 20]))"
            ]
          },
          "metadata": {},
          "execution_count": 97
        }
      ]
    },
    {
      "cell_type": "markdown",
      "source": [
        "#### Steps to create the first ever **TRIBID Model**\n",
        "\n",
        "* Create the token level model\n",
        "* Create the character level model\n",
        "* Create the model for `line_number`\n",
        "* Create the model for `total_lines` feature\n",
        "* Combine the outputs of 1, 2 using `tf.layers.Concatenate`\n",
        "* Combine the outputs of 3, 4, 5 using `tf.layers.Concatenate`\n",
        "* Create an output layer to accept the **TRIBID** model input and give out the predicted probabilities"
      ],
      "metadata": {
        "id": "-93PS_CvEmsJ"
      }
    },
    {
      "cell_type": "code",
      "source": [
        "# 1. Create the token-level model\n",
        "token_inputs = layers.Input (shape = [], dtype = tf.string, name = \"Token_Embedding_Input\")\n",
        "token_embedding = pre_trained_feature_extractor_layer (token_inputs)\n",
        "token_outputs = layers.Dense (128, activation = \"relu\")(token_embedding)\n",
        "token_embedding_model = tf.keras.Model (inputs = token_inputs,\n",
        "                                        outputs = token_outputs)\n",
        "\n",
        "# 2. Create the Character Level Embedding layer\n",
        "char_inputs = layers.Input (shape = (1,), dtype = tf.string, name = \"Character_Embedding_Input\")\n",
        "char_vectors = char_vectorizer (char_inputs)\n",
        "char_embed = char_embedding (char_vectors)\n",
        "char_bi_LSTM = layers.Bidirectional(layers.LSTM(25))(char_embed)\n",
        "char_embedding_model = tf.keras.Model (inputs = char_inputs,\n",
        "                                       outputs = char_bi_LSTM)\n",
        "\n",
        "# 3. Create the model for the line_number feature\n",
        "line_number_inputs = layers.Input (shape = (15,), dtype = tf.int32, name = \"Line_Number_Inputs\")\n",
        "x = layers.Dense (32, activation = \"relu\")(line_number_inputs)\n",
        "line_number_model = tf.keras.Model (inputs = line_number_inputs,\n",
        "                                    outputs = x)\n",
        "\n",
        "# 4. Create the model for total_lines feature\n",
        "total_lines_inputs = layers.Input (shape = (20,), dtype = tf.int32, name = \"Total_Lines_Inputs\")\n",
        "y = layers.Dense (32, activation = \"relu\")(total_lines_inputs)\n",
        "total_lines_model = tf.keras.Model (inputs = total_lines_inputs,\n",
        "                                    outputs = y)\n",
        "\n",
        "# 5. Combine the outputs of 1 & 2\n",
        "combined_embeddings = layers.Concatenate (name = \"Combined_Embeddings\")([token_embedding_model.output,\n",
        "                                                                         char_embedding_model.output])\n",
        "\n",
        "z = layers.Dense (256, activation = \"relu\") (combined_embeddings)\n",
        "z = layers.Dropout (0.5)(z)\n",
        "\n",
        "# 6. Combine 3, 4, 5\n",
        "combined_tribid_layer = layers.Concatenate (name = \"Tribid_Layer\")([line_number_model.output,\n",
        "                                                                    total_lines_model.output,\n",
        "                                                                    z])\n",
        "\n",
        "output_layer = layers.Dense(num_classes, activation = \"softmax\")(combined_tribid_layer)\n",
        "\n",
        "tribid_model = tf.keras.Model (inputs = [token_embedding_model.input,\n",
        "                                         char_embedding_model.input,\n",
        "                                         line_number_model.input,\n",
        "                                         total_lines_model.input],\n",
        "                               outputs = output_layer)"
      ],
      "metadata": {
        "id": "hH927Z2DbZHX"
      },
      "execution_count": null,
      "outputs": []
    },
    {
      "cell_type": "code",
      "source": [
        "tribid_model.summary()"
      ],
      "metadata": {
        "colab": {
          "base_uri": "https://localhost:8080/"
        },
        "id": "nD8JyjExKRkb",
        "outputId": "d77e9b86-079a-4356-dde8-3d8e676b5108"
      },
      "execution_count": null,
      "outputs": [
        {
          "output_type": "stream",
          "name": "stdout",
          "text": [
            "Model: \"model_8\"\n",
            "__________________________________________________________________________________________________\n",
            " Layer (type)                Output Shape                 Param #   Connected to                  \n",
            "==================================================================================================\n",
            " Character_Embedding_Input   [(None, 1)]                  0         []                            \n",
            " (InputLayer)                                                                                     \n",
            "                                                                                                  \n",
            " Token_Embedding_Input (Inp  [(None,)]                    0         []                            \n",
            " utLayer)                                                                                         \n",
            "                                                                                                  \n",
            " Tokenize_Character (TextVe  (None, 290)                  0         ['Character_Embedding_Input[0]\n",
            " ctorization)                                                       [0]']                         \n",
            "                                                                                                  \n",
            " Pre_Trained_Embedding_Laye  (None, 512)                  2567978   ['Token_Embedding_Input[0][0]'\n",
            " r (KerasLayer)                                           24        ]                             \n",
            "                                                                                                  \n",
            " Character_Embedding (Embed  (None, 290, 25)              1750      ['Tokenize_Character[2][0]']  \n",
            " ding)                                                                                            \n",
            "                                                                                                  \n",
            " dense_5 (Dense)             (None, 128)                  65664     ['Pre_Trained_Embedding_Layer[\n",
            "                                                                    2][0]']                       \n",
            "                                                                                                  \n",
            " bidirectional_1 (Bidirecti  (None, 50)                   10200     ['Character_Embedding[2][0]'] \n",
            " onal)                                                                                            \n",
            "                                                                                                  \n",
            " Combined_Embeddings (Conca  (None, 178)                  0         ['dense_5[0][0]',             \n",
            " tenate)                                                             'bidirectional_1[0][0]']     \n",
            "                                                                                                  \n",
            " Line_Number_Inputs (InputL  [(None, 15)]                 0         []                            \n",
            " ayer)                                                                                            \n",
            "                                                                                                  \n",
            " Total_Lines_Inputs (InputL  [(None, 20)]                 0         []                            \n",
            " ayer)                                                                                            \n",
            "                                                                                                  \n",
            " dense_8 (Dense)             (None, 256)                  45824     ['Combined_Embeddings[0][0]'] \n",
            "                                                                                                  \n",
            " dense_6 (Dense)             (None, 32)                   512       ['Line_Number_Inputs[0][0]']  \n",
            "                                                                                                  \n",
            " dense_7 (Dense)             (None, 32)                   672       ['Total_Lines_Inputs[0][0]']  \n",
            "                                                                                                  \n",
            " dropout_2 (Dropout)         (None, 256)                  0         ['dense_8[0][0]']             \n",
            "                                                                                                  \n",
            " Tribid_Layer (Concatenate)  (None, 320)                  0         ['dense_6[0][0]',             \n",
            "                                                                     'dense_7[0][0]',             \n",
            "                                                                     'dropout_2[0][0]']           \n",
            "                                                                                                  \n",
            " dense_9 (Dense)             (None, 5)                    1605      ['Tribid_Layer[0][0]']        \n",
            "                                                                                                  \n",
            "==================================================================================================\n",
            "Total params: 256924051 (980.09 MB)\n",
            "Trainable params: 126227 (493.07 KB)\n",
            "Non-trainable params: 256797824 (979.61 MB)\n",
            "__________________________________________________________________________________________________\n"
          ]
        }
      ]
    },
    {
      "cell_type": "code",
      "source": [
        "# Plot and visualise the flow of the model\n",
        "\n",
        "from tensorflow.keras.utils import plot_model\n",
        "\n",
        "plot_model(tribid_model, show_shapes = True)"
      ],
      "metadata": {
        "colab": {
          "base_uri": "https://localhost:8080/",
          "height": 850
        },
        "id": "NCV2_GpbKWsf",
        "outputId": "36c61843-2b75-446d-e69d-c85ec5282892"
      },
      "execution_count": null,
      "outputs": [
        {
          "output_type": "execute_result",
          "data": {
            "image/png": "[encoded data removed]",
            "text/plain": [
              "<IPython.core.display.Image object>"
            ]
          },
          "metadata": {},
          "execution_count": 100
        }
      ]
    },
    {
      "cell_type": "code",
      "source": [
        "# Compile the model\n",
        "\n",
        "tribid_model.compile (loss = tf.keras.losses.CategoricalFocalCrossentropy(label_smoothing = 0.2),\n",
        "                      optimizer = tf.keras.optimizers.Adam(),\n",
        "                      metrics = [\"accuracy\"])"
      ],
      "metadata": {
        "id": "jxSE_4f8KiXA"
      },
      "execution_count": null,
      "outputs": []
    },
    {
      "cell_type": "code",
      "source": [
        "# Creating test and validation datasets\n",
        "\n",
        "train_tribid_data = tf.data.Dataset.from_tensor_slices ((train_sentences,\n",
        "                                                         train_chars,\n",
        "                                                         train_line_number_one_hot,\n",
        "                                                         train_total_lines_one_hot))\n",
        "train_tribid_labels = tf.data.Dataset.from_tensor_slices (train_labels_one_hot)\n",
        "train_tribid_dataset = tf.data.Dataset.zip((train_tribid_data, train_tribid_labels))\n",
        "train_tribid_dataset = train_tribid_dataset.batch(32).prefetch(tf.data.AUTOTUNE)\n",
        "\n",
        "val_tribid_data = tf.data.Dataset.from_tensor_slices((val_sentences,\n",
        "                                                      val_chars,\n",
        "                                                      val_line_number_one_hot,\n",
        "                                                      val_total_lines_one_hot))\n",
        "val_tribid_labels = tf.data.Dataset.from_tensor_slices (val_labels_one_hot)\n",
        "val_tribid_dataset = tf.data.Dataset.zip ((val_tribid_data, val_tribid_labels))\n",
        "val_tribid_dataset = val_tribid_dataset.batch(32).prefetch(tf.data.AUTOTUNE)"
      ],
      "metadata": {
        "id": "xd4GD0jbQhah"
      },
      "execution_count": null,
      "outputs": []
    },
    {
      "cell_type": "code",
      "source": [
        "# Fit and train the data\n",
        "\n",
        "history_tribid_model = tribid_model.fit (train_tribid_dataset,\n",
        "                                         epochs = 3,\n",
        "                                         steps_per_epoch = int(0.1 * len(train_tribid_dataset)),\n",
        "                                         validation_data = val_tribid_dataset,\n",
        "                                         validation_steps = int(0.1 * len(val_tribid_dataset)))"
      ],
      "metadata": {
        "colab": {
          "base_uri": "https://localhost:8080/"
        },
        "id": "X2MupRIpdFf9",
        "outputId": "7f363c01-bfb4-4305-9a03-f69bb021d6c5"
      },
      "execution_count": null,
      "outputs": [
        {
          "output_type": "stream",
          "name": "stdout",
          "text": [
            "Epoch 1/3\n",
            "562/562 [==============================] - 116s 194ms/step - loss: 0.1556 - accuracy: 0.7315 - val_loss: 0.1353 - val_accuracy: 0.8112\n",
            "Epoch 2/3\n",
            "562/562 [==============================] - 106s 188ms/step - loss: 0.1338 - accuracy: 0.8166 - val_loss: 0.1307 - val_accuracy: 0.8311\n",
            "Epoch 3/3\n",
            "501/562 [=========================>....] - ETA: 11s - loss: 0.1314 - accuracy: 0.8248"
          ]
        }
      ]
    },
    {
      "cell_type": "code",
      "source": [
        "# Evaluate the model\n",
        "\n",
        "tribid_model.evaluate (val_tribid_dataset)"
      ],
      "metadata": {
        "colab": {
          "base_uri": "https://localhost:8080/"
        },
        "id": "iYqMaSTydmq-",
        "outputId": "c5c26128-384c-4b7a-c272-b0c1d094862f"
      },
      "execution_count": null,
      "outputs": [
        {
          "output_type": "stream",
          "name": "stdout",
          "text": [
            "945/945 [==============================] - 65s 69ms/step - loss: 0.1293 - accuracy: 0.8335\n"
          ]
        },
        {
          "output_type": "execute_result",
          "data": {
            "text/plain": [
              "[0.12925884127616882, 0.8335429430007935]"
            ]
          },
          "metadata": {},
          "execution_count": 107
        }
      ]
    },
    {
      "cell_type": "code",
      "source": [
        "# Make prediction based on your model\n",
        "\n",
        "tribid_model_pred_probs = tribid_model.predict(val_tribid_dataset)\n",
        "tribid_model_preds = tribid_model_pred_probs.argmax(axis = 1)\n",
        "tribid_model_preds"
      ],
      "metadata": {
        "colab": {
          "base_uri": "https://localhost:8080/"
        },
        "id": "JPtGvm3cfiwz",
        "outputId": "70148c98-132f-4b5e-d896-0edc9e174458"
      },
      "execution_count": null,
      "outputs": [
        {
          "output_type": "stream",
          "name": "stdout",
          "text": [
            "945/945 [==============================] - 46s 49ms/step\n"
          ]
        },
        {
          "output_type": "execute_result",
          "data": {
            "text/plain": [
              "array([0, 0, 3, ..., 4, 4, 1])"
            ]
          },
          "metadata": {},
          "execution_count": 108
        }
      ]
    },
    {
      "cell_type": "code",
      "source": [
        "model_5_results = calculate_results(y_true = val_labels_encoded,\n",
        "                  y_pred = tribid_model_preds)"
      ],
      "metadata": {
        "id": "7E9sJluvf84N"
      },
      "execution_count": null,
      "outputs": []
    },
    {
      "cell_type": "code",
      "source": [
        "all_model_results = pd.DataFrame({\"baseline\": baseline_results,\n",
        "                                  \"custom_token_embed_conv1d\": model_1_results,\n",
        "                                  \"pretrained_token_embed\": model_2_results,\n",
        "                                  \"custom_char_embed_conv1d\": model_3_results,\n",
        "                                  \"hybrid_char_token_embed\": model_4_results,\n",
        "                                  \"tribrid_pos_char_token_embed\": model_5_results})\n",
        "all_model_results = all_model_results.transpose()\n",
        "all_model_results"
      ],
      "metadata": {
        "colab": {
          "base_uri": "https://localhost:8080/",
          "height": 237
        },
        "id": "hPGxSCWegQ6M",
        "outputId": "0b690454-2a23-4635-9b6e-abbee3e26e45"
      },
      "execution_count": null,
      "outputs": [
        {
          "output_type": "execute_result",
          "data": {
            "text/plain": [
              "                               accuracy  precision    recall        f1\n",
              "baseline                      72.183238   0.718647  0.721832  0.698925\n",
              "custom_token_embed_conv1d     78.108037   0.777243  0.781080  0.778478\n",
              "pretrained_token_embed        71.445121   0.714839  0.714451  0.711307\n",
              "custom_char_embed_conv1d      65.030451   0.647090  0.650305  0.639626\n",
              "hybrid_char_token_embed       74.894082   0.746255  0.748941  0.743595\n",
              "tribrid_pos_char_token_embed  83.354296   0.833272  0.833543  0.833069"
            ],
            "text/html": [
              "\n",
              "  <div id=\"df-1d75f1d9-75f2-4ccb-a64a-404b805c024f\" class=\"colab-df-container\">\n",
              "    <div>\n",
              "<style scoped>\n",
              "    .dataframe tbody tr th:only-of-type {\n",
              "        vertical-align: middle;\n",
              "    }\n",
              "\n",
              "    .dataframe tbody tr th {\n",
              "        vertical-align: top;\n",
              "    }\n",
              "\n",
              "    .dataframe thead th {\n",
              "        text-align: right;\n",
              "    }\n",
              "</style>\n",
              "<table border=\"1\" class=\"dataframe\">\n",
              "  <thead>\n",
              "    <tr style=\"text-align: right;\">\n",
              "      <th></th>\n",
              "      <th>accuracy</th>\n",
              "      <th>precision</th>\n",
              "      <th>recall</th>\n",
              "      <th>f1</th>\n",
              "    </tr>\n",
              "  </thead>\n",
              "  <tbody>\n",
              "    <tr>\n",
              "      <th>baseline</th>\n",
              "      <td>72.183238</td>\n",
              "      <td>0.718647</td>\n",
              "      <td>0.721832</td>\n",
              "      <td>0.698925</td>\n",
              "    </tr>\n",
              "    <tr>\n",
              "      <th>custom_token_embed_conv1d</th>\n",
              "      <td>78.108037</td>\n",
              "      <td>0.777243</td>\n",
              "      <td>0.781080</td>\n",
              "      <td>0.778478</td>\n",
              "    </tr>\n",
              "    <tr>\n",
              "      <th>pretrained_token_embed</th>\n",
              "      <td>71.445121</td>\n",
              "      <td>0.714839</td>\n",
              "      <td>0.714451</td>\n",
              "      <td>0.711307</td>\n",
              "    </tr>\n",
              "    <tr>\n",
              "      <th>custom_char_embed_conv1d</th>\n",
              "      <td>65.030451</td>\n",
              "      <td>0.647090</td>\n",
              "      <td>0.650305</td>\n",
              "      <td>0.639626</td>\n",
              "    </tr>\n",
              "    <tr>\n",
              "      <th>hybrid_char_token_embed</th>\n",
              "      <td>74.894082</td>\n",
              "      <td>0.746255</td>\n",
              "      <td>0.748941</td>\n",
              "      <td>0.743595</td>\n",
              "    </tr>\n",
              "    <tr>\n",
              "      <th>tribrid_pos_char_token_embed</th>\n",
              "      <td>83.354296</td>\n",
              "      <td>0.833272</td>\n",
              "      <td>0.833543</td>\n",
              "      <td>0.833069</td>\n",
              "    </tr>\n",
              "  </tbody>\n",
              "</table>\n",
              "</div>\n",
              "    <div class=\"colab-df-buttons\">\n",
              "\n",
              "  <div class=\"colab-df-container\">\n",
              "    <button class=\"colab-df-convert\" onclick=\"convertToInteractive('df-1d75f1d9-75f2-4ccb-a64a-404b805c024f')\"\n",
              "            title=\"Convert this dataframe to an interactive table.\"\n",
              "            style=\"display:none;\">\n",
              "\n",
              "  <svg xmlns=\"http://www.w3.org/2000/svg\" height=\"24px\" viewBox=\"0 -960 960 960\">\n",
              "    <path d=\"M120-120v-720h720v720H120Zm60-500h600v-160H180v160Zm220 220h160v-160H400v160Zm0 220h160v-160H400v160ZM180-400h160v-160H180v160Zm440 0h160v-160H620v160ZM180-180h160v-160H180v160Zm440 0h160v-160H620v160Z\"/>\n",
              "  </svg>\n",
              "    </button>\n",
              "\n",
              "  <style>\n",
              "    .colab-df-container {\n",
              "      display:flex;\n",
              "      gap: 12px;\n",
              "    }\n",
              "\n",
              "    .colab-df-convert {\n",
              "      background-color: #E8F0FE;\n",
              "      border: none;\n",
              "      border-radius: 50%;\n",
              "      cursor: pointer;\n",
              "      display: none;\n",
              "      fill: #1967D2;\n",
              "      height: 32px;\n",
              "      padding: 0 0 0 0;\n",
              "      width: 32px;\n",
              "    }\n",
              "\n",
              "    .colab-df-convert:hover {\n",
              "      background-color: #E2EBFA;\n",
              "      box-shadow: 0px 1px 2px rgba(60, 64, 67, 0.3), 0px 1px 3px 1px rgba(60, 64, 67, 0.15);\n",
              "      fill: #174EA6;\n",
              "    }\n",
              "\n",
              "    .colab-df-buttons div {\n",
              "      margin-bottom: 4px;\n",
              "    }\n",
              "\n",
              "    [theme=dark] .colab-df-convert {\n",
              "      background-color: #3B4455;\n",
              "      fill: #D2E3FC;\n",
              "    }\n",
              "\n",
              "    [theme=dark] .colab-df-convert:hover {\n",
              "      background-color: #434B5C;\n",
              "      box-shadow: 0px 1px 3px 1px rgba(0, 0, 0, 0.15);\n",
              "      filter: drop-shadow(0px 1px 2px rgba(0, 0, 0, 0.3));\n",
              "      fill: #FFFFFF;\n",
              "    }\n",
              "  </style>\n",
              "\n",
              "    <script>\n",
              "      const buttonEl =\n",
              "        document.querySelector('#df-1d75f1d9-75f2-4ccb-a64a-404b805c024f button.colab-df-convert');\n",
              "      buttonEl.style.display =\n",
              "        google.colab.kernel.accessAllowed ? 'block' : 'none';\n",
              "\n",
              "      async function convertToInteractive(key) {\n",
              "        const element = document.querySelector('#df-1d75f1d9-75f2-4ccb-a64a-404b805c024f');\n",
              "        const dataTable =\n",
              "          await google.colab.kernel.invokeFunction('convertToInteractive',\n",
              "                                                    [key], {});\n",
              "        if (!dataTable) return;\n",
              "\n",
              "        const docLinkHtml = 'Like what you see? Visit the ' +\n",
              "          '<a target=\"_blank\" href=https://colab.research.google.com/notebooks/data_table.ipynb>data table notebook</a>'\n",
              "          + ' to learn more about interactive tables.';\n",
              "        element.innerHTML = '';\n",
              "        dataTable['output_type'] = 'display_data';\n",
              "        await google.colab.output.renderOutput(dataTable, element);\n",
              "        const docLink = document.createElement('div');\n",
              "        docLink.innerHTML = docLinkHtml;\n",
              "        element.appendChild(docLink);\n",
              "      }\n",
              "    </script>\n",
              "  </div>\n",
              "\n",
              "\n",
              "<div id=\"df-4f2260d1-a15e-4331-ac88-68c28cac30ef\">\n",
              "  <button class=\"colab-df-quickchart\" onclick=\"quickchart('df-4f2260d1-a15e-4331-ac88-68c28cac30ef')\"\n",
              "            title=\"Suggest charts\"\n",
              "            style=\"display:none;\">\n",
              "\n",
              "<svg xmlns=\"http://www.w3.org/2000/svg\" height=\"24px\"viewBox=\"0 0 24 24\"\n",
              "     width=\"24px\">\n",
              "    <g>\n",
              "        <path d=\"M19 3H5c-1.1 0-2 .9-2 2v14c0 1.1.9 2 2 2h14c1.1 0 2-.9 2-2V5c0-1.1-.9-2-2-2zM9 17H7v-7h2v7zm4 0h-2V7h2v10zm4 0h-2v-4h2v4z\"/>\n",
              "    </g>\n",
              "</svg>\n",
              "  </button>\n",
              "\n",
              "<style>\n",
              "  .colab-df-quickchart {\n",
              "      --bg-color: #E8F0FE;\n",
              "      --fill-color: #1967D2;\n",
              "      --hover-bg-color: #E2EBFA;\n",
              "      --hover-fill-color: #174EA6;\n",
              "      --disabled-fill-color: #AAA;\n",
              "      --disabled-bg-color: #DDD;\n",
              "  }\n",
              "\n",
              "  [theme=dark] .colab-df-quickchart {\n",
              "      --bg-color: #3B4455;\n",
              "      --fill-color: #D2E3FC;\n",
              "      --hover-bg-color: #434B5C;\n",
              "      --hover-fill-color: #FFFFFF;\n",
              "      --disabled-bg-color: #3B4455;\n",
              "      --disabled-fill-color: #666;\n",
              "  }\n",
              "\n",
              "  .colab-df-quickchart {\n",
              "    background-color: var(--bg-color);\n",
              "    border: none;\n",
              "    border-radius: 50%;\n",
              "    cursor: pointer;\n",
              "    display: none;\n",
              "    fill: var(--fill-color);\n",
              "    height: 32px;\n",
              "    padding: 0;\n",
              "    width: 32px;\n",
              "  }\n",
              "\n",
              "  .colab-df-quickchart:hover {\n",
              "    background-color: var(--hover-bg-color);\n",
              "    box-shadow: 0 1px 2px rgba(60, 64, 67, 0.3), 0 1px 3px 1px rgba(60, 64, 67, 0.15);\n",
              "    fill: var(--button-hover-fill-color);\n",
              "  }\n",
              "\n",
              "  .colab-df-quickchart-complete:disabled,\n",
              "  .colab-df-quickchart-complete:disabled:hover {\n",
              "    background-color: var(--disabled-bg-color);\n",
              "    fill: var(--disabled-fill-color);\n",
              "    box-shadow: none;\n",
              "  }\n",
              "\n",
              "  .colab-df-spinner {\n",
              "    border: 2px solid var(--fill-color);\n",
              "    border-color: transparent;\n",
              "    border-bottom-color: var(--fill-color);\n",
              "    animation:\n",
              "      spin 1s steps(1) infinite;\n",
              "  }\n",
              "\n",
              "  @keyframes spin {\n",
              "    0% {\n",
              "      border-color: transparent;\n",
              "      border-bottom-color: var(--fill-color);\n",
              "      border-left-color: var(--fill-color);\n",
              "    }\n",
              "    20% {\n",
              "      border-color: transparent;\n",
              "      border-left-color: var(--fill-color);\n",
              "      border-top-color: var(--fill-color);\n",
              "    }\n",
              "    30% {\n",
              "      border-color: transparent;\n",
              "      border-left-color: var(--fill-color);\n",
              "      border-top-color: var(--fill-color);\n",
              "      border-right-color: var(--fill-color);\n",
              "    }\n",
              "    40% {\n",
              "      border-color: transparent;\n",
              "      border-right-color: var(--fill-color);\n",
              "      border-top-color: var(--fill-color);\n",
              "    }\n",
              "    60% {\n",
              "      border-color: transparent;\n",
              "      border-right-color: var(--fill-color);\n",
              "    }\n",
              "    80% {\n",
              "      border-color: transparent;\n",
              "      border-right-color: var(--fill-color);\n",
              "      border-bottom-color: var(--fill-color);\n",
              "    }\n",
              "    90% {\n",
              "      border-color: transparent;\n",
              "      border-bottom-color: var(--fill-color);\n",
              "    }\n",
              "  }\n",
              "</style>\n",
              "\n",
              "  <script>\n",
              "    async function quickchart(key) {\n",
              "      const quickchartButtonEl =\n",
              "        document.querySelector('#' + key + ' button');\n",
              "      quickchartButtonEl.disabled = true;  // To prevent multiple clicks.\n",
              "      quickchartButtonEl.classList.add('colab-df-spinner');\n",
              "      try {\n",
              "        const charts = await google.colab.kernel.invokeFunction(\n",
              "            'suggestCharts', [key], {});\n",
              "      } catch (error) {\n",
              "        console.error('Error during call to suggestCharts:', error);\n",
              "      }\n",
              "      quickchartButtonEl.classList.remove('colab-df-spinner');\n",
              "      quickchartButtonEl.classList.add('colab-df-quickchart-complete');\n",
              "    }\n",
              "    (() => {\n",
              "      let quickchartButtonEl =\n",
              "        document.querySelector('#df-4f2260d1-a15e-4331-ac88-68c28cac30ef button');\n",
              "      quickchartButtonEl.style.display =\n",
              "        google.colab.kernel.accessAllowed ? 'block' : 'none';\n",
              "    })();\n",
              "  </script>\n",
              "</div>\n",
              "\n",
              "  <div id=\"id_7ade48cb-dc3c-408b-992a-02370c7bc303\">\n",
              "    <style>\n",
              "      .colab-df-generate {\n",
              "        background-color: #E8F0FE;\n",
              "        border: none;\n",
              "        border-radius: 50%;\n",
              "        cursor: pointer;\n",
              "        display: none;\n",
              "        fill: #1967D2;\n",
              "        height: 32px;\n",
              "        padding: 0 0 0 0;\n",
              "        width: 32px;\n",
              "      }\n",
              "\n",
              "      .colab-df-generate:hover {\n",
              "        background-color: #E2EBFA;\n",
              "        box-shadow: 0px 1px 2px rgba(60, 64, 67, 0.3), 0px 1px 3px 1px rgba(60, 64, 67, 0.15);\n",
              "        fill: #174EA6;\n",
              "      }\n",
              "\n",
              "      [theme=dark] .colab-df-generate {\n",
              "        background-color: #3B4455;\n",
              "        fill: #D2E3FC;\n",
              "      }\n",
              "\n",
              "      [theme=dark] .colab-df-generate:hover {\n",
              "        background-color: #434B5C;\n",
              "        box-shadow: 0px 1px 3px 1px rgba(0, 0, 0, 0.15);\n",
              "        filter: drop-shadow(0px 1px 2px rgba(0, 0, 0, 0.3));\n",
              "        fill: #FFFFFF;\n",
              "      }\n",
              "    </style>\n",
              "    <button class=\"colab-df-generate\" onclick=\"generateWithVariable('all_model_results')\"\n",
              "            title=\"Generate code using this dataframe.\"\n",
              "            style=\"display:none;\">\n",
              "\n",
              "  <svg xmlns=\"http://www.w3.org/2000/svg\" height=\"24px\"viewBox=\"0 0 24 24\"\n",
              "       width=\"24px\">\n",
              "    <path d=\"M7,19H8.4L18.45,9,17,7.55,7,17.6ZM5,21V16.75L18.45,3.32a2,2,0,0,1,2.83,0l1.4,1.43a1.91,1.91,0,0,1,.58,1.4,1.91,1.91,0,0,1-.58,1.4L9.25,21ZM18.45,9,17,7.55Zm-12,3A5.31,5.31,0,0,0,4.9,8.1,5.31,5.31,0,0,0,1,6.5,5.31,5.31,0,0,0,4.9,4.9,5.31,5.31,0,0,0,6.5,1,5.31,5.31,0,0,0,8.1,4.9,5.31,5.31,0,0,0,12,6.5,5.46,5.46,0,0,0,6.5,12Z\"/>\n",
              "  </svg>\n",
              "    </button>\n",
              "    <script>\n",
              "      (() => {\n",
              "      const buttonEl =\n",
              "        document.querySelector('#id_7ade48cb-dc3c-408b-992a-02370c7bc303 button.colab-df-generate');\n",
              "      buttonEl.style.display =\n",
              "        google.colab.kernel.accessAllowed ? 'block' : 'none';\n",
              "\n",
              "      buttonEl.onclick = () => {\n",
              "        google.colab.notebook.generateWithVariable('all_model_results');\n",
              "      }\n",
              "      })();\n",
              "    </script>\n",
              "  </div>\n",
              "\n",
              "    </div>\n",
              "  </div>\n"
            ],
            "application/vnd.google.colaboratory.intrinsic+json": {
              "type": "dataframe",
              "variable_name": "all_model_results",
              "summary": "{\n  \"name\": \"all_model_results\",\n  \"rows\": 6,\n  \"fields\": [\n    {\n      \"column\": \"accuracy\",\n      \"properties\": {\n        \"dtype\": \"number\",\n        \"std\": 6.2495960603909175,\n        \"min\": 65.0304514762346,\n        \"max\": 83.35429630610354,\n        \"num_unique_values\": 6,\n        \"samples\": [\n          72.1832384482987,\n          78.10803654177148,\n          83.35429630610354\n        ],\n        \"semantic_type\": \"\",\n        \"description\": \"\"\n      }\n    },\n    {\n      \"column\": \"precision\",\n      \"properties\": {\n        \"dtype\": \"number\",\n        \"std\": 0.06300136415914363,\n        \"min\": 0.6470900082248066,\n        \"max\": 0.8332716269300485,\n        \"num_unique_values\": 6,\n        \"samples\": [\n          0.7186466952323352,\n          0.7772426623417188,\n          0.8332716269300485\n        ],\n        \"semantic_type\": \"\",\n        \"description\": \"\"\n      }\n    },\n    {\n      \"column\": \"recall\",\n      \"properties\": {\n        \"dtype\": \"number\",\n        \"std\": 0.06249596060390918,\n        \"min\": 0.6503045147623461,\n        \"max\": 0.8335429630610354,\n        \"num_unique_values\": 6,\n        \"samples\": [\n          0.7218323844829869,\n          0.7810803654177149,\n          0.8335429630610354\n        ],\n        \"semantic_type\": \"\",\n        \"description\": \"\"\n      }\n    },\n    {\n      \"column\": \"f1\",\n      \"properties\": {\n        \"dtype\": \"number\",\n        \"std\": 0.06713634024263537,\n        \"min\": 0.6396262219538708,\n        \"max\": 0.8330688417301417,\n        \"num_unique_values\": 6,\n        \"samples\": [\n          0.6989250353450294,\n          0.7784779290720999,\n          0.8330688417301417\n        ],\n        \"semantic_type\": \"\",\n        \"description\": \"\"\n      }\n    }\n  ]\n}"
            }
          },
          "metadata": {},
          "execution_count": 115
        }
      ]
    },
    {
      "cell_type": "code",
      "source": [
        "all_model_results[\"accuracy\"] = all_model_results[\"accuracy\"]/100"
      ],
      "metadata": {
        "id": "vz3BBtE-Amck"
      },
      "execution_count": null,
      "outputs": []
    },
    {
      "cell_type": "code",
      "source": [
        "all_model_results.plot(kind=\"bar\", figsize=(10, 7)).legend(bbox_to_anchor=(1.0, 1.0));"
      ],
      "metadata": {
        "colab": {
          "base_uri": "https://localhost:8080/",
          "height": 798
        },
        "id": "Rq3y1R6NApcY",
        "outputId": "a2d70e74-2b86-4d73-b581-d7ecc499534e"
      },
      "execution_count": null,
      "outputs": [
        {
          "output_type": "display_data",
          "data": {
            "text/plain": [
              "<Figure size 1000x700 with 1 Axes>"
            ],
            "image/png": "[encoded data removed]"
          },
          "metadata": {}
        }
      ]
    },
    {
      "cell_type": "code",
      "source": [
        "all_model_results.sort_values(\"f1\", ascending=False)[\"f1\"].plot(kind=\"bar\", figsize=(10, 7));"
      ],
      "metadata": {
        "colab": {
          "base_uri": "https://localhost:8080/",
          "height": 798
        },
        "id": "11gVlpaVArAg",
        "outputId": "8cae47c8-5cc3-41ff-c371-7c4dfd6a8a6f"
      },
      "execution_count": null,
      "outputs": [
        {
          "output_type": "display_data",
          "data": {
            "text/plain": [
              "<Figure size 1000x700 with 1 Axes>"
            ],
            "image/png": "[encoded data removed]"
          },
          "metadata": {}
        }
      ]
    },
    {
      "cell_type": "code",
      "source": [
        "tribid_model.save(\"skimlit_tribrid_model\") # model will be saved to path specified by string"
      ],
      "metadata": {
        "id": "sqNUGx8dAtB5"
      },
      "execution_count": null,
      "outputs": []
    },
    {
      "cell_type": "code",
      "source": [
        "# Download pretrained model from Google Storage\n",
        "!wget https://storage.googleapis.com/ztm_tf_course/skimlit/skimlit_tribrid_model.zip\n",
        "!mkdir skimlit_gs_model\n",
        "!unzip skimlit_tribrid_model.zip -d skimlit_gs_model"
      ],
      "metadata": {
        "colab": {
          "base_uri": "https://localhost:8080/"
        },
        "id": "9zgL4zlAAvib",
        "outputId": "4ca608e6-61bd-42fe-c370-a77a8fc8919d"
      },
      "execution_count": null,
      "outputs": [
        {
          "output_type": "stream",
          "name": "stdout",
          "text": [
            "--2024-04-20 05:37:56--  https://storage.googleapis.com/ztm_tf_course/skimlit/skimlit_tribrid_model.zip\n",
            "Resolving storage.googleapis.com (storage.googleapis.com)... 173.194.203.207, 74.125.199.207, 74.125.197.207, ...\n",
            "Connecting to storage.googleapis.com (storage.googleapis.com)|173.194.203.207|:443... connected.\n",
            "HTTP request sent, awaiting response... 200 OK\n",
            "Length: 962182847 (918M) [application/zip]\n",
            "Saving to: ‘skimlit_tribrid_model.zip’\n",
            "\n",
            "skimlit_tribrid_mod 100%[===================>] 917.61M  78.7MB/s    in 18s     \n",
            "\n",
            "2024-04-20 05:38:15 (51.5 MB/s) - ‘skimlit_tribrid_model.zip’ saved [962182847/962182847]\n",
            "\n",
            "Archive:  skimlit_tribrid_model.zip\n",
            "   creating: skimlit_gs_model/skimlit_tribrid_model/\n",
            "  inflating: skimlit_gs_model/skimlit_tribrid_model/keras_metadata.pb  \n",
            "   creating: skimlit_gs_model/skimlit_tribrid_model/assets/\n",
            " extracting: skimlit_gs_model/skimlit_tribrid_model/fingerprint.pb  \n",
            "   creating: skimlit_gs_model/skimlit_tribrid_model/variables/\n",
            "  inflating: skimlit_gs_model/skimlit_tribrid_model/variables/variables.index  \n",
            "  inflating: skimlit_gs_model/skimlit_tribrid_model/variables/variables.data-00000-of-00001  \n",
            "  inflating: skimlit_gs_model/skimlit_tribrid_model/saved_model.pb  \n"
          ]
        }
      ]
    },
    {
      "cell_type": "code",
      "source": [
        "# Import TensorFlow model dependencies (if needed) - https://github.com/tensorflow/tensorflow/issues/38250\n",
        "import tensorflow_hub as hub\n",
        "import tensorflow as tf\n",
        "from tensorflow.keras.layers import TextVectorization\n",
        "\n",
        "model_path = \"skimlit_gs_model/skimlit_tribrid_model/\"\n",
        "\n",
        "# Load downloaded model from Google Storage\n",
        "loaded_model = tf.keras.models.load_model(model_path)#,\n",
        "                                          # Note: with TensorFlow 2.5+ if your SavedModel has a keras_metadata.pb file\n",
        "                                          # (created when using model.save()), you shouldn't need the custom_objects\n",
        "                                          # parameter. I'm leaving the code below here in case you do.\n",
        "                                          # custom_objects={\"TextVectorization\": TextVectorization, # required for char vectorization\n",
        "                                          #                 \"KerasLayer\": hub.KerasLayer}) # required for token embedding"
      ],
      "metadata": {
        "id": "iFLSFFXAA2G9"
      },
      "execution_count": null,
      "outputs": []
    },
    {
      "cell_type": "code",
      "source": [
        "# Create test dataset batch and prefetched\n",
        "test_pos_char_token_data = tf.data.Dataset.from_tensor_slices((test_line_number_one_hot,\n",
        "                                                               test_total_lines_one_hot,\n",
        "                                                               test_sentences,\n",
        "                                                               test_chars))\n",
        "test_pos_char_token_labels = tf.data.Dataset.from_tensor_slices(test_labels_one_hot)\n",
        "test_pos_char_token_dataset = tf.data.Dataset.zip((test_pos_char_token_data, test_pos_char_token_labels))\n",
        "test_pos_char_token_dataset = test_pos_char_token_dataset.batch(32).prefetch(tf.data.AUTOTUNE)\n",
        "\n",
        "# Check shapes\n",
        "test_pos_char_token_dataset"
      ],
      "metadata": {
        "colab": {
          "base_uri": "https://localhost:8080/"
        },
        "id": "oY0AUYOhNc1p",
        "outputId": "38c0e10f-dd12-46ed-92ab-0f5b55324cb3"
      },
      "execution_count": null,
      "outputs": [
        {
          "output_type": "execute_result",
          "data": {
            "text/plain": [
              "<_PrefetchDataset element_spec=((TensorSpec(shape=(None, 15), dtype=tf.float32, name=None), TensorSpec(shape=(None, 20), dtype=tf.float32, name=None), TensorSpec(shape=(None,), dtype=tf.string, name=None), TensorSpec(shape=(None,), dtype=tf.string, name=None)), TensorSpec(shape=(None, 5), dtype=tf.float64, name=None))>"
            ]
          },
          "metadata": {},
          "execution_count": 126
        }
      ]
    },
    {
      "cell_type": "code",
      "source": [
        "# Evaluate loaded model's predictions\n",
        "loaded_model_results = calculate_results(val_labels_encoded,\n",
        "                                         tribid_model_preds)\n",
        "loaded_model_results"
      ],
      "metadata": {
        "colab": {
          "base_uri": "https://localhost:8080/"
        },
        "id": "fNmZX2F-Nf7e",
        "outputId": "058273ae-012f-401b-dcff-4937a2d56310"
      },
      "execution_count": null,
      "outputs": [
        {
          "output_type": "execute_result",
          "data": {
            "text/plain": [
              "{'accuracy': 83.35429630610354,\n",
              " 'precision': 0.8332716269300485,\n",
              " 'recall': 0.8335429630610354,\n",
              " 'f1': 0.8330688417301417}"
            ]
          },
          "metadata": {},
          "execution_count": 127
        }
      ]
    },
    {
      "cell_type": "code",
      "source": [
        "import json\n",
        "# Download and open example abstracts (copy and pasted from PubMed)\n",
        "!wget https://raw.githubusercontent.com/mrdbourke/tensorflow-deep-learning/main/extras/skimlit_example_abstracts.json\n",
        "\n",
        "with open(\"skimlit_example_abstracts.json\", \"r\") as f:\n",
        "  example_abstracts = json.load(f)\n",
        "\n",
        "example_abstracts"
      ],
      "metadata": {
        "colab": {
          "base_uri": "https://localhost:8080/"
        },
        "id": "KRiF9Y5eNiWa",
        "outputId": "c5509bb5-6b94-4a9a-e2c6-9c53199b8dd3"
      },
      "execution_count": null,
      "outputs": [
        {
          "output_type": "stream",
          "name": "stdout",
          "text": [
            "--2024-04-20 06:36:13--  https://raw.githubusercontent.com/mrdbourke/tensorflow-deep-learning/main/extras/skimlit_example_abstracts.json\n",
            "Resolving raw.githubusercontent.com (raw.githubusercontent.com)... 185.199.108.133, 185.199.109.133, 185.199.110.133, ...\n",
            "Connecting to raw.githubusercontent.com (raw.githubusercontent.com)|185.199.108.133|:443... connected.\n",
            "HTTP request sent, awaiting response... 200 OK\n",
            "Length: 6737 (6.6K) [text/plain]\n",
            "Saving to: ‘skimlit_example_abstracts.json’\n",
            "\n",
            "skimlit_example_abs 100%[===================>]   6.58K  --.-KB/s    in 0s      \n",
            "\n",
            "2024-04-20 06:36:13 (63.5 MB/s) - ‘skimlit_example_abstracts.json’ saved [6737/6737]\n",
            "\n"
          ]
        },
        {
          "output_type": "execute_result",
          "data": {
            "text/plain": [
              "[{'abstract': 'This RCT examined the efficacy of a manualized social intervention for children with HFASDs. Participants were randomly assigned to treatment or wait-list conditions. Treatment included instruction and therapeutic activities targeting social skills, face-emotion recognition, interest expansion, and interpretation of non-literal language. A response-cost program was applied to reduce problem behaviors and foster skills acquisition. Significant treatment effects were found for five of seven primary outcome measures (parent ratings and direct child measures). Secondary measures based on staff ratings (treatment group only) corroborated gains reported by parents. High levels of parent, child and staff satisfaction were reported, along with high levels of treatment fidelity. Standardized effect size estimates were primarily in the medium and large ranges and favored the treatment group.',\n",
              "  'source': 'https://pubmed.ncbi.nlm.nih.gov/20232240/',\n",
              "  'details': 'RCT of a manualized social treatment for high-functioning autism spectrum disorders'},\n",
              " {'abstract': \"Postpartum depression (PPD) is the most prevalent mood disorder associated with childbirth. No single cause of PPD has been identified, however the increased risk of nutritional deficiencies incurred through the high nutritional requirements of pregnancy may play a role in the pathology of depressive symptoms. Three nutritional interventions have drawn particular interest as possible non-invasive and cost-effective prevention and/or treatment strategies for PPD; omega-3 (n-3) long chain polyunsaturated fatty acids (LCPUFA), vitamin D and overall diet. We searched for meta-analyses of randomised controlled trials (RCT's) of nutritional interventions during the perinatal period with PPD as an outcome, and checked for any trials published subsequently to the meta-analyses. Fish oil: Eleven RCT's of prenatal fish oil supplementation RCT's show null and positive effects on PPD symptoms. Vitamin D: no relevant RCT's were identified, however seven observational studies of maternal vitamin D levels with PPD outcomes showed inconsistent associations. Diet: Two Australian RCT's with dietary advice interventions in pregnancy had a positive and null result on PPD. With the exception of fish oil, few RCT's with nutritional interventions during pregnancy assess PPD. Further research is needed to determine whether nutritional intervention strategies during pregnancy can protect against symptoms of PPD. Given the prevalence of PPD and ease of administering PPD measures, we recommend future prenatal nutritional RCT's include PPD as an outcome.\",\n",
              "  'source': 'https://pubmed.ncbi.nlm.nih.gov/28012571/',\n",
              "  'details': 'Formatting removed (can be used to compare model to actual example)'},\n",
              " {'abstract': 'Mental illness, including depression, anxiety and bipolar disorder, accounts for a significant proportion of global disability and poses a substantial social, economic and heath burden. Treatment is presently dominated by pharmacotherapy, such as antidepressants, and psychotherapy, such as cognitive behavioural therapy; however, such treatments avert less than half of the disease burden, suggesting that additional strategies are needed to prevent and treat mental disorders. There are now consistent mechanistic, observational and interventional data to suggest diet quality may be a modifiable risk factor for mental illness. This review provides an overview of the nutritional psychiatry field. It includes a discussion of the neurobiological mechanisms likely modulated by diet, the use of dietary and nutraceutical interventions in mental disorders, and recommendations for further research. Potential biological pathways related to mental disorders include inflammation, oxidative stress, the gut microbiome, epigenetic modifications and neuroplasticity. Consistent epidemiological evidence, particularly for depression, suggests an association between measures of diet quality and mental health, across multiple populations and age groups; these do not appear to be explained by other demographic, lifestyle factors or reverse causality. Our recently published intervention trial provides preliminary clinical evidence that dietary interventions in clinically diagnosed populations are feasible and can provide significant clinical benefit. Furthermore, nutraceuticals including n-3 fatty acids, folate, S-adenosylmethionine, N-acetyl cysteine and probiotics, among others, are promising avenues for future research. Continued research is now required to investigate the efficacy of intervention studies in large cohorts and within clinically relevant populations, particularly in patients with schizophrenia, bipolar and anxiety disorders.',\n",
              "  'source': 'https://pubmed.ncbi.nlm.nih.gov/28942748/',\n",
              "  'details': 'Effect of nutrition on mental health'},\n",
              " {'abstract': \"Hepatitis C virus (HCV) and alcoholic liver disease (ALD), either alone or in combination, count for more than two thirds of all liver diseases in the Western world. There is no safe level of drinking in HCV-infected patients and the most effective goal for these patients is total abstinence. Baclofen, a GABA(B) receptor agonist, represents a promising pharmacotherapy for alcohol dependence (AD). Previously, we performed a randomized clinical trial (RCT), which demonstrated the safety and efficacy of baclofen in patients affected by AD and cirrhosis. The goal of this post-hoc analysis was to explore baclofen's effect in a subgroup of alcohol-dependent HCV-infected cirrhotic patients. Any patient with HCV infection was selected for this analysis. Among the 84 subjects randomized in the main trial, 24 alcohol-dependent cirrhotic patients had a HCV infection; 12 received baclofen 10mg t.i.d. and 12 received placebo for 12-weeks. With respect to the placebo group (3/12, 25.0%), a significantly higher number of patients who achieved and maintained total alcohol abstinence was found in the baclofen group (10/12, 83.3%; p=0.0123). Furthermore, in the baclofen group, compared to placebo, there was a significantly higher increase in albumin values from baseline (p=0.0132) and a trend toward a significant reduction in INR levels from baseline (p=0.0716). In conclusion, baclofen was safe and significantly more effective than placebo in promoting alcohol abstinence, and improving some Liver Function Tests (LFTs) (i.e. albumin, INR) in alcohol-dependent HCV-infected cirrhotic patients. Baclofen may represent a clinically relevant alcohol pharmacotherapy for these patients.\",\n",
              "  'source': 'https://pubmed.ncbi.nlm.nih.gov/22244707/',\n",
              "  'details': 'Baclofen promotes alcohol abstinence in alcohol dependent cirrhotic patients with hepatitis C virus (HCV) infection'}]"
            ]
          },
          "metadata": {},
          "execution_count": 128
        }
      ]
    },
    {
      "cell_type": "code",
      "source": [
        "# See what our example abstracts look like\n",
        "abstracts = pd.DataFrame(example_abstracts)\n",
        "abstracts"
      ],
      "metadata": {
        "colab": {
          "base_uri": "https://localhost:8080/",
          "height": 174
        },
        "id": "4cyqr5zjORkw",
        "outputId": "743c5adc-49f0-4606-bf7d-14d1765a3402"
      },
      "execution_count": null,
      "outputs": [
        {
          "output_type": "execute_result",
          "data": {
            "text/plain": [
              "                                            abstract  \\\n",
              "0  This RCT examined the efficacy of a manualized...   \n",
              "1  Postpartum depression (PPD) is the most preval...   \n",
              "2  Mental illness, including depression, anxiety ...   \n",
              "3  Hepatitis C virus (HCV) and alcoholic liver di...   \n",
              "\n",
              "                                      source  \\\n",
              "0  https://pubmed.ncbi.nlm.nih.gov/20232240/   \n",
              "1  https://pubmed.ncbi.nlm.nih.gov/28012571/   \n",
              "2  https://pubmed.ncbi.nlm.nih.gov/28942748/   \n",
              "3  https://pubmed.ncbi.nlm.nih.gov/22244707/   \n",
              "\n",
              "                                             details  \n",
              "0  RCT of a manualized social treatment for high-...  \n",
              "1  Formatting removed (can be used to compare mod...  \n",
              "2               Effect of nutrition on mental health  \n",
              "3  Baclofen promotes alcohol abstinence in alcoho...  "
            ],
            "text/html": [
              "\n",
              "  <div id=\"df-75f41db6-4518-48ae-a4ad-2b707e839080\" class=\"colab-df-container\">\n",
              "    <div>\n",
              "<style scoped>\n",
              "    .dataframe tbody tr th:only-of-type {\n",
              "        vertical-align: middle;\n",
              "    }\n",
              "\n",
              "    .dataframe tbody tr th {\n",
              "        vertical-align: top;\n",
              "    }\n",
              "\n",
              "    .dataframe thead th {\n",
              "        text-align: right;\n",
              "    }\n",
              "</style>\n",
              "<table border=\"1\" class=\"dataframe\">\n",
              "  <thead>\n",
              "    <tr style=\"text-align: right;\">\n",
              "      <th></th>\n",
              "      <th>abstract</th>\n",
              "      <th>source</th>\n",
              "      <th>details</th>\n",
              "    </tr>\n",
              "  </thead>\n",
              "  <tbody>\n",
              "    <tr>\n",
              "      <th>0</th>\n",
              "      <td>This RCT examined the efficacy of a manualized...</td>\n",
              "      <td>https://pubmed.ncbi.nlm.nih.gov/20232240/</td>\n",
              "      <td>RCT of a manualized social treatment for high-...</td>\n",
              "    </tr>\n",
              "    <tr>\n",
              "      <th>1</th>\n",
              "      <td>Postpartum depression (PPD) is the most preval...</td>\n",
              "      <td>https://pubmed.ncbi.nlm.nih.gov/28012571/</td>\n",
              "      <td>Formatting removed (can be used to compare mod...</td>\n",
              "    </tr>\n",
              "    <tr>\n",
              "      <th>2</th>\n",
              "      <td>Mental illness, including depression, anxiety ...</td>\n",
              "      <td>https://pubmed.ncbi.nlm.nih.gov/28942748/</td>\n",
              "      <td>Effect of nutrition on mental health</td>\n",
              "    </tr>\n",
              "    <tr>\n",
              "      <th>3</th>\n",
              "      <td>Hepatitis C virus (HCV) and alcoholic liver di...</td>\n",
              "      <td>https://pubmed.ncbi.nlm.nih.gov/22244707/</td>\n",
              "      <td>Baclofen promotes alcohol abstinence in alcoho...</td>\n",
              "    </tr>\n",
              "  </tbody>\n",
              "</table>\n",
              "</div>\n",
              "    <div class=\"colab-df-buttons\">\n",
              "\n",
              "  <div class=\"colab-df-container\">\n",
              "    <button class=\"colab-df-convert\" onclick=\"convertToInteractive('df-75f41db6-4518-48ae-a4ad-2b707e839080')\"\n",
              "            title=\"Convert this dataframe to an interactive table.\"\n",
              "            style=\"display:none;\">\n",
              "\n",
              "  <svg xmlns=\"http://www.w3.org/2000/svg\" height=\"24px\" viewBox=\"0 -960 960 960\">\n",
              "    <path d=\"M120-120v-720h720v720H120Zm60-500h600v-160H180v160Zm220 220h160v-160H400v160Zm0 220h160v-160H400v160ZM180-400h160v-160H180v160Zm440 0h160v-160H620v160ZM180-180h160v-160H180v160Zm440 0h160v-160H620v160Z\"/>\n",
              "  </svg>\n",
              "    </button>\n",
              "\n",
              "  <style>\n",
              "    .colab-df-container {\n",
              "      display:flex;\n",
              "      gap: 12px;\n",
              "    }\n",
              "\n",
              "    .colab-df-convert {\n",
              "      background-color: #E8F0FE;\n",
              "      border: none;\n",
              "      border-radius: 50%;\n",
              "      cursor: pointer;\n",
              "      display: none;\n",
              "      fill: #1967D2;\n",
              "      height: 32px;\n",
              "      padding: 0 0 0 0;\n",
              "      width: 32px;\n",
              "    }\n",
              "\n",
              "    .colab-df-convert:hover {\n",
              "      background-color: #E2EBFA;\n",
              "      box-shadow: 0px 1px 2px rgba(60, 64, 67, 0.3), 0px 1px 3px 1px rgba(60, 64, 67, 0.15);\n",
              "      fill: #174EA6;\n",
              "    }\n",
              "\n",
              "    .colab-df-buttons div {\n",
              "      margin-bottom: 4px;\n",
              "    }\n",
              "\n",
              "    [theme=dark] .colab-df-convert {\n",
              "      background-color: #3B4455;\n",
              "      fill: #D2E3FC;\n",
              "    }\n",
              "\n",
              "    [theme=dark] .colab-df-convert:hover {\n",
              "      background-color: #434B5C;\n",
              "      box-shadow: 0px 1px 3px 1px rgba(0, 0, 0, 0.15);\n",
              "      filter: drop-shadow(0px 1px 2px rgba(0, 0, 0, 0.3));\n",
              "      fill: #FFFFFF;\n",
              "    }\n",
              "  </style>\n",
              "\n",
              "    <script>\n",
              "      const buttonEl =\n",
              "        document.querySelector('#df-75f41db6-4518-48ae-a4ad-2b707e839080 button.colab-df-convert');\n",
              "      buttonEl.style.display =\n",
              "        google.colab.kernel.accessAllowed ? 'block' : 'none';\n",
              "\n",
              "      async function convertToInteractive(key) {\n",
              "        const element = document.querySelector('#df-75f41db6-4518-48ae-a4ad-2b707e839080');\n",
              "        const dataTable =\n",
              "          await google.colab.kernel.invokeFunction('convertToInteractive',\n",
              "                                                    [key], {});\n",
              "        if (!dataTable) return;\n",
              "\n",
              "        const docLinkHtml = 'Like what you see? Visit the ' +\n",
              "          '<a target=\"_blank\" href=https://colab.research.google.com/notebooks/data_table.ipynb>data table notebook</a>'\n",
              "          + ' to learn more about interactive tables.';\n",
              "        element.innerHTML = '';\n",
              "        dataTable['output_type'] = 'display_data';\n",
              "        await google.colab.output.renderOutput(dataTable, element);\n",
              "        const docLink = document.createElement('div');\n",
              "        docLink.innerHTML = docLinkHtml;\n",
              "        element.appendChild(docLink);\n",
              "      }\n",
              "    </script>\n",
              "  </div>\n",
              "\n",
              "\n",
              "<div id=\"df-fcdc6e4c-56b2-4e8d-a8f7-849e27ab0eb3\">\n",
              "  <button class=\"colab-df-quickchart\" onclick=\"quickchart('df-fcdc6e4c-56b2-4e8d-a8f7-849e27ab0eb3')\"\n",
              "            title=\"Suggest charts\"\n",
              "            style=\"display:none;\">\n",
              "\n",
              "<svg xmlns=\"http://www.w3.org/2000/svg\" height=\"24px\"viewBox=\"0 0 24 24\"\n",
              "     width=\"24px\">\n",
              "    <g>\n",
              "        <path d=\"M19 3H5c-1.1 0-2 .9-2 2v14c0 1.1.9 2 2 2h14c1.1 0 2-.9 2-2V5c0-1.1-.9-2-2-2zM9 17H7v-7h2v7zm4 0h-2V7h2v10zm4 0h-2v-4h2v4z\"/>\n",
              "    </g>\n",
              "</svg>\n",
              "  </button>\n",
              "\n",
              "<style>\n",
              "  .colab-df-quickchart {\n",
              "      --bg-color: #E8F0FE;\n",
              "      --fill-color: #1967D2;\n",
              "      --hover-bg-color: #E2EBFA;\n",
              "      --hover-fill-color: #174EA6;\n",
              "      --disabled-fill-color: #AAA;\n",
              "      --disabled-bg-color: #DDD;\n",
              "  }\n",
              "\n",
              "  [theme=dark] .colab-df-quickchart {\n",
              "      --bg-color: #3B4455;\n",
              "      --fill-color: #D2E3FC;\n",
              "      --hover-bg-color: #434B5C;\n",
              "      --hover-fill-color: #FFFFFF;\n",
              "      --disabled-bg-color: #3B4455;\n",
              "      --disabled-fill-color: #666;\n",
              "  }\n",
              "\n",
              "  .colab-df-quickchart {\n",
              "    background-color: var(--bg-color);\n",
              "    border: none;\n",
              "    border-radius: 50%;\n",
              "    cursor: pointer;\n",
              "    display: none;\n",
              "    fill: var(--fill-color);\n",
              "    height: 32px;\n",
              "    padding: 0;\n",
              "    width: 32px;\n",
              "  }\n",
              "\n",
              "  .colab-df-quickchart:hover {\n",
              "    background-color: var(--hover-bg-color);\n",
              "    box-shadow: 0 1px 2px rgba(60, 64, 67, 0.3), 0 1px 3px 1px rgba(60, 64, 67, 0.15);\n",
              "    fill: var(--button-hover-fill-color);\n",
              "  }\n",
              "\n",
              "  .colab-df-quickchart-complete:disabled,\n",
              "  .colab-df-quickchart-complete:disabled:hover {\n",
              "    background-color: var(--disabled-bg-color);\n",
              "    fill: var(--disabled-fill-color);\n",
              "    box-shadow: none;\n",
              "  }\n",
              "\n",
              "  .colab-df-spinner {\n",
              "    border: 2px solid var(--fill-color);\n",
              "    border-color: transparent;\n",
              "    border-bottom-color: var(--fill-color);\n",
              "    animation:\n",
              "      spin 1s steps(1) infinite;\n",
              "  }\n",
              "\n",
              "  @keyframes spin {\n",
              "    0% {\n",
              "      border-color: transparent;\n",
              "      border-bottom-color: var(--fill-color);\n",
              "      border-left-color: var(--fill-color);\n",
              "    }\n",
              "    20% {\n",
              "      border-color: transparent;\n",
              "      border-left-color: var(--fill-color);\n",
              "      border-top-color: var(--fill-color);\n",
              "    }\n",
              "    30% {\n",
              "      border-color: transparent;\n",
              "      border-left-color: var(--fill-color);\n",
              "      border-top-color: var(--fill-color);\n",
              "      border-right-color: var(--fill-color);\n",
              "    }\n",
              "    40% {\n",
              "      border-color: transparent;\n",
              "      border-right-color: var(--fill-color);\n",
              "      border-top-color: var(--fill-color);\n",
              "    }\n",
              "    60% {\n",
              "      border-color: transparent;\n",
              "      border-right-color: var(--fill-color);\n",
              "    }\n",
              "    80% {\n",
              "      border-color: transparent;\n",
              "      border-right-color: var(--fill-color);\n",
              "      border-bottom-color: var(--fill-color);\n",
              "    }\n",
              "    90% {\n",
              "      border-color: transparent;\n",
              "      border-bottom-color: var(--fill-color);\n",
              "    }\n",
              "  }\n",
              "</style>\n",
              "\n",
              "  <script>\n",
              "    async function quickchart(key) {\n",
              "      const quickchartButtonEl =\n",
              "        document.querySelector('#' + key + ' button');\n",
              "      quickchartButtonEl.disabled = true;  // To prevent multiple clicks.\n",
              "      quickchartButtonEl.classList.add('colab-df-spinner');\n",
              "      try {\n",
              "        const charts = await google.colab.kernel.invokeFunction(\n",
              "            'suggestCharts', [key], {});\n",
              "      } catch (error) {\n",
              "        console.error('Error during call to suggestCharts:', error);\n",
              "      }\n",
              "      quickchartButtonEl.classList.remove('colab-df-spinner');\n",
              "      quickchartButtonEl.classList.add('colab-df-quickchart-complete');\n",
              "    }\n",
              "    (() => {\n",
              "      let quickchartButtonEl =\n",
              "        document.querySelector('#df-fcdc6e4c-56b2-4e8d-a8f7-849e27ab0eb3 button');\n",
              "      quickchartButtonEl.style.display =\n",
              "        google.colab.kernel.accessAllowed ? 'block' : 'none';\n",
              "    })();\n",
              "  </script>\n",
              "</div>\n",
              "\n",
              "  <div id=\"id_09b8108c-e0aa-47cc-aa4b-e46c94458f84\">\n",
              "    <style>\n",
              "      .colab-df-generate {\n",
              "        background-color: #E8F0FE;\n",
              "        border: none;\n",
              "        border-radius: 50%;\n",
              "        cursor: pointer;\n",
              "        display: none;\n",
              "        fill: #1967D2;\n",
              "        height: 32px;\n",
              "        padding: 0 0 0 0;\n",
              "        width: 32px;\n",
              "      }\n",
              "\n",
              "      .colab-df-generate:hover {\n",
              "        background-color: #E2EBFA;\n",
              "        box-shadow: 0px 1px 2px rgba(60, 64, 67, 0.3), 0px 1px 3px 1px rgba(60, 64, 67, 0.15);\n",
              "        fill: #174EA6;\n",
              "      }\n",
              "\n",
              "      [theme=dark] .colab-df-generate {\n",
              "        background-color: #3B4455;\n",
              "        fill: #D2E3FC;\n",
              "      }\n",
              "\n",
              "      [theme=dark] .colab-df-generate:hover {\n",
              "        background-color: #434B5C;\n",
              "        box-shadow: 0px 1px 3px 1px rgba(0, 0, 0, 0.15);\n",
              "        filter: drop-shadow(0px 1px 2px rgba(0, 0, 0, 0.3));\n",
              "        fill: #FFFFFF;\n",
              "      }\n",
              "    </style>\n",
              "    <button class=\"colab-df-generate\" onclick=\"generateWithVariable('abstracts')\"\n",
              "            title=\"Generate code using this dataframe.\"\n",
              "            style=\"display:none;\">\n",
              "\n",
              "  <svg xmlns=\"http://www.w3.org/2000/svg\" height=\"24px\"viewBox=\"0 0 24 24\"\n",
              "       width=\"24px\">\n",
              "    <path d=\"M7,19H8.4L18.45,9,17,7.55,7,17.6ZM5,21V16.75L18.45,3.32a2,2,0,0,1,2.83,0l1.4,1.43a1.91,1.91,0,0,1,.58,1.4,1.91,1.91,0,0,1-.58,1.4L9.25,21ZM18.45,9,17,7.55Zm-12,3A5.31,5.31,0,0,0,4.9,8.1,5.31,5.31,0,0,0,1,6.5,5.31,5.31,0,0,0,4.9,4.9,5.31,5.31,0,0,0,6.5,1,5.31,5.31,0,0,0,8.1,4.9,5.31,5.31,0,0,0,12,6.5,5.46,5.46,0,0,0,6.5,12Z\"/>\n",
              "  </svg>\n",
              "    </button>\n",
              "    <script>\n",
              "      (() => {\n",
              "      const buttonEl =\n",
              "        document.querySelector('#id_09b8108c-e0aa-47cc-aa4b-e46c94458f84 button.colab-df-generate');\n",
              "      buttonEl.style.display =\n",
              "        google.colab.kernel.accessAllowed ? 'block' : 'none';\n",
              "\n",
              "      buttonEl.onclick = () => {\n",
              "        google.colab.notebook.generateWithVariable('abstracts');\n",
              "      }\n",
              "      })();\n",
              "    </script>\n",
              "  </div>\n",
              "\n",
              "    </div>\n",
              "  </div>\n"
            ],
            "application/vnd.google.colaboratory.intrinsic+json": {
              "type": "dataframe",
              "variable_name": "abstracts",
              "summary": "{\n  \"name\": \"abstracts\",\n  \"rows\": 4,\n  \"fields\": [\n    {\n      \"column\": \"abstract\",\n      \"properties\": {\n        \"dtype\": \"string\",\n        \"num_unique_values\": 4,\n        \"samples\": [\n          \"Postpartum depression (PPD) is the most prevalent mood disorder associated with childbirth. No single cause of PPD has been identified, however the increased risk of nutritional deficiencies incurred through the high nutritional requirements of pregnancy may play a role in the pathology of depressive symptoms. Three nutritional interventions have drawn particular interest as possible non-invasive and cost-effective prevention and/or treatment strategies for PPD; omega-3 (n-3) long chain polyunsaturated fatty acids (LCPUFA), vitamin D and overall diet. We searched for meta-analyses of randomised controlled trials (RCT's) of nutritional interventions during the perinatal period with PPD as an outcome, and checked for any trials published subsequently to the meta-analyses. Fish oil: Eleven RCT's of prenatal fish oil supplementation RCT's show null and positive effects on PPD symptoms. Vitamin D: no relevant RCT's were identified, however seven observational studies of maternal vitamin D levels with PPD outcomes showed inconsistent associations. Diet: Two Australian RCT's with dietary advice interventions in pregnancy had a positive and null result on PPD. With the exception of fish oil, few RCT's with nutritional interventions during pregnancy assess PPD. Further research is needed to determine whether nutritional intervention strategies during pregnancy can protect against symptoms of PPD. Given the prevalence of PPD and ease of administering PPD measures, we recommend future prenatal nutritional RCT's include PPD as an outcome.\",\n          \"Hepatitis C virus (HCV) and alcoholic liver disease (ALD), either alone or in combination, count for more than two thirds of all liver diseases in the Western world. There is no safe level of drinking in HCV-infected patients and the most effective goal for these patients is total abstinence. Baclofen, a GABA(B) receptor agonist, represents a promising pharmacotherapy for alcohol dependence (AD). Previously, we performed a randomized clinical trial (RCT), which demonstrated the safety and efficacy of baclofen in patients affected by AD and cirrhosis. The goal of this post-hoc analysis was to explore baclofen's effect in a subgroup of alcohol-dependent HCV-infected cirrhotic patients. Any patient with HCV infection was selected for this analysis. Among the 84 subjects randomized in the main trial, 24 alcohol-dependent cirrhotic patients had a HCV infection; 12 received baclofen 10mg t.i.d. and 12 received placebo for 12-weeks. With respect to the placebo group (3/12, 25.0%), a significantly higher number of patients who achieved and maintained total alcohol abstinence was found in the baclofen group (10/12, 83.3%; p=0.0123). Furthermore, in the baclofen group, compared to placebo, there was a significantly higher increase in albumin values from baseline (p=0.0132) and a trend toward a significant reduction in INR levels from baseline (p=0.0716). In conclusion, baclofen was safe and significantly more effective than placebo in promoting alcohol abstinence, and improving some Liver Function Tests (LFTs) (i.e. albumin, INR) in alcohol-dependent HCV-infected cirrhotic patients. Baclofen may represent a clinically relevant alcohol pharmacotherapy for these patients.\",\n          \"This RCT examined the efficacy of a manualized social intervention for children with HFASDs. Participants were randomly assigned to treatment or wait-list conditions. Treatment included instruction and therapeutic activities targeting social skills, face-emotion recognition, interest expansion, and interpretation of non-literal language. A response-cost program was applied to reduce problem behaviors and foster skills acquisition. Significant treatment effects were found for five of seven primary outcome measures (parent ratings and direct child measures). Secondary measures based on staff ratings (treatment group only) corroborated gains reported by parents. High levels of parent, child and staff satisfaction were reported, along with high levels of treatment fidelity. Standardized effect size estimates were primarily in the medium and large ranges and favored the treatment group.\"\n        ],\n        \"semantic_type\": \"\",\n        \"description\": \"\"\n      }\n    },\n    {\n      \"column\": \"source\",\n      \"properties\": {\n        \"dtype\": \"string\",\n        \"num_unique_values\": 4,\n        \"samples\": [\n          \"https://pubmed.ncbi.nlm.nih.gov/28012571/\",\n          \"https://pubmed.ncbi.nlm.nih.gov/22244707/\",\n          \"https://pubmed.ncbi.nlm.nih.gov/20232240/\"\n        ],\n        \"semantic_type\": \"\",\n        \"description\": \"\"\n      }\n    },\n    {\n      \"column\": \"details\",\n      \"properties\": {\n        \"dtype\": \"string\",\n        \"num_unique_values\": 4,\n        \"samples\": [\n          \"Formatting removed (can be used to compare model to actual example)\",\n          \"Baclofen promotes alcohol abstinence in alcohol dependent cirrhotic patients with hepatitis C virus (HCV) infection\",\n          \"RCT of a manualized social treatment for high-functioning autism spectrum disorders\"\n        ],\n        \"semantic_type\": \"\",\n        \"description\": \"\"\n      }\n    }\n  ]\n}"
            }
          },
          "metadata": {},
          "execution_count": 129
        }
      ]
    },
    {
      "cell_type": "code",
      "source": [
        "# Create sentencizer - Source: https://spacy.io/usage/linguistic-features#sbd\n",
        "from spacy.lang.en import English\n",
        "nlp = English() # setup English sentence parser\n",
        "\n",
        "# New version of spaCy\n",
        "sentencizer = nlp.add_pipe(\"sentencizer\") # create sentence splitting pipeline object\n",
        "\n",
        "# Old version of spaCy\n",
        "# sentencizer = nlp.create_pipe(\"sentencizer\") # create sentence splitting pipeline object\n",
        "# nlp.add_pipe(sentencizer) # add sentence splitting pipeline object to sentence parser\n",
        "\n",
        "# Create \"doc\" of parsed sequences, change index for a different abstract\n",
        "doc = nlp(example_abstracts[0][\"abstract\"])\n",
        "abstract_lines = [str(sent) for sent in list(doc.sents)] # return detected sentences from doc in string type (not spaCy token type)\n",
        "abstract_lines"
      ],
      "metadata": {
        "colab": {
          "base_uri": "https://localhost:8080/"
        },
        "id": "VTqPEfHAOU5x",
        "outputId": "c1e275b1-e143-4f9b-b1e3-e2c336d406ab"
      },
      "execution_count": null,
      "outputs": [
        {
          "output_type": "execute_result",
          "data": {
            "text/plain": [
              "['This RCT examined the efficacy of a manualized social intervention for children with HFASDs.',\n",
              " 'Participants were randomly assigned to treatment or wait-list conditions.',\n",
              " 'Treatment included instruction and therapeutic activities targeting social skills, face-emotion recognition, interest expansion, and interpretation of non-literal language.',\n",
              " 'A response-cost program was applied to reduce problem behaviors and foster skills acquisition.',\n",
              " 'Significant treatment effects were found for five of seven primary outcome measures (parent ratings and direct child measures).',\n",
              " 'Secondary measures based on staff ratings (treatment group only) corroborated gains reported by parents.',\n",
              " 'High levels of parent, child and staff satisfaction were reported, along with high levels of treatment fidelity.',\n",
              " 'Standardized effect size estimates were primarily in the medium and large ranges and favored the treatment group.']"
            ]
          },
          "metadata": {},
          "execution_count": 130
        }
      ]
    },
    {
      "cell_type": "code",
      "source": [
        "# Get total number of lines\n",
        "total_lines_in_sample = len(abstract_lines)\n",
        "\n",
        "# Go through each line in abstract and create a list of dictionaries containing features for each line\n",
        "sample_lines = []\n",
        "for i, line in enumerate(abstract_lines):\n",
        "  sample_dict = {}\n",
        "  sample_dict[\"text\"] = str(line)\n",
        "  sample_dict[\"line_number\"] = i\n",
        "  sample_dict[\"total_lines\"] = total_lines_in_sample - 1\n",
        "  sample_lines.append(sample_dict)\n",
        "sample_lines"
      ],
      "metadata": {
        "colab": {
          "base_uri": "https://localhost:8080/"
        },
        "id": "REt52-4QOaha",
        "outputId": "197eee40-3f65-41ec-bd63-70dbb0d988b7"
      },
      "execution_count": null,
      "outputs": [
        {
          "output_type": "execute_result",
          "data": {
            "text/plain": [
              "[{'text': 'This RCT examined the efficacy of a manualized social intervention for children with HFASDs.',\n",
              "  'line_number': 0,\n",
              "  'total_lines': 7},\n",
              " {'text': 'Participants were randomly assigned to treatment or wait-list conditions.',\n",
              "  'line_number': 1,\n",
              "  'total_lines': 7},\n",
              " {'text': 'Treatment included instruction and therapeutic activities targeting social skills, face-emotion recognition, interest expansion, and interpretation of non-literal language.',\n",
              "  'line_number': 2,\n",
              "  'total_lines': 7},\n",
              " {'text': 'A response-cost program was applied to reduce problem behaviors and foster skills acquisition.',\n",
              "  'line_number': 3,\n",
              "  'total_lines': 7},\n",
              " {'text': 'Significant treatment effects were found for five of seven primary outcome measures (parent ratings and direct child measures).',\n",
              "  'line_number': 4,\n",
              "  'total_lines': 7},\n",
              " {'text': 'Secondary measures based on staff ratings (treatment group only) corroborated gains reported by parents.',\n",
              "  'line_number': 5,\n",
              "  'total_lines': 7},\n",
              " {'text': 'High levels of parent, child and staff satisfaction were reported, along with high levels of treatment fidelity.',\n",
              "  'line_number': 6,\n",
              "  'total_lines': 7},\n",
              " {'text': 'Standardized effect size estimates were primarily in the medium and large ranges and favored the treatment group.',\n",
              "  'line_number': 7,\n",
              "  'total_lines': 7}]"
            ]
          },
          "metadata": {},
          "execution_count": 131
        }
      ]
    },
    {
      "cell_type": "code",
      "source": [
        "# Get all line_number values from sample abstract\n",
        "test_abstract_line_numbers = [line[\"line_number\"] for line in sample_lines]\n",
        "# One-hot encode to same depth as training data, so model accepts right input shape\n",
        "test_abstract_line_numbers_one_hot = tf.one_hot(test_abstract_line_numbers, depth=15)\n",
        "test_abstract_line_numbers_one_hot"
      ],
      "metadata": {
        "colab": {
          "base_uri": "https://localhost:8080/"
        },
        "id": "N6LY8PbGOdqv",
        "outputId": "5d2a73d5-534d-4386-80ae-2b089b2b2895"
      },
      "execution_count": null,
      "outputs": [
        {
          "output_type": "execute_result",
          "data": {
            "text/plain": [
              "<tf.Tensor: shape=(8, 15), dtype=float32, numpy=\n",
              "array([[1., 0., 0., 0., 0., 0., 0., 0., 0., 0., 0., 0., 0., 0., 0.],\n",
              "       [0., 1., 0., 0., 0., 0., 0., 0., 0., 0., 0., 0., 0., 0., 0.],\n",
              "       [0., 0., 1., 0., 0., 0., 0., 0., 0., 0., 0., 0., 0., 0., 0.],\n",
              "       [0., 0., 0., 1., 0., 0., 0., 0., 0., 0., 0., 0., 0., 0., 0.],\n",
              "       [0., 0., 0., 0., 1., 0., 0., 0., 0., 0., 0., 0., 0., 0., 0.],\n",
              "       [0., 0., 0., 0., 0., 1., 0., 0., 0., 0., 0., 0., 0., 0., 0.],\n",
              "       [0., 0., 0., 0., 0., 0., 1., 0., 0., 0., 0., 0., 0., 0., 0.],\n",
              "       [0., 0., 0., 0., 0., 0., 0., 1., 0., 0., 0., 0., 0., 0., 0.]],\n",
              "      dtype=float32)>"
            ]
          },
          "metadata": {},
          "execution_count": 132
        }
      ]
    },
    {
      "cell_type": "code",
      "source": [
        "# Get all total_lines values from sample abstract\n",
        "test_abstract_total_lines = [line[\"total_lines\"] for line in sample_lines]\n",
        "# One-hot encode to same depth as training data, so model accepts right input shape\n",
        "test_abstract_total_lines_one_hot = tf.one_hot(test_abstract_total_lines, depth=20)\n",
        "test_abstract_total_lines_one_hot"
      ],
      "metadata": {
        "colab": {
          "base_uri": "https://localhost:8080/"
        },
        "id": "6BV0CbQ7OgRF",
        "outputId": "321a0314-a81d-421b-93d3-7c4d70bc82ea"
      },
      "execution_count": null,
      "outputs": [
        {
          "output_type": "execute_result",
          "data": {
            "text/plain": [
              "<tf.Tensor: shape=(8, 20), dtype=float32, numpy=\n",
              "array([[0., 0., 0., 0., 0., 0., 0., 1., 0., 0., 0., 0., 0., 0., 0., 0.,\n",
              "        0., 0., 0., 0.],\n",
              "       [0., 0., 0., 0., 0., 0., 0., 1., 0., 0., 0., 0., 0., 0., 0., 0.,\n",
              "        0., 0., 0., 0.],\n",
              "       [0., 0., 0., 0., 0., 0., 0., 1., 0., 0., 0., 0., 0., 0., 0., 0.,\n",
              "        0., 0., 0., 0.],\n",
              "       [0., 0., 0., 0., 0., 0., 0., 1., 0., 0., 0., 0., 0., 0., 0., 0.,\n",
              "        0., 0., 0., 0.],\n",
              "       [0., 0., 0., 0., 0., 0., 0., 1., 0., 0., 0., 0., 0., 0., 0., 0.,\n",
              "        0., 0., 0., 0.],\n",
              "       [0., 0., 0., 0., 0., 0., 0., 1., 0., 0., 0., 0., 0., 0., 0., 0.,\n",
              "        0., 0., 0., 0.],\n",
              "       [0., 0., 0., 0., 0., 0., 0., 1., 0., 0., 0., 0., 0., 0., 0., 0.,\n",
              "        0., 0., 0., 0.],\n",
              "       [0., 0., 0., 0., 0., 0., 0., 1., 0., 0., 0., 0., 0., 0., 0., 0.,\n",
              "        0., 0., 0., 0.]], dtype=float32)>"
            ]
          },
          "metadata": {},
          "execution_count": 133
        }
      ]
    },
    {
      "cell_type": "code",
      "source": [
        "# Split abstract lines into characters\n",
        "abstract_chars = [split_chars(sentence) for sentence in abstract_lines]\n",
        "abstract_chars"
      ],
      "metadata": {
        "colab": {
          "base_uri": "https://localhost:8080/"
        },
        "id": "N0DPm5nlOiWQ",
        "outputId": "d76b48d3-f481-42bb-993d-8706d3e23fbf"
      },
      "execution_count": null,
      "outputs": [
        {
          "output_type": "execute_result",
          "data": {
            "text/plain": [
              "['T h i s   R C T   e x a m i n e d   t h e   e f f i c a c y   o f   a   m a n u a l i z e d   s o c i a l   i n t e r v e n t i o n   f o r   c h i l d r e n   w i t h   H F A S D s .',\n",
              " 'P a r t i c i p a n t s   w e r e   r a n d o m l y   a s s i g n e d   t o   t r e a t m e n t   o r   w a i t - l i s t   c o n d i t i o n s .',\n",
              " 'T r e a t m e n t   i n c l u d e d   i n s t r u c t i o n   a n d   t h e r a p e u t i c   a c t i v i t i e s   t a r g e t i n g   s o c i a l   s k i l l s ,   f a c e - e m o t i o n   r e c o g n i t i o n ,   i n t e r e s t   e x p a n s i o n ,   a n d   i n t e r p r e t a t i o n   o f   n o n - l i t e r a l   l a n g u a g e .',\n",
              " 'A   r e s p o n s e - c o s t   p r o g r a m   w a s   a p p l i e d   t o   r e d u c e   p r o b l e m   b e h a v i o r s   a n d   f o s t e r   s k i l l s   a c q u i s i t i o n .',\n",
              " 'S i g n i f i c a n t   t r e a t m e n t   e f f e c t s   w e r e   f o u n d   f o r   f i v e   o f   s e v e n   p r i m a r y   o u t c o m e   m e a s u r e s   ( p a r e n t   r a t i n g s   a n d   d i r e c t   c h i l d   m e a s u r e s ) .',\n",
              " 'S e c o n d a r y   m e a s u r e s   b a s e d   o n   s t a f f   r a t i n g s   ( t r e a t m e n t   g r o u p   o n l y )   c o r r o b o r a t e d   g a i n s   r e p o r t e d   b y   p a r e n t s .',\n",
              " 'H i g h   l e v e l s   o f   p a r e n t ,   c h i l d   a n d   s t a f f   s a t i s f a c t i o n   w e r e   r e p o r t e d ,   a l o n g   w i t h   h i g h   l e v e l s   o f   t r e a t m e n t   f i d e l i t y .',\n",
              " 'S t a n d a r d i z e d   e f f e c t   s i z e   e s t i m a t e s   w e r e   p r i m a r i l y   i n   t h e   m e d i u m   a n d   l a r g e   r a n g e s   a n d   f a v o r e d   t h e   t r e a t m e n t   g r o u p .']"
            ]
          },
          "metadata": {},
          "execution_count": 134
        }
      ]
    },
    {
      "cell_type": "code",
      "source": [
        "# Make predictions on sample abstract features\n",
        "%%time\n",
        "test_abstract_pred_probs = loaded_model.predict(x=(test_abstract_line_numbers_one_hot,\n",
        "                                                   test_abstract_total_lines_one_hot,\n",
        "                                                   tf.constant(abstract_lines),\n",
        "                                                   tf.constant(abstract_chars)))\n",
        "test_abstract_pred_probs"
      ],
      "metadata": {
        "colab": {
          "base_uri": "https://localhost:8080/"
        },
        "id": "HVS02DzROkiR",
        "outputId": "b0f422fd-ac6b-451c-e8b1-a34f5e82674b"
      },
      "execution_count": null,
      "outputs": [
        {
          "output_type": "stream",
          "name": "stdout",
          "text": [
            "1/1 [==============================] - 2s 2s/step\n",
            "CPU times: user 2.18 s, sys: 20.5 ms, total: 2.2 s\n",
            "Wall time: 2.48 s\n"
          ]
        },
        {
          "output_type": "execute_result",
          "data": {
            "text/plain": [
              "array([[0.26448247, 0.11054239, 0.01762425, 0.5750656 , 0.03228522],\n",
              "       [0.06927065, 0.03808299, 0.7078093 , 0.09543166, 0.08940545],\n",
              "       [0.13772693, 0.04937518, 0.54679686, 0.16341296, 0.10268812],\n",
              "       [0.09659058, 0.17111641, 0.5257438 , 0.07601642, 0.1305327 ],\n",
              "       [0.04459695, 0.08888112, 0.45675462, 0.04623033, 0.36353692],\n",
              "       [0.03265214, 0.14626433, 0.517485  , 0.04088319, 0.2627153 ],\n",
              "       [0.03290153, 0.1779621 , 0.07166826, 0.02870873, 0.68875927],\n",
              "       [0.01843721, 0.13495173, 0.32084185, 0.03389724, 0.49187198]],\n",
              "      dtype=float32)"
            ]
          },
          "metadata": {},
          "execution_count": 135
        }
      ]
    },
    {
      "cell_type": "code",
      "source": [
        "# Turn prediction probabilities into prediction classes\n",
        "test_abstract_preds = tf.argmax(test_abstract_pred_probs, axis=1)\n",
        "test_abstract_preds"
      ],
      "metadata": {
        "colab": {
          "base_uri": "https://localhost:8080/"
        },
        "id": "1rm_yXfpOqBx",
        "outputId": "0b2ea963-f560-441e-c25c-6b92e21db2b0"
      },
      "execution_count": null,
      "outputs": [
        {
          "output_type": "execute_result",
          "data": {
            "text/plain": [
              "<tf.Tensor: shape=(8,), dtype=int64, numpy=array([3, 2, 2, 2, 2, 2, 4, 4])>"
            ]
          },
          "metadata": {},
          "execution_count": 136
        }
      ]
    },
    {
      "cell_type": "code",
      "source": [
        "# Turn prediction class integers into string class names\n",
        "test_abstract_pred_classes = [label_encoder.classes_[i] for i in test_abstract_preds]\n",
        "test_abstract_pred_classes"
      ],
      "metadata": {
        "colab": {
          "base_uri": "https://localhost:8080/"
        },
        "id": "qR_YEL7tOsx5",
        "outputId": "cf1e2746-0118-4c6e-cb9f-31706e362db8"
      },
      "execution_count": null,
      "outputs": [
        {
          "output_type": "execute_result",
          "data": {
            "text/plain": [
              "['OBJECTIVE',\n",
              " 'METHODS',\n",
              " 'METHODS',\n",
              " 'METHODS',\n",
              " 'METHODS',\n",
              " 'METHODS',\n",
              " 'RESULTS',\n",
              " 'RESULTS']"
            ]
          },
          "metadata": {},
          "execution_count": 137
        }
      ]
    },
    {
      "cell_type": "code",
      "source": [
        "# Visualize abstract lines and predicted sequence labels\n",
        "for i, line in enumerate(abstract_lines):\n",
        "  print(f\"{test_abstract_pred_classes[i]}: {line}\")"
      ],
      "metadata": {
        "colab": {
          "base_uri": "https://localhost:8080/"
        },
        "id": "yDe6nA3dOuyl",
        "outputId": "1a6402c2-6018-4c8b-a4c4-b2015242fad0"
      },
      "execution_count": null,
      "outputs": [
        {
          "output_type": "stream",
          "name": "stdout",
          "text": [
            "OBJECTIVE: This RCT examined the efficacy of a manualized social intervention for children with HFASDs.\n",
            "METHODS: Participants were randomly assigned to treatment or wait-list conditions.\n",
            "METHODS: Treatment included instruction and therapeutic activities targeting social skills, face-emotion recognition, interest expansion, and interpretation of non-literal language.\n",
            "METHODS: A response-cost program was applied to reduce problem behaviors and foster skills acquisition.\n",
            "METHODS: Significant treatment effects were found for five of seven primary outcome measures (parent ratings and direct child measures).\n",
            "METHODS: Secondary measures based on staff ratings (treatment group only) corroborated gains reported by parents.\n",
            "RESULTS: High levels of parent, child and staff satisfaction were reported, along with high levels of treatment fidelity.\n",
            "RESULTS: Standardized effect size estimates were primarily in the medium and large ranges and favored the treatment group.\n"
          ]
        }
      ]
    },
    {
      "cell_type": "code",
      "source": [],
      "metadata": {
        "id": "YildOiWsOw6t"
      },
      "execution_count": null,
      "outputs": []
    }
  ],
  "metadata": {
    "accelerator": "GPU",
    "colab": {
      "gpuType": "T4",
      "provenance": [],
      "authorship_tag": "ABX9TyP4GDvYqyoLWAHU+HT6+VpM",
      "include_colab_link": true
    },
    "kernelspec": {
      "display_name": "Python 3",
      "name": "python3"
    },
    "language_info": {
      "name": "python"
    }
  },
  "nbformat": 4,
  "nbformat_minor": 0
}